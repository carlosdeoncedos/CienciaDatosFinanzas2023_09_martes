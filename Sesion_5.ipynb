{
 "cells": [
  {
   "cell_type": "markdown",
   "id": "1f15194c-e092-405d-ac34-d1d541a35619",
   "metadata": {},
   "source": [
    "# <font color='#2B17B0'>CIENCIA DE DATOS APLICADA A FINANZAS</font>\n",
    "Sesión 5, 2023-10-09/10<br>\n",
    "Carlos Crespo Elizondo, MSF<br>\n",
    "EGADE BUSINESS SCHOOL"
   ]
  },
  {
   "cell_type": "markdown",
   "id": "c89581be-d265-461a-9213-b456ae9a4e1f",
   "metadata": {},
   "source": [
    "## <font color='#2B17B0'>COMENTARIOS INICIALES</font>"
   ]
  },
  {
   "cell_type": "markdown",
   "id": "96a00aa7-5361-4110-a251-d9d4bc0b72c0",
   "metadata": {
    "tags": []
   },
   "source": [
    "### Contacto"
   ]
  },
  {
   "cell_type": "markdown",
   "id": "8a0bc23f-9917-46d1-be5c-ecc2a1c2b250",
   "metadata": {},
   "source": [
    "email: carlos@oncedos.com"
   ]
  },
  {
   "cell_type": "markdown",
   "id": "172c460b-97df-45c3-b995-d82464dec4a3",
   "metadata": {
    "tags": []
   },
   "source": [
    "### Asesorías"
   ]
  },
  {
   "cell_type": "markdown",
   "id": "4226863b-561c-41b3-be07-489c8d2953cd",
   "metadata": {},
   "source": [
    "Bajo previa cita con un día de anticipación:"
   ]
  },
  {
   "cell_type": "markdown",
   "id": "3814b33d-ff4f-4740-be7b-c90ad14b23ff",
   "metadata": {
    "tags": []
   },
   "source": [
    "### GitHub:  Clonar repositorio de la clase\n",
    "URL del repositorio:<br>\n",
    "https://github.com/carlosdeoncedos/CienciaDatosFinanzas2023_09_martes.git <br>\n",
    "\n",
    "Para verificar si GitHub está instaldo corre el siguiente comando desde la ventana de terminal:\n",
    "`git --version`.  Si está instalado, arrojará la versión instalada.\n",
    "\n"
   ]
  },
  {
   "cell_type": "markdown",
   "id": "5a2969a8-a586-4503-9a39-3028e1c6b9d5",
   "metadata": {
    "tags": []
   },
   "source": [
    "#### Instalar GitHub\n",
    "En caso de no tener Github instalado:"
   ]
  },
  {
   "cell_type": "markdown",
   "id": "c19f197c-1aa1-46ca-a185-234d2931dbc4",
   "metadata": {
    "tags": []
   },
   "source": [
    "##### **MAC OS:**\n",
    "1. Abre la Terminal en tu Mac.\n",
    "1. Ejecuta el siguiente comando para instalar Homebrew:<br>\n",
    "    `/bin/bash -c \"$(curl -fsSL https://raw.githubusercontent.com/Homebrew/install/HEAD/install.sh)\"`\n",
    "1. Ejecuta el siguiente comando para instalar Git usando Homebrew:\n",
    "    `brew install git`"
   ]
  },
  {
   "cell_type": "markdown",
   "id": "270980be-82ec-4c3b-b0cc-bd8d3add4256",
   "metadata": {},
   "source": [
    "##### **WINDOWS**:\n",
    "1. Ve al sitio web oficial de Git: https://git-scm.com/download/win\n",
    "1. La descarga del instalador de Git para Windows debería comenzar automáticamente. Si no es así, haz clic en el enlace \"click here to download manually\" (haz clic aquí para descargar manualmente) en la página.\n",
    "1. Ejecuta el archivo de instalación que descargaste en el Paso 1.\n",
    "1. Selecciona las opciones de instalación que prefieras y sigue las instrucciones del instalador. Si no estás seguro de qué opciones elegir, las predeterminadas suelen ser adecuadas para la mayoría de los usuarios.\n",
    "1. Haz clic en \"Install\" (Instalar) para comenzar la instalación.\n",
    "1. Una vez que se complete la instalación, Git estará instalado en tu computadora con Windows."
   ]
  },
  {
   "cell_type": "markdown",
   "id": "d7c64b54-93fc-4ea4-8a84-db0a933ed2d0",
   "metadata": {},
   "source": [
    "#### **CREAR USUARIO**\n",
    "1. Entra a la página https://github.com\n",
    "1. En la página principal de GitHub, localiza el formulario de registro.\n",
    "1. Ingresa un nombre de usuario único. GitHub verificará si el nombre de usuario está disponible.\n",
    "1. Ingresa una dirección de correo electrónico válida. Asegúrate de que sea una dirección de correo electrónico a la que tengas acceso, ya que GitHub enviará un correo electrónico de verificación.\n",
    "1. Crea una contraseña segura siguiendo las pautas de GitHub. La contraseña debe tener al menos 8 caracteres y debe incluir letras mayúsculas y minúsculas, números y símbolos.\n",
    "1. Haz clic en el botón \"Sign up for GitHub\" (Regístrate en GitHub) para continuar.\n",
    "1. GitHub te enviará un correo electrónico de verificación a la dirección de correo electrónico que proporcionaste.\n",
    "1. Abre el correo electrónico y haz clic en el enlace de verificación para confirmar tu dirección de correo electrónico y continuar con el proceso de registro.\n",
    "1. GitHub te mostrará diferentes planes disponibles. Elige el plan gratuito y haz clic en \"Continue\". El plan gratuito te permitirá crear repositorios públicos ilimitados y colaborar en repositorios privados.\n",
    "1. GitHub te ofrecerá la opción de personalizar tu experiencia proporcionando información adicional sobre tus intereses y preferencias. Puedes completar esta información si lo deseas, pero no es obligatorio.\n",
    "1. Una vez que hayas proporcionado la información que desees, haz clic en \"Submit\" (Enviar) o \"Skip this step\" (Omitir este paso) si prefieres no proporcionar esta información."
   ]
  },
  {
   "cell_type": "markdown",
   "id": "6489f3ac-c985-4e2d-9d06-da29718beaed",
   "metadata": {},
   "source": [
    "#### Clonar repositorio"
   ]
  },
  {
   "cell_type": "markdown",
   "id": "31e6d07d-84ca-4c25-a486-0ee790a4164a",
   "metadata": {},
   "source": [
    "1. Navega a la página principal del repositorio de la clase (Ver URL).\n",
    "1. Haz clic en el botón verde \"Code\" cerca de la esquina superior derecha de la página.\n",
    "1. En el menú desplegable, elige entre HTTPS o SSH en \"Clone\". Si no estás seguro de cuál usar, se recomienda HTTPS para la mayoría de los usuarios debido a su simplicidad y compatibilidad. Copia la URL proporcionada.\n",
    "1. Abre tu terminal (en macOS o Linux) o Command Prompt (en Windows) en la computadora y ve al directorio donde deseas clonar el repositorio\n",
    "1. Ejecutar el siguiente comando para clonar repositorio:<br>\n",
    "    `git clone https://github.com/carlosdeoncedos/CienciaDatosFinanzas2023_05.git`"
   ]
  },
  {
   "cell_type": "markdown",
   "id": "415e1871-c5db-49b1-b280-c590ff69ff21",
   "metadata": {
    "tags": []
   },
   "source": [
    "## <font color='#2B17B0'>RETORNOS</font>"
   ]
  },
  {
   "cell_type": "markdown",
   "id": "d35afb63-4b3e-4e62-bafb-d5beeb4e9933",
   "metadata": {},
   "source": [
    "La gráfica a continuación ilustra dos activos (activo naranja y el activo azul) poseen un Retorno Promedio de 1% tras 12 periodos. Basarse exclusivamente en Retornos Promedios podría conducirnos a conclusiones incorrectas. Esta visualización subraya la relevancia de entender cómo se comportan y se componen los retornos y sus respectivas volatilidades."
   ]
  },
  {
   "cell_type": "markdown",
   "id": "357fdfc4-a1a2-49f4-a9e2-b60d0ed631ea",
   "metadata": {},
   "source": [
    "![Image](https://dl.dropboxusercontent.com/scl/fi/b7wdy8tro4bplu2bp9fpj/retornos_mensuales.png?rlkey=7rt23vi2scfl0uz3tdwrnrx2f&dl=0)"
   ]
  },
  {
   "cell_type": "markdown",
   "id": "ab68c765-8ae0-4c01-9190-452fa6e778c3",
   "metadata": {},
   "source": [
    "La gráfica siguiente refleja el saldo resultante de invertir $100 en cada uno de los activos azul y naranja"
   ]
  },
  {
   "cell_type": "markdown",
   "id": "f301f9a2-9301-433b-85a4-de0cf3741028",
   "metadata": {},
   "source": [
    "![Image](https://dl.dropboxusercontent.com/scl/fi/u0qygnfbfrh9cu1iscgdy/desempeno_inversion.png?rlkey=i1r2nl1xlqb306w27mlhvl3or&dl=0)"
   ]
  },
  {
   "cell_type": "markdown",
   "id": "9adfb9de-c350-4cf6-bb1d-42743ad56472",
   "metadata": {},
   "source": [
    "> _El **retorno** es un indicador esencial que refleja la ganancia o pérdida en una inversión en comparación con la cantidad invertida inicialmente, y se expresa en forma de porcentaje o decimal. Este indicador nos permite evaluar el desempeño de las inversiones, comparar diversas opciones y tomar decisiones fundamentadas en la asignación de recursos. Alcanzar el equilibrio adecuado entre riesgo y retorno es crucial para desarrollar una estrategia de inversión exitosa._<br><br>\n",
    "> _**IMPORTANTE**: Por lo general los rendimientos **más altos**  conllevan **mayores riesgos**._<br>"
   ]
  },
  {
   "cell_type": "markdown",
   "id": "f7ea3c63-a442-414d-9a73-54ec178665d6",
   "metadata": {},
   "source": [
    "Cálculo del retorno aritmético:"
   ]
  },
  {
   "cell_type": "markdown",
   "id": "e56b59bb-8898-4528-974d-2c1ba2adf245",
   "metadata": {},
   "source": [
    "<br><br>\n",
    "$$\\Large R=\\frac{P_1-P_0}{P_0}\\rightarrow R=\\frac{P_1}{P_0}-1$$"
   ]
  },
  {
   "cell_type": "markdown",
   "id": "343c0b5b-8282-4326-8933-5f90cf35bd49",
   "metadata": {},
   "source": [
    "Al calcular el retorno de un activo que ha generado flujos adicionales de efectivo durante el periodo de tenencia, como los dividendos de una acción, estos flujos adicionales deben ser incluidos."
   ]
  },
  {
   "cell_type": "markdown",
   "id": "e77b813f-c52b-43e1-b4e0-133c1c5c9440",
   "metadata": {},
   "source": [
    "<br><br>\n",
    "$$\\Large R=\\frac{P_1+Div_{t_0, t_1}-P_0}{P_0}\\rightarrow R=\\frac{P_1+Div_{t_0, t_1}}{P_0}-1$$"
   ]
  },
  {
   "cell_type": "markdown",
   "id": "2684ce0a-c4a9-4e39-ad15-542f4ef15a00",
   "metadata": {},
   "source": [
    "### <font color='#2B17B0'>FLUJOS DE EFECTIVOS Y RETORNOS ENTRE MULTIPLES PERIODOS</font>"
   ]
  },
  {
   "cell_type": "markdown",
   "id": "b1a35595-f029-4e54-ab6c-c27bd75c1847",
   "metadata": {
    "tags": []
   },
   "source": [
    "### Flujos de efectivo"
   ]
  },
  {
   "cell_type": "markdown",
   "id": "a2caeef0-c96a-4b01-bad2-7f6e07424447",
   "metadata": {},
   "source": [
    "> _Los flujos de efectivo representan el movimiento de dinero que se recibe o se gasta a lo largo de un período determinado. Estos flujos pueden ser entrantes (dinero recibido) o salientes (dinero gastado), y su ocurrencia puede ser regular o esporádica._\n",
    "<br><br>\n",
    "> _Visualizar el flujo de efectivo en un gráfico facilita la comprensión de los datos financieros complejos, mejorando así la toma de decisiones. Los gráficos muestran la dirección de los flujos (entrantes o salientes), las cantidades de dinero, el número de períodos y la frecuencia con la que ocurren._"
   ]
  },
  {
   "cell_type": "markdown",
   "id": "5ab12dc1-1084-45c8-84fb-4a035143b506",
   "metadata": {},
   "source": [
    "![Image](https://dl.dropboxusercontent.com/scl/fi/k4vrvw71s9kw5j16hzq17/flujos_periodo.png?rlkey=yu3c96xo5x3izv0sno4wi4h7n&dl=0)"
   ]
  },
  {
   "cell_type": "markdown",
   "id": "4aca61d6-f134-44ff-b0dc-3af7360f31de",
   "metadata": {
    "tags": []
   },
   "source": [
    "### Calcular el retorno de los flujos de $t_0$ a $t_1$ y de $t_1$ a $t_2$"
   ]
  },
  {
   "cell_type": "markdown",
   "id": "81ced674-bc46-45e1-9282-716a54ae1efc",
   "metadata": {},
   "source": [
    "![Image](https://dl.dropboxusercontent.com/scl/fi/7ccrpxhi9vqt1mfcpfbuu/retorno_periodo.png?rlkey=r5c8wno09mxna74q918m46mwl&dl=0)"
   ]
  },
  {
   "cell_type": "code",
   "execution_count": null,
   "id": "4c84bd2f-6a29-4d7f-82d8-bcf0c42ea2bc",
   "metadata": {},
   "outputs": [],
   "source": [
    "ret_t0_t1 = 189/140 -1\n",
    "print(ret_t0_t1)\n",
    "print((189-140)/140)"
   ]
  },
  {
   "cell_type": "code",
   "execution_count": null,
   "id": "e072767b-d798-4123-b208-2443b4a19c95",
   "metadata": {
    "tags": []
   },
   "outputs": [],
   "source": [
    "ret_t1_t2 = 195/189-1\n",
    "print(ret_t1_t2)"
   ]
  },
  {
   "cell_type": "markdown",
   "id": "e9fa2deb-e06b-4283-808b-e89abd3918ca",
   "metadata": {
    "tags": []
   },
   "source": [
    "### Calcular el retorno múltiple o compuesto de $t_0$ a $t_2$"
   ]
  },
  {
   "cell_type": "markdown",
   "id": "8b41bae6-e5dc-4e4c-b539-31950c94bbc6",
   "metadata": {
    "tags": []
   },
   "source": [
    "> *El retorno de múltiples periodos es la medida acumulativa de la ganancia o pérdida de una inversión a lo largo de varios intervalos de tiempo consecutivos, reflejando el efecto compuesto de los retornos en cada periodo.*"
   ]
  },
  {
   "cell_type": "markdown",
   "id": "5e62bd98-f381-41ad-948f-6fdefd88c062",
   "metadata": {},
   "source": [
    "![Image](https://dl.dropboxusercontent.com/scl/fi/89iafhshon8fng5415kci/retorno_multiples_periodos.png?rlkey=d6wluqutujqsl1wj24gjdkg3f&dl=0)"
   ]
  },
  {
   "cell_type": "markdown",
   "id": "3d7b03ec-e4ed-440a-af52-e7b740e515b7",
   "metadata": {},
   "source": [
    "#### Cálculo intuitivo"
   ]
  },
  {
   "cell_type": "code",
   "execution_count": null,
   "id": "ae3e99ea-b044-4a07-b7ab-6e94c7f230f7",
   "metadata": {},
   "outputs": [],
   "source": [
    "195/140 - 1"
   ]
  },
  {
   "cell_type": "markdown",
   "id": "b8a35c93-89fe-47d2-b5d8-c87970a653a0",
   "metadata": {},
   "source": [
    "#### Fórmula interés compuesto"
   ]
  },
  {
   "cell_type": "markdown",
   "id": "980ceee3-65a5-4a0f-8654-77c4fa7c0f8f",
   "metadata": {},
   "source": [
    "$\\large R_{t_0,t_2}=(1+R_{t_0,t_1})(1+R_{t_1,t_2})-1$\n",
    "<br><br>\n",
    "$\\large R_{t_0,t_n}=(1+R_{t_0,t_1})(1+R_{t_1,t_2}) \\ldots (1+R_{t_{n-1},t_n})-1\\text{, donde } t_n \\text{repesenta el tiempo en el periodo \"n\"}$ <br><br>"
   ]
  },
  {
   "cell_type": "code",
   "execution_count": null,
   "id": "54a4eab2-db37-49d9-95fc-6fd4a93bed65",
   "metadata": {},
   "outputs": [],
   "source": [
    "retorno_compuesto = (1+.35)*(1+.032) - 1"
   ]
  },
  {
   "cell_type": "markdown",
   "id": "37530b68-35e6-4c15-941a-d21a9be1444e",
   "metadata": {
    "tags": []
   },
   "source": [
    "### Retorno Anualizado"
   ]
  },
  {
   "cell_type": "markdown",
   "id": "b50b631f-5ca7-4d22-b854-f7536c84a223",
   "metadata": {},
   "source": [
    "Anualizar retornos es fundamental para realizar comparaciones exactas y equitativas de la rentabilidad de distintas inversiones, especialmente cuando los periodos de inversión difieren. Convertir todos los retornos a una base anual nos permite realizar comparaciones equitativas entre diferentes escalas temporales de inversión.\n",
    "\n",
    "Por ejemplo, al comparar una inversión que ha rendido un 6% en 6 meses con una que ha rendido un 10% en un año, a primera vista, la segunda podría parecer más rentable. No obstante, al anualizar los retornos, podríamos encontrar que la primera inversión, si se mantiene durante un año completo, ofrecería un rendimiento superior, facilitando así una evaluación más precisa y justa."
   ]
  },
  {
   "cell_type": "markdown",
   "id": "932845af-6a1d-420c-896d-119fdb3c9920",
   "metadata": {},
   "source": [
    "$$\\Large R_{a}=(1+R_{P})^{\\frac{PeriodosPorAño}{NúmeroDePeriodos}}-1$$\n",
    "Donde<br>\n",
    "* $R_a$: Retorno anualizado<br>\n",
    "* $R_P$: Retorno del periodos<br>\n",
    "* $PeriodosPorAño$:  Números de periodos presentes en un año<br>\n",
    "* $NúmeroDePeriodos$:  Números de periodos que representa el $R_p$"
   ]
  },
  {
   "cell_type": "markdown",
   "id": "9ab9956e-859e-4ac8-8c0e-228ec09010f4",
   "metadata": {},
   "source": [
    "|Frecuencia|Fórmula|\n",
    "|:-:|:-:|\n",
    "|Diaria*|$$(1+R_p)^{252}-1$$|\n",
    "|Mensual|$$(1+R_p)^{12}-1$$|\n",
    "|Bimestral|$$(1+R_p)^{6}-1$$|\n",
    "|Trimestral|$$(1+R_p)^{4}-1$$|\n",
    "|Semestral|$$(1+R_p)^{2}-1$$|\n",
    "\n",
    "* _NOTA_:  Se utilizan 252 días para incluir solo los días en que los mercados están operativos, excluyendo fines de semana y días festivos. Sin embargo, en mercados que operan continuamente como los de divisas (FX) o criptomonedas, se emplean 365 días, dado que estos mercados funcionan 24/7."
   ]
  },
  {
   "cell_type": "markdown",
   "id": "b8d42ae3-26de-4b38-abf0-71df66ad5759",
   "metadata": {},
   "source": [
    "#### Anualizar retorno diario"
   ]
  },
  {
   "cell_type": "code",
   "execution_count": null,
   "id": "1a37b0bd-3472-438c-bb42-a3f1851e845f",
   "metadata": {},
   "outputs": [],
   "source": [
    "retorno_diario = .001\n",
    "retorno_diario_anualizado = (1 + retorno_diario)**252 - 1\n",
    "print(retorno_diario_anualizado)"
   ]
  },
  {
   "cell_type": "markdown",
   "id": "0fbce677-6fd2-40d3-be13-6bd779cfa739",
   "metadata": {},
   "source": [
    "#### Anualizar retorno mensual"
   ]
  },
  {
   "cell_type": "code",
   "execution_count": null,
   "id": "62b4b2a9-bc0d-4396-ab24-6b97d8df575f",
   "metadata": {},
   "outputs": [],
   "source": [
    "retorno_mensual = .01\n",
    "retorno_mensual_anualizado = (1 + retorno_mensual)**12 - 1\n",
    "retorno_mensual_anualizado"
   ]
  },
  {
   "cell_type": "markdown",
   "id": "e97539f0-0818-4c77-b7d2-b6eb4f1c710f",
   "metadata": {},
   "source": [
    "#### Anualizar retorno bimestral"
   ]
  },
  {
   "cell_type": "code",
   "execution_count": null,
   "id": "c053ceb5-d932-44d4-8e10-52fa1d8298f7",
   "metadata": {},
   "outputs": [],
   "source": []
  },
  {
   "cell_type": "markdown",
   "id": "02195847-ea1d-4b64-b735-5a23582b4b4f",
   "metadata": {},
   "source": [
    "#### Anualizar retorno trimestral"
   ]
  },
  {
   "cell_type": "code",
   "execution_count": null,
   "id": "66b40faf-6e21-401f-aa61-8ab8f4d78760",
   "metadata": {},
   "outputs": [],
   "source": []
  },
  {
   "cell_type": "markdown",
   "id": "bef0c724-85a3-418d-b2be-8408d91749bd",
   "metadata": {},
   "source": [
    "#### Anualizar retorno semestral"
   ]
  },
  {
   "cell_type": "code",
   "execution_count": null,
   "id": "757d6efb-641e-4d90-aff9-06cdde892699",
   "metadata": {},
   "outputs": [],
   "source": []
  },
  {
   "cell_type": "markdown",
   "id": "0a453978-ba90-4ad8-84a4-b213ae2335ca",
   "metadata": {},
   "source": [
    "## <font color='#2B17B0'>RIESGO</font>"
   ]
  },
  {
   "cell_type": "markdown",
   "id": "a53b6041-f378-474d-933b-9953f1b2b8b1",
   "metadata": {},
   "source": [
    "En finanzas, definimos el riesgo en series de tiempo y retornos, principalmente, a través de la Desviación Estándar, que sirve como medida de la volatilidad o variabilidad de una serie de datos. En el contexto de los retornos financieros, la Desviación Estándar cuantifica la dispersión de los retornos de una inversión respecto a su media, ofreciendo una percepción clara de la estabilidad o variabilidad en los retornos a lo largo del tiempo.\n",
    "\n",
    "Cuando los retornos de una inversión presentan una Desviación Estándar alta, se interpreta como una inversión de alto riesgo, ya que los retornos pueden variar significativamente, siendo impredecibles y oscilando ampliamente entre valores positivos y negativos. Por el contrario, una Desviación Estándar baja indica un menor riesgo, ya que los retornos tienden a ser más estables y predecibles, fluctuando en menor medida alrededor de la media."
   ]
  },
  {
   "cell_type": "markdown",
   "id": "69fd886a-9875-487c-a013-431e0b0ca54e",
   "metadata": {},
   "source": [
    "### Varianza"
   ]
  },
  {
   "cell_type": "markdown",
   "id": "a76ffccd-2af8-4373-824d-a73d9999ec79",
   "metadata": {},
   "source": [
    "> \"_La varianza es una medida estadística cuantitativa que representa la dispersión o variabilidad de los valores en un conjunto de datos._\""
   ]
  },
  {
   "cell_type": "markdown",
   "id": "51f236a8-cd9e-489b-a7b3-1aefc5a79bfa",
   "metadata": {},
   "source": [
    "$$\\sigma_{R}^{2} =  \\frac{1}{N}*\\sum_{i=1}^{N}{(R - \\bar{R})^2}$$\n",
    "Donde $\\bar{R}$ es el promedio aritmérico de los retornos"
   ]
  },
  {
   "cell_type": "markdown",
   "id": "16a6cc77-9520-4463-9a8f-8d2ea57cd844",
   "metadata": {},
   "source": [
    "### Desviación Estándar"
   ]
  },
  {
   "cell_type": "markdown",
   "id": "a7c4fca2-cc95-4bf8-810e-f53cbd1caabd",
   "metadata": {
    "tags": []
   },
   "source": [
    "Para medir la volatilidad eliminamos los valores elevados al cuadrado que representa la varianza, calculando la desviación estándar."
   ]
  },
  {
   "cell_type": "markdown",
   "id": "7a615a55-7ec8-4067-8e87-40c58ecad8b9",
   "metadata": {},
   "source": [
    "$$\\sigma_{R} =  \\sqrt{\\sigma_{R}^2}=\\sqrt{\\frac{1}{N}*\\sum_{i=1}^{N}{(R - \\bar{R})^2}}$$"
   ]
  },
  {
   "cell_type": "markdown",
   "id": "b3b868db-271a-495b-ba2f-14dc97b990a5",
   "metadata": {},
   "source": [
    "### Anualizar volatilidad"
   ]
  },
  {
   "cell_type": "markdown",
   "id": "b830e718-c0ef-4131-a9d5-8d69b675e130",
   "metadata": {},
   "source": [
    "#### Pasos para anualizar volatilidad"
   ]
  },
  {
   "cell_type": "markdown",
   "id": "6243f377-87dc-457b-914d-40c60088c77e",
   "metadata": {},
   "source": [
    "1. Identificar el número de periodos en un año calendario\n",
    "    1. _**NOTA:  Para el caso de retornos diarios, se considera que el año calendario es de 252 días en caso de que operen en mercados como las Bolsas de Valores**_\n",
    "1. Multiplicar la raiz cuadrada del número de periodos por su volatilidad correspondiente"
   ]
  },
  {
   "cell_type": "markdown",
   "id": "294a79b3-8da0-4cbe-9f8c-7e4c506e9f37",
   "metadata": {},
   "source": [
    "$$\\large\\sigma_{anualizada}=\\sigma_{p}*\\sqrt{p}$$"
   ]
  },
  {
   "cell_type": "markdown",
   "id": "aebc5734-fbe6-4278-904c-7e66919c1214",
   "metadata": {},
   "source": [
    "#### Portafolios de Alta y Baja Capitalización de Mercado"
   ]
  },
  {
   "cell_type": "markdown",
   "id": "95b48632-07e2-498f-a244-f17dc88ecfd0",
   "metadata": {},
   "source": [
    "La base de datos del Dr. Kenneth French proporciona una amplia gama de datos sobre los retornos de los portafolios de acciones, categorizados por diferentes criterios, uno de los cuales es el tamaño de capitalización del mercado (\"market cap\"). Los datos se estructuran para facilitar la investigación en finanzas empíricas, especialmente en áreas relacionadas con la valuación de activos.\n",
    "En particular, los portafolios divididos por tamaño, o \"market cap\", normalmente incluyen:\n",
    "\n",
    "* Large Cap: Empresas con alta capitalización de mercado. Estas son, generalmente, empresas grandes y bien establecidas\n",
    "* Small Cap: Empresas con baja capitalización de mercado, las cuales son usualmente empresas más pequeñas o nuevas"
   ]
  },
  {
   "cell_type": "markdown",
   "id": "9a2a8fd2-115b-4921-b346-c03404eb030e",
   "metadata": {},
   "source": [
    "##### Importar librerías"
   ]
  },
  {
   "cell_type": "code",
   "execution_count": null,
   "id": "a9e02e8f-b9c3-4763-8bab-68a946391763",
   "metadata": {
    "tags": []
   },
   "outputs": [],
   "source": [
    "import matplotlib.pyplot as plt\n",
    "import seaborn as sns #librería para formatear/editar gráficas\n",
    "import pandas as pd\n",
    "import numpy as np\n",
    "\n",
    "sns.set_theme() "
   ]
  },
  {
   "cell_type": "markdown",
   "id": "6309feef-1617-4502-ae60-d7b877eb4047",
   "metadata": {},
   "source": [
    "##### Leer datos y guardarlos en un DataFrame de pandas"
   ]
  },
  {
   "cell_type": "code",
   "execution_count": null,
   "id": "2ea9d8d0-d796-4ce7-b7f8-bb4cc183ef2b",
   "metadata": {
    "tags": []
   },
   "outputs": [],
   "source": [
    "url = 'https://mba.tuck.dartmouth.edu/pages/faculty/ken.french/ftp/Portfolios_Formed_on_ME_CSV.zip'"
   ]
  },
  {
   "cell_type": "code",
   "execution_count": null,
   "id": "726a4582-36b3-4dff-804e-bc757af9a42a",
   "metadata": {
    "tags": []
   },
   "outputs": [],
   "source": [
    "df = pd.read_csv(url, compression='zip', skiprows=1181, nrows=1165)"
   ]
  },
  {
   "cell_type": "code",
   "execution_count": null,
   "id": "bca3abc0-5720-4ac8-af03-a70ea310d897",
   "metadata": {
    "tags": []
   },
   "outputs": [],
   "source": [
    "df.info()"
   ]
  },
  {
   "cell_type": "markdown",
   "id": "fbdac2cf-6422-47a9-9879-dd7672ab3217",
   "metadata": {},
   "source": [
    "##### Arreglar el DataFrame"
   ]
  },
  {
   "cell_type": "code",
   "execution_count": null,
   "id": "81814ca8-54a7-4c41-b553-3a7c10169875",
   "metadata": {
    "tags": []
   },
   "outputs": [],
   "source": [
    "#Convertir columna \"Unnamed: 0\" a \"fecha\"\n",
    "df.rename(columns={'Unnamed: 0': 'fecha'}, inplace=True)\n",
    "\n",
    "#Fecha como datetime\n",
    "df['fecha'] = pd.to_datetime(df['fecha'], format='%Y%m').dt.date\n",
    "\n",
    "#fecha como index\n",
    "df.set_index('fecha', inplace=True)\n",
    "\n",
    "#Seleccionar las columnas de interés\n",
    "df = df[['Lo 10', 'Hi 10']].copy()\n",
    "\n",
    "#Renombrar las columnas\n",
    "df.rename(columns={'Lo 10':'BajaCap', 'Hi 10':'AltaCap'}, inplace=True)\n",
    "\n",
    "#Los retornos están representados como porcentaje.  Cambiarlo a decimal\n",
    "df = df/100"
   ]
  },
  {
   "cell_type": "code",
   "execution_count": null,
   "id": "cf73c52d-5875-4a75-9246-6ffecddc7fe9",
   "metadata": {
    "tags": []
   },
   "outputs": [],
   "source": [
    "df"
   ]
  },
  {
   "cell_type": "markdown",
   "id": "a6533d70-63ca-487e-8349-5369ac513ae1",
   "metadata": {},
   "source": [
    "##### Visualizar los retornos mensuales"
   ]
  },
  {
   "cell_type": "code",
   "execution_count": null,
   "id": "8c590f23-dd25-46b6-af36-3d23bac4370d",
   "metadata": {
    "tags": []
   },
   "outputs": [],
   "source": [
    "df.plot(figsize=(12,7), title='Retornos históricos mensuales de portafolios por capitalización NYSE/NASDAQ');"
   ]
  },
  {
   "cell_type": "markdown",
   "id": "33b58aa8-3513-4747-b8bc-d40a8cfa2870",
   "metadata": {},
   "source": [
    "##### Retornos y Sigma mensual"
   ]
  },
  {
   "cell_type": "markdown",
   "id": "7f0ab525-6e1f-4c13-acea-29023fd166d4",
   "metadata": {
    "tags": []
   },
   "source": [
    "df.mean()"
   ]
  },
  {
   "cell_type": "code",
   "execution_count": null,
   "id": "be46dde3-f004-4e92-8200-2121db392692",
   "metadata": {
    "tags": []
   },
   "outputs": [],
   "source": [
    "df.std()"
   ]
  },
  {
   "cell_type": "markdown",
   "id": "b914d48d-99f1-440c-9d9d-adc8781b32eb",
   "metadata": {},
   "source": [
    "##### Pregunta:  En cual portafolio invertir nuestro capital?"
   ]
  },
  {
   "cell_type": "markdown",
   "id": "d0101ab3-36a2-463f-bf5a-e5d2d3babec9",
   "metadata": {},
   "source": [
    "\n",
    "Retorno Riesgo = $\\Large \\frac{Retorno}{Volatilidad}$"
   ]
  },
  {
   "cell_type": "code",
   "execution_count": null,
   "id": "8a5bc578-8d7e-4b0b-ad70-fda9b8d4c51f",
   "metadata": {
    "tags": []
   },
   "outputs": [],
   "source": [
    "df.mean()/df.std()"
   ]
  },
  {
   "cell_type": "markdown",
   "id": "3d94e23e-d9a5-46f3-acac-031598e904ef",
   "metadata": {},
   "source": [
    "El análisis de retorno por cada unidad de riesgo asumida es crucial porque permite evaluar la eficiencia de una inversión al ponderar el rendimiento con el nivel de riesgo inherente. Sin embargo, al omitir la tasa libre de riesgo en este análisis, estamos ignorando un componente vital en la evaluación del rendimiento ajustado al riesgo. Es decir,  estamos omitiendo una comparación fundamental con la opción de una inversión sin riesgo, normalmente representada por bonos del Tesoro que ofrecen un retorno con un riesgo prácticamente nulo. Este componente es vital porque cualquier inversión debería, como mínimo, superar el rendimiento que se podría obtener sin asumir riesgo alguno.\n",
    "\n",
    "Podemos tener una evaluación más equilibrada utilizando el \"_Sharp Ratio_\""
   ]
  },
  {
   "cell_type": "markdown",
   "id": "04dd83a7-766c-4263-b549-cc2b50d0878a",
   "metadata": {},
   "source": [
    "##### Sharp Ratio"
   ]
  },
  {
   "cell_type": "markdown",
   "id": "8c797834-ee52-476f-8a98-0b40da9b91e5",
   "metadata": {},
   "source": [
    "Se calcula de la siguiente manera:<br>\n",
    "$$\\large Sharp=\\frac{Retorno - TasaLibreRiesgo}{Volatilidad}$$<br><br>\n",
    "Al incluir la tasa libre de riesgo, proporciona una evaluación más equilibrada y realista de la eficiencia de una inversión. Mide cuánto rendimiento adicional se obtiene por cada unidad de riesgo asumida en comparación con una inversión sin riesgo. Así, permite discernir si el rendimiento adicional obtenido justifica el riesgo adicional asumido.<br><br>\n",
    "Como los portafolios son del NYSE y del NASDAQ vamos a utilizar como tasa libre de riesgo el Bono del Tesoro de los Estados Unidos a 10 años con un tasa de retorno de 4.6% anual.<br><br>\n",
    "\n",
    "Esta situación servirá de pretexto para anualizar el retorno y la sigma mensual de los portafolios para poder comparar las mismas unidades vs. el t-bill en el cálculo del Sharp Ratio"
   ]
  },
  {
   "cell_type": "markdown",
   "id": "b3e72861-1872-4fe5-be7e-3b4e58b90ee4",
   "metadata": {},
   "source": [
    "Anualizar retornos:"
   ]
  },
  {
   "cell_type": "code",
   "execution_count": null,
   "id": "8f9a47fe-987c-4220-81f3-cbc912f7d37e",
   "metadata": {
    "tags": []
   },
   "outputs": [],
   "source": [
    "num_meses = df.shape[0]\n",
    "retornos_anualizados = (df + 1).prod()**(12 / num_meses) - 1\n",
    "print(retornos_anualizados)"
   ]
  },
  {
   "cell_type": "markdown",
   "id": "ad74f93d-1ca0-43f7-9698-491fd68e0fcc",
   "metadata": {},
   "source": [
    "Anualizar sigma:"
   ]
  },
  {
   "cell_type": "code",
   "execution_count": null,
   "id": "349d5644-cfe5-41e2-9676-22157bef02bd",
   "metadata": {
    "tags": []
   },
   "outputs": [],
   "source": [
    "volatilidad_anualizada = df.std() * np.sqrt(12)\n",
    "print(volatilidad_anualizada)"
   ]
  },
  {
   "cell_type": "code",
   "execution_count": null,
   "id": "05d0eabf-0177-4c8e-9269-29ebe5b8dbdd",
   "metadata": {
    "tags": []
   },
   "outputs": [],
   "source": [
    "rf = .046\n",
    "\n",
    "sharp_ratio = (retornos_anualizados - rf) / volatilidad_anualizada\n",
    "print(sharp_ratio)"
   ]
  },
  {
   "cell_type": "markdown",
   "id": "e63a8426-af75-4eb6-a85d-21d7000100b2",
   "metadata": {},
   "source": [
    "También podemos observar que la gran mayoría de los retornos mensuales igual o mayor a +/- 15% son del portafolio de Baja Capitalización"
   ]
  },
  {
   "cell_type": "code",
   "execution_count": null,
   "id": "fc8793b5-640f-4afd-8104-8e1e3512f966",
   "metadata": {
    "tags": []
   },
   "outputs": [],
   "source": [
    "benchmark = .15\n",
    "retornos_positivos_bc = df['BajaCap'][df['BajaCap'] >= benchmark].count()\n",
    "retornos_positivos_ac = df['AltaCap'][df['AltaCap'] >= benchmark].count()\n",
    "total_eventos = retornos_positivos_ac + retornos_positivos_bc\n",
    "porcentaje_ac = round(retornos_positivos_ac / total_eventos * 100, 2)\n",
    "porcentaje_bc = round(retornos_positivos_bc / total_eventos * 100, 2)\n",
    "\n",
    "\n",
    "print(f\"Baja Capitalización: {retornos_positivos_bc} / {porcentaje_bc}%\")\n",
    "print(f\"Alta Capitalización: {retornos_positivos_ac} / {porcentaje_ac}%\")\n",
    "print(f\"Número de meses con retornos mensuales mayores a {benchmark*100}%: {total_eventos}\")"
   ]
  },
  {
   "cell_type": "markdown",
   "id": "2c82c2e1-1d10-484b-877f-26fcc14670ee",
   "metadata": {},
   "source": [
    "El número de eventos con un retorno negativo igual o mayor a -15%:"
   ]
  },
  {
   "cell_type": "code",
   "execution_count": null,
   "id": "90ced45e-0e31-4e5a-b6ec-688830b7d0c3",
   "metadata": {
    "tags": []
   },
   "outputs": [],
   "source": [
    "benchmark *= -1\n",
    "retornos_positivos_bc = df['BajaCap'][df['BajaCap'] <= benchmark].count()\n",
    "retornos_positivos_ac = df['AltaCap'][df['AltaCap'] <= benchmark].count()\n",
    "total_eventos = retornos_positivos_ac + retornos_positivos_bc\n",
    "porcentaje_ac = round(retornos_positivos_ac / total_eventos * 100, 2)\n",
    "porcentaje_bc = round(retornos_positivos_bc / total_eventos * 100, 2)\n",
    "\n",
    "\n",
    "print(f\"Baja Capitalización: {retornos_positivos_bc} / {porcentaje_bc}%\")\n",
    "print(f\"Alta Capitalización: {retornos_positivos_ac} / {porcentaje_ac}%\")\n",
    "print(f\"Número de meses con retornos mensuales mayores a {benchmark*100}%: {total_eventos}\")"
   ]
  },
  {
   "cell_type": "markdown",
   "id": "8e2bb94f-7dc7-4489-9bf9-df6721a4368d",
   "metadata": {},
   "source": [
    "## <font color='#2B17B0'>Crear librerías en Python</font>"
   ]
  },
  {
   "cell_type": "markdown",
   "id": "25b38dfa-24ca-4da1-ac9c-86e8271e7199",
   "metadata": {
    "tags": []
   },
   "source": [
    "### Comandos mágicos"
   ]
  },
  {
   "cell_type": "markdown",
   "id": "7c915649-4147-47c7-8828-3fccdfb4312a",
   "metadata": {},
   "source": [
    "```python\n",
    "%load_ext autoreload\n",
    "%autoreload 2\n",
    "```\n",
    "\n",
    "\n",
    "se utilizan comúnmente juntos en entornos de Jupyter Notebooks o Jupyter Lab para habilitar la recarga automática de módulos de Python importados antes de ejecutar el código.<br><br>\n",
    "\n",
    "\n",
    "%load_ext autoreload:\n",
    "Este comando mágico carga la extensión autoreload. La extensión autoreload proporciona la capacidad de recargar automáticamente los módulos importados antes de ejecutar el código introducido en el cuaderno.\n",
    "\n",
    "%autoreload 2:\n",
    "Este comando mágico establece el modo de autorecarga. El 2 después de %autoreload denota el modo a establecer, y aquí te explico qué significa cada modo:<br>\n",
    "0: Desactiva la autorecarga.<br>\n",
    "1: Recarga los módulos importados con la sentencia import ... antes de ejecutar el código de Python introducido. No funciona con la sentencia from ... import ....<br>\n",
    "2: Recarga todos los módulos (excepto aquellos excluidos por aimport) cada vez antes de ejecutar el código de Python. Este modo es más exhaustivo y generalmente es el que se utiliza cuando se están editando activamente los archivos fuente."
   ]
  },
  {
   "cell_type": "markdown",
   "id": "08e264bd-83c7-4236-8901-d069f5ae93b0",
   "metadata": {
    "slideshow": {
     "slide_type": "slide"
    }
   },
   "source": [
    "## <font color='#2B17B0'>LOS MERCADOS FINANCIEROS</font>"
   ]
  },
  {
   "cell_type": "markdown",
   "id": "6732cdbd-ab60-46b7-8300-0bddf6fa17f6",
   "metadata": {
    "tags": []
   },
   "source": [
    "> _Los mercados financieros son espacios, ya sea físicos o virtuales, donde se llevan a cabo transacciones de instrumentos financieros. Estos mercados permiten el intercambio de capitales entre quienes lo ofrecen y quienes lo demandan. Son fundamentales para el funcionamiento y desarrollo de economías modernas, y juegan un rol clave en la asignación de recursos y la determinación de precios de los activos financieros._"
   ]
  },
  {
   "cell_type": "markdown",
   "id": "a0416298-985d-4754-9f38-72d4ba124c41",
   "metadata": {},
   "source": [
    "### Clasificación de los mercados"
   ]
  },
  {
   "cell_type": "markdown",
   "id": "2151e978-f3c8-4f5b-81a5-fc3db2d1ea4c",
   "metadata": {},
   "source": [
    "#### Por estructura operativa"
   ]
  },
  {
   "cell_type": "markdown",
   "id": "e5ca3184-0e44-4d39-870c-7bc3fa726067",
   "metadata": {},
   "source": [
    "* Mercados Organizados:  Poseen lugares físicos o sistemas electrónicos donde se encuentran compradores y vendedores, como las bolsas de valores."
   ]
  },
  {
   "cell_type": "markdown",
   "id": "d58e768b-cbf2-4e20-a7fc-4b1e0a7fc5fe",
   "metadata": {},
   "source": [
    "![ActaConstitutivaVOC](https://dl.dropboxusercontent.com/scl/fi/jcgsvjal7lgreskar3l2r/nyse_floor.jpg?rlkey=bxrn43b2rfpdxk6deebw5111q&dl=0)<br>\n",
    "Imagen del piso del New York Stock Exchange, tomada de internet"
   ]
  },
  {
   "cell_type": "markdown",
   "id": "b41c9b08-a7fa-4567-8241-fc2138f667ad",
   "metadata": {},
   "source": [
    "![ActaConstitutivaVOC](https://dl.dropboxusercontent.com/scl/fi/8h4h7gy2p6kii0ol9qd9e/nasdaq_dc1.jpg?rlkey=frkua0cu8gn4ibu4swf869e0u&dl=0)<br>\n",
    "Uno de los sites de servidores del Nasdaq\n",
    "\n",
    "Imagen tomada de www.nasdaqtrader.com/Trader.aspx?id=colo"
   ]
  },
  {
   "cell_type": "markdown",
   "id": "8cc1924d-0fb6-4c67-b32e-0aa384576589",
   "metadata": {},
   "source": [
    "* Mercados OTC (over-the-counter): Las transacciones se realizan directamente entre las dos partes sin una bolsa centralizada. Muchos derivados se negocian en mercados OTC."
   ]
  },
  {
   "cell_type": "markdown",
   "id": "04098990-b770-4538-8290-f1d5169d171d",
   "metadata": {},
   "source": [
    "#### Por tipo de activos o instrumentos"
   ]
  },
  {
   "cell_type": "markdown",
   "id": "7f1e3f9d-8f92-4a5d-a56c-6d1846070bd5",
   "metadata": {},
   "source": [
    "* Mercado de capitales: Se negocian acciones (mercado de valores) y bonos (deuda a largo plazo)\n",
    "    * Mercado primario: Se emiten nuevos títulos (IPO)\n",
    "    * Mercado secundario: Se compran y venden títulos ya emitidos previamente\n",
    "* Mercado de derivados: Se negocian contratos que derivan su valor de un activo subyacente, como futuros, opciones y swaps\n",
    "* Mercado de divisas (Forex): Se negocian monedas\n",
    "* Mercado de criptomonedas:  Se negocian criptoactivos\n",
    "    * Mercados Centralizados\n",
    "    * Mercados Desentralizados\n",
    "    * OTC"
   ]
  },
  {
   "cell_type": "markdown",
   "id": "41a83949-2b40-4355-a062-a0e1820ff6ec",
   "metadata": {
    "slideshow": {
     "slide_type": "slide"
    }
   },
   "source": [
    "## <font color='#2B17B0'>LOS PRIMEROS</font>"
   ]
  },
  {
   "cell_type": "markdown",
   "id": "542a7c8a-28a5-4ed7-9c98-d4d7ba0bd80e",
   "metadata": {},
   "source": [
    "![ActaConstitutivaVOC](https://dl.dropboxusercontent.com/scl/fi/pgqui7f3rzwqw3y7uiaox/acta_constitutiva_voc.png?rlkey=j8s8is6wclgh7cu1n6ucude91&dl=0)<br>\n",
    "Primera hoja del Acta Constitutiva de la \"The Dutch East India Company\" (VOC), Agosto 1602.  Archivo Nacional de Holanda (https://www.nationaalarchief.nl)"
   ]
  },
  {
   "cell_type": "markdown",
   "id": "84b7aca0-a3e7-4f58-8512-56c247dc4b98",
   "metadata": {},
   "source": [
    "![Primer mercado organizado](https://dl.dropboxusercontent.com/scl/fi/xs6151dglss9xyekw5686/HendrickDeKeyserExchange.png?rlkey=4ycicmwnptmj3vibko2o6i4bp&dl=0)<br>\n",
    "Hendrick de Keyser Exchange. C.J. Visscher, c.1613.  Colección de _Stichting Capital Amsterdam_"
   ]
  },
  {
   "cell_type": "markdown",
   "id": "92a3aeaf-7f8d-419a-8d88-0d8619eaf9f7",
   "metadata": {},
   "source": [
    "![ActaConstitutivaVOC](https://dl.dropboxusercontent.com/scl/fi/ry7t8pvnk2lw221u7svx8/confusion_confusiones.png?rlkey=t13icbbh0rd6y9evvj6hxynty&dl=0)<br>\n",
    "Portada del libro \"Confusión de Confusiones\" por Joseph de la Vega, 1688.  Considerado como el primer libro escrito sobre la bolsa de valores.<br>|(https://www.sothebys.com/en/buy/auction/2018/fine-books-manuscripts-online/444a6a2b-a432-4728-b4d3-3f631935cfaf)"
   ]
  },
  {
   "cell_type": "markdown",
   "id": "22f156de-8dcf-4748-aea0-1d5c661d68cb",
   "metadata": {
    "slideshow": {
     "slide_type": "subslide"
    },
    "tags": []
   },
   "source": [
    "## <font color='#2B17B0'>Actores en los mercados</font>"
   ]
  },
  {
   "cell_type": "markdown",
   "id": "ec3ca375-029f-4244-aeb3-184af8749dc1",
   "metadata": {
    "slideshow": {
     "slide_type": "subslide"
    }
   },
   "source": [
    "### <font color='#2B17B0'>Dealers</font>\n",
    "Son entidades siempre dispuestas para hacer trading con sus clientes cuando y lo que su cliente quiera opearar.\n",
    "* Siempre publican sus posturas (bid/ask).\n",
    "* Una vez realizada la transacción con su cliente, salen al mercado a realizar la operación contraria\n",
    "* Su negocio está en realizar una ganancia en este proceso"
   ]
  },
  {
   "cell_type": "markdown",
   "id": "663487dd-6121-43c8-a618-f185ae0888bd",
   "metadata": {},
   "source": [
    "![ActaConstitutivaVOC](https://dl.dropboxusercontent.com/scl/fi/oz4ay7k7zuv2w02xqllnb/bid_ask.jpg?rlkey=k2ncui4mg9sq35h6ir4qbhzh8&dl=0)<br>\n",
    "Imagen tomada de internet"
   ]
  },
  {
   "cell_type": "markdown",
   "id": "113ad81c-7122-4111-a2c8-0b824d562067",
   "metadata": {
    "slideshow": {
     "slide_type": "subslide"
    }
   },
   "source": [
    "### <font color='#2B17B0'>Brokers</font>\n",
    "Es un agente que arregla los trades a sus clientes buscando una contraparte con quien pueda realizar la transacción su cliente."
   ]
  },
  {
   "cell_type": "markdown",
   "id": "b0505503-7b85-487d-886d-0fe2f939512a",
   "metadata": {
    "slideshow": {
     "slide_type": "subslide"
    }
   },
   "source": [
    "El negocio del *__broker__* está en la comisión que le cobra a sus clientes por organizar o facilitar la transacción."
   ]
  },
  {
   "cell_type": "markdown",
   "id": "cbdb5561-4135-4e70-a5ef-5597949ef3cc",
   "metadata": {},
   "source": [
    "![ActaConstitutivaVOC](https://dl.dropboxusercontent.com/scl/fi/i0xn9zad1bd6qoh63448a/stockbroker.jpg?rlkey=iff1rxnbrejjuhr4hygf98ade&dl=0)<br>\n",
    "Imagen tomada de internet"
   ]
  },
  {
   "cell_type": "markdown",
   "id": "e5add635-9644-4a44-a026-60e913bad6ca",
   "metadata": {
    "slideshow": {
     "slide_type": "subslide"
    }
   },
   "source": [
    "### <font color='#2B17B0'>Trader</font>\n",
    "Es una persona, que se dedica a comprar y vender cualquier clase de activos financieros, para ella y/o para alguien más.  Su horizonte de posesión del activo es de coroto plazo y busca capitalizar tendencias de corto plazo.<br>"
   ]
  },
  {
   "cell_type": "markdown",
   "id": "14135595-bd5d-4f8e-946f-b1150af0545b",
   "metadata": {
    "slideshow": {
     "slide_type": "subslide"
    }
   },
   "source": [
    "* Si trabaja para una Institución financiera:\n",
    "    * Gana un sueldo más una comisión por la utilidad generada\n",
    "* Si lo hace para el mismo:\n",
    "    * Utiliza su propios recursos económicos\n",
    "    * Se queda con *__toda__* la utilidad generada."
   ]
  },
  {
   "cell_type": "markdown",
   "id": "3104a010-067c-4fea-8104-e30a8a07fa8e",
   "metadata": {},
   "source": [
    "![ActaConstitutivaVOC](https://dl.dropboxusercontent.com/scl/fi/bmbnyxrvu2cto1s7utr7s/female_trader.jpg?rlkey=kqksflcmfzvmv35rqn46mpynz&dl=0)<br>\n",
    "Imagen tomada de internet"
   ]
  },
  {
   "cell_type": "markdown",
   "id": "50d63b77-ead2-466b-b489-87469e931009",
   "metadata": {
    "slideshow": {
     "slide_type": "subslide"
    }
   },
   "source": [
    "### <font color='#2B17B0'>Trader (especulador)</font>\n",
    "Son traders que siempre buscan tener una ventaja contra los demás traders, al utilizar y diseñar modelos que les ayuden a predecir el precio futuro del activo financiero.<br>"
   ]
  },
  {
   "cell_type": "markdown",
   "id": "f348384f-d2ca-45de-95fc-b2399302dfe6",
   "metadata": {
    "slideshow": {
     "slide_type": "subslide"
    }
   },
   "source": [
    "Con esa información, se aprovechan de los traders _desinformados_ para ganar a costa de ellos.<br>"
   ]
  },
  {
   "cell_type": "markdown",
   "id": "907329b8-182b-4d8b-8a06-5fd3167b76fc",
   "metadata": {},
   "source": [
    "![ActaConstitutivaVOC](https://dl.dropboxusercontent.com/scl/fi/rswyrso6g7apxc4snzkch/tiburon2.jpg?rlkey=f5sm70gug2izlacs2sn1l4ar7&dl=0)<br>\n",
    "Imagen tomada de internet"
   ]
  },
  {
   "cell_type": "markdown",
   "id": "7b241428-7997-49c5-ad4c-f94a9c48f6af",
   "metadata": {
    "slideshow": {
     "slide_type": "subslide"
    }
   },
   "source": [
    "### <font color='#2B17B0'>Trader (informado)</font>\n",
    "Los traders que pueden estimar el valor fundamental del instrumento, hacen que el precio refleje su valor estimado.<br>"
   ]
  },
  {
   "cell_type": "markdown",
   "id": "51fb1619-68c8-4826-8d8e-aa568741493c",
   "metadata": {
    "slideshow": {
     "slide_type": "subslide"
    }
   },
   "source": [
    "* Compran: $precio < valorEstimado$\n",
    "* Empujan el valor del instrumento a la alza"
   ]
  },
  {
   "cell_type": "markdown",
   "id": "d0f66e23-98f9-41e6-80de-20df05969482",
   "metadata": {
    "slideshow": {
     "slide_type": "subslide"
    }
   },
   "source": [
    "* Venden: $precio > valorEstimado$\n",
    "* Jalan el valor del instumento a la baja\n"
   ]
  },
  {
   "cell_type": "markdown",
   "id": "86e66e99-f7cd-455f-bf29-3f042ad60c3b",
   "metadata": {
    "slideshow": {
     "slide_type": "subslide"
    },
    "tags": []
   },
   "source": [
    "### <font color='#2B17B0'>Inversionista</font>\n",
    "Es una persona, que buscan trasladar riquezas o flujos excedentes del presente al futuro<br>"
   ]
  },
  {
   "cell_type": "markdown",
   "id": "0e917f24-d3ef-4e69-8705-f7249eceb289",
   "metadata": {},
   "source": [
    "![ActaConstitutivaVOC](https://dl.dropboxusercontent.com/scl/fi/ynoa10mkp5vk1cbyz5g8h/dinero.jpg?rlkey=8ohn4mcqjoz3b9y14xnsohe0m&dl=0)<br>\n",
    "Imagen tomada de internet"
   ]
  },
  {
   "cell_type": "markdown",
   "id": "161fce33-bed5-4d80-a8f2-5ed3d17f565a",
   "metadata": {
    "slideshow": {
     "slide_type": "subslide"
    }
   },
   "source": [
    "### <font color='#2B17B0'>Posición LONG</font>\n",
    "Es cuando un inversionista, trader, dealer, etc. compra un activo financiero y mantiene su posesión. Espera que el precio suba y así concretar una utilidad al momento de vender.<br><br>"
   ]
  },
  {
   "cell_type": "markdown",
   "id": "bc9901ec-07ae-46f1-bb17-00bc87c76380",
   "metadata": {
    "slideshow": {
     "slide_type": "subslide"
    }
   },
   "source": [
    "### <font color='#2B17B0'>Posición SHORT</font>\n",
    "Es cuando un inversionista, trader, dealer, etc. vende un activo financiero que no posee, tomándolo prestado, para venderlo y en un futuro regresarlo.  Espera que el precio baje, concretando una utilidad al comprar el activo.<br><br>"
   ]
  },
  {
   "cell_type": "markdown",
   "id": "4e186082-f188-40f3-937a-0ac846a009f6",
   "metadata": {
    "slideshow": {
     "slide_type": "subslide"
    }
   },
   "source": [
    "## <font color='#2B17B0'>Algunos coneptos importantes</font>"
   ]
  },
  {
   "cell_type": "markdown",
   "id": "35987459-afac-435b-923f-1bdfee95538e",
   "metadata": {
    "slideshow": {
     "slide_type": "subslide"
    }
   },
   "source": [
    "### <font color='#2B17B0'>Activos financieros</font>\n",
    "* Instrumentos que representan propiedad de activos reales y de los flujos de efectivo que producen.\n",
    "* Las acciones y los bonos son ejempos de activos financieros.\n",
    "* Los emisores son los que crean los activos financieros"
   ]
  },
  {
   "cell_type": "markdown",
   "id": "3d2705d3-70c2-4324-898f-1f36233d03f0",
   "metadata": {
    "slideshow": {
     "slide_type": "subslide"
    }
   },
   "source": [
    "## <font color='#2B17B0'>FACILITADORES</font>"
   ]
  },
  {
   "cell_type": "markdown",
   "id": "75c778b4-85d0-468f-b501-66656cebb124",
   "metadata": {
    "slideshow": {
     "slide_type": "subslide"
    }
   },
   "source": [
    "### <font color='#2B17B0'>Los mercados de valores</font>\n",
    "* Ofrecen un lugar donde los traders se puedan reunir a negociar titulos\n",
    "* En la mayoría de los casos, unicamente los mimebros pueden realizar trades"
   ]
  },
  {
   "cell_type": "markdown",
   "id": "09fd2883-2f38-4d1e-b402-7c42381789fc",
   "metadata": {
    "slideshow": {
     "slide_type": "subslide"
    }
   },
   "source": [
    "* Por mucho tiempo eran propiedad de sus miembros\n",
    "* Actualmente muchas bolsas en el mundo se han desmutualizado y se convirtieron en corporaciones\n"
   ]
  },
  {
   "cell_type": "markdown",
   "id": "36866f93-583e-4743-9da8-8e18128649d8",
   "metadata": {
    "slideshow": {
     "slide_type": "subslide"
    }
   },
   "source": [
    "* Las bolsas se apoyan en otras entidades para asegurarse que todas las transacciones se ejecuten correctamente y resolver conflictos."
   ]
  },
  {
   "cell_type": "markdown",
   "id": "2da56d6f-10fb-4ab1-a1fb-7ad117501d4f",
   "metadata": {
    "slideshow": {
     "slide_type": "subslide"
    }
   },
   "source": [
    "### <font color='#2B17B0'>Agentes liquidadores</font>\n",
    "Ayudan a cuadrar los registros de las transacciones que hicieron las contrapartes, confirmando que las partes acordaron los mismos términos.  Cuando las transacciones se confirman, se les dice que están _liquidadaz_ y las partes saldan las operaciones."
   ]
  },
  {
   "cell_type": "markdown",
   "id": "d8ee0f14-07b2-4f64-be13-4b6e5098d0a6",
   "metadata": {
    "slideshow": {
     "slide_type": "subslide"
    }
   },
   "source": [
    "### <font color='#2B17B0'>Agentes compensación y liquidación</font>\n",
    "Ayudan a los operadores a compensar sus obligaciones. De acuerdo a las reglas del mercado, los operadores terminan recibiendo los activos financieros o el dinero generado por la transacción."
   ]
  },
  {
   "cell_type": "markdown",
   "id": "358a5be0-e3dc-4670-bd51-209fa7591d2c",
   "metadata": {
    "slideshow": {
     "slide_type": "subslide"
    }
   },
   "source": [
    "## <font color='#2B17B0'>EL ARBITRO</font>"
   ]
  },
  {
   "cell_type": "markdown",
   "id": "88561bfb-0ea0-4bbb-8630-01b9586d7682",
   "metadata": {
    "slideshow": {
     "slide_type": "fragment"
    }
   },
   "source": [
    "* Cada pais tiene su propia agencia encargada de la regulación de los mercados bursátiles y de la protección del público inversionista"
   ]
  },
  {
   "cell_type": "markdown",
   "id": "d6cdd267-5d04-4fe3-ab8a-40fb161e39ff",
   "metadata": {
    "slideshow": {
     "slide_type": "fragment"
    }
   },
   "source": [
    "* CNBV Méx\n",
    "* SEC USA\n",
    "* FCA UK"
   ]
  },
  {
   "cell_type": "markdown",
   "id": "87cc7858-063d-42a9-ad04-14a4afabd9de",
   "metadata": {
    "slideshow": {
     "slide_type": "slide"
    }
   },
   "source": [
    "# <font color='#2B17B0'>II.- OPERANDO EN EL MERCADO</font>"
   ]
  },
  {
   "cell_type": "markdown",
   "id": "531c0fd8-84bb-40dc-876d-7c2823f2a2ef",
   "metadata": {
    "slideshow": {
     "slide_type": "subslide"
    }
   },
   "source": [
    "> _No puedes esperar ser éxitoso de manera constante en el mercado, si no conoces como opera y sus reglas de operación_."
   ]
  },
  {
   "cell_type": "markdown",
   "id": "946052d8-30e9-439a-80a1-429e15367924",
   "metadata": {
    "slideshow": {
     "slide_type": "subslide"
    }
   },
   "source": [
    "### <font color='#2B17B0'>Órdenes</font>\n",
    "* Una _**orden**_ es una instrucción que el inversionista gira a su broker y este al mercado de valores para que ejecuten una transacción."
   ]
  },
  {
   "cell_type": "markdown",
   "id": "f46003bc-dbae-4e51-85b8-edc5d6c72c74",
   "metadata": {
    "slideshow": {
     "slide_type": "subslide"
    }
   },
   "source": [
    "### <font color='#2B17B0'>Características de una orden</font>\n",
    "Siempre se especifica:\n",
    "* Que instrumento se va a comercializar\n",
    "* La cantidad a negociar\n",
    "* Si es una compra o una venta"
   ]
  },
  {
   "cell_type": "markdown",
   "id": "0ffa1184-32c6-465b-bfdb-2bf8868b95fe",
   "metadata": {
    "slideshow": {
     "slide_type": "subslide"
    }
   },
   "source": [
    "Puede incluir las siguientes condiciones:\n",
    "* Precio límite máximo que está dispuesto a negociar (bid/ask)\n",
    "* Tiempo de vida de la orden\n",
    "* Si se puede ejecutar de manera parcial\n",
    "* Entre otras"
   ]
  },
  {
   "cell_type": "markdown",
   "id": "079e95da-9916-404a-8e0f-2d93c1173e5b",
   "metadata": {
    "slideshow": {
     "slide_type": "subslide"
    }
   },
   "source": [
    "### <font color='#2B17B0'>Órdenes de mercado</font>\n",
    "Es cuando el inversionista da la instrucción de realizar una transacción al mejor precio disponible en el mercado. <br><br>\n",
    "Por lo general se ejecutan de manera rápida, a costa de un precio inferior."
   ]
  },
  {
   "cell_type": "markdown",
   "id": "0053c6d3-4929-4f35-a744-36a7c82ebf26",
   "metadata": {
    "slideshow": {
     "slide_type": "subslide"
    }
   },
   "source": [
    "### <font color='#2B17B0'>Impacto en el mercado</font>\n",
    "Una orden relativamente pequeña, es más fácil de ejecutar con un precio más controlado que una orden de mayor volumen."
   ]
  },
  {
   "cell_type": "markdown",
   "id": "ed890f58-06fa-4e43-8bc4-682bb4ff80cf",
   "metadata": {
    "slideshow": {
     "slide_type": "subslide"
    }
   },
   "source": [
    "Si un trader quiere comprar (vender) una posición de volumen considerable, tiene que mejorar el precio subiendo el *__bid__* (bajando el *__ask__*) del mercado para animar a los vendedores (compradores) a que vendan (compren)"
   ]
  },
  {
   "cell_type": "markdown",
   "id": "50f3202b-2b9a-45bb-86f4-0d137940bf0c",
   "metadata": {
    "slideshow": {
     "slide_type": "subslide"
    }
   },
   "source": [
    "### <font color='#2B17B0'>Incertidumbre en el precio de ejecución</font>\n",
    "El precio a que las órdenes de mercado se ejecutan dependen de la condición del mercado  y pueden cambiar rapidamente.  Por lo que puede ejecutar su orden a un precio menor a lo esperado.  A este riesgo se le llama *__incertidumbre en el precio de ejecución__*.\n"
   ]
  },
  {
   "cell_type": "markdown",
   "id": "d6802635-2a57-4db7-ba85-3cddebda718e",
   "metadata": {
    "slideshow": {
     "slide_type": "subslide"
    }
   },
   "source": [
    "### <font color='#2B17B0'>Órdenes limitadas</font>\n",
    "Es una instrucción para realizar una transacción al mejor precio disponible *__SI Y SOLO SI__* el precio es igual o mejor al especificado en la orden."
   ]
  },
  {
   "cell_type": "markdown",
   "id": "ab576763-1cdc-46ff-8e32-56802d2cfc8c",
   "metadata": {
    "slideshow": {
     "slide_type": "subslide"
    }
   },
   "source": [
    "Si la orden limitada es:\n",
    "* Una orden de compra:  $P_{mercado} \\leq P_{limitado}$\n",
    "* Una orden de venta: $P_{mercado} \\geq P_{limitado}$"
   ]
  },
  {
   "cell_type": "markdown",
   "id": "8caf0fd7-7d80-4d02-b5ec-8432b5ec6511",
   "metadata": {
    "slideshow": {
     "slide_type": "subslide"
    }
   },
   "source": [
    "Si la orden no se llega a ejecutar por que el precio del mercado no es igual o mejor que el de la orden limitada, entonces la orden se quedará como una oferta disponible hasta que:\n",
    "1. Alguien acepte ese precio\n",
    "1. Al expirar su vida\n",
    "1. Al ser cancelada por el traeder que la originó"
   ]
  },
  {
   "cell_type": "markdown",
   "id": "f593a5c5-6673-4a11-88e1-03295375d198",
   "metadata": {
    "slideshow": {
     "slide_type": "subslide"
    }
   },
   "source": [
    "### <font color='#2B17B0'>Riesgos de utilizar órdenes limitadas</font>\n",
    "1. Riesgo de incertidumbre de ejecución\n",
    "1. Riesgo de ejecución no deseada:  Es cuando la orden se ejecuta, y se hubiera deseado que hubiera sido ejecutada."
   ]
  },
  {
   "cell_type": "markdown",
   "id": "e1dcc31e-8ec2-4862-953c-4877f5edc0b0",
   "metadata": {
    "slideshow": {
     "slide_type": "subslide"
    }
   },
   "source": [
    "### <font color='#2B17B0'>Stop orders</font>\n",
    "Son órdenes en la que se especifica que no se puede ejecutar hasta que el precio llegue o sobrepase un precio preestablecido. <br><br>\n",
    "Por lo general se utilizan como *__stop losses__*, para proteger si el precio de mueve en contra de una posición."
   ]
  },
  {
   "cell_type": "markdown",
   "id": "f009b2ec-a24d-4799-84b6-ce52f5d935fb",
   "metadata": {
    "slideshow": {
     "slide_type": "subslide"
    }
   },
   "source": [
    "### <font color='#2B17B0'>Stop orders (ejemplo)</font>\n",
    "Supongamos que Erika:\n",
    "* Tiene una posición en CEMEXCPO\n",
    "* La compró a MXN\\$6.8\n",
    "* Está dispuesta a perder hasta un 15\\% de su valor inicial, antes de venderla"
   ]
  },
  {
   "cell_type": "markdown",
   "id": "b9934e05-c5ac-4fd1-a3dd-1d491edf52a5",
   "metadata": {
    "slideshow": {
     "slide_type": "subslide"
    }
   },
   "source": [
    "* Por lo cual Erika pone un stop order a MXN\\$5.78 \n",
    "* $6.8 * (1-.15)$\n",
    "* La orden no se activará hasta que el precio de CEMEXCPO llegue o caiga por debajo de los \\$5.78"
   ]
  },
  {
   "cell_type": "markdown",
   "id": "ee4dbb37-a20d-4863-a626-98e937c066bf",
   "metadata": {
    "slideshow": {
     "slide_type": "subslide"
    }
   },
   "source": [
    "* El stop order, solo activa la orden para que sea comercializada\n",
    "* No garantiza que la posición se ejecute a ese precio\n",
    "* Si Erika quiere garantizar limitar su pérdida a \\$5.78:\n",
    "    * Su mejor alternativa es comprar una opción PUT, con un K de \\$5.78"
   ]
  },
  {
   "cell_type": "markdown",
   "id": "eadd5b25-01cd-4e51-8f33-bfd0c260f849",
   "metadata": {
    "slideshow": {
     "slide_type": "subslide"
    }
   },
   "source": [
    "### <font color='#2B17B0'>Órdenes limitadas y stop orders</font>\n",
    "La diferencia entre ellas radica en el propósito del uso del *__precio__*:\n",
    "* La _orden limitada_ especifica a que precio se puede ejecutar la orden\n",
    "* El _stop loss_ indica que la orden se activa si llega a ese precio"
   ]
  },
  {
   "cell_type": "markdown",
   "id": "2260e485-8799-4a14-9a0e-6fdcb3f45f81",
   "metadata": {
    "slideshow": {
     "slide_type": "subslide"
    }
   },
   "source": [
    "Se puede anexar un stop order a una orden limitada.  Se tienen que especificar dos precios:\n",
    "1. El _stop price_ para activar la orden\n",
    "1. El _precio limitado_ para indicar a que precio se puede concretar la orden\n",
    "1. A esta orden combinada se le conoce como _**Stop limit order**_"
   ]
  },
  {
   "cell_type": "markdown",
   "id": "ccd3b2fe-d278-4814-8f5b-059bcb80d4b6",
   "metadata": {
    "slideshow": {
     "slide_type": "slide"
    }
   },
   "source": [
    "## <font color='#2B17B0'>Introducción al análisis financiero</font>"
   ]
  },
  {
   "cell_type": "markdown",
   "id": "94c53e89-6cd3-4f4b-9bf2-a33d0f176ca4",
   "metadata": {
    "slideshow": {
     "slide_type": "subslide"
    }
   },
   "source": [
    "## <font color='#2B17B0'>Maneras de seleccionar donde invertir</font>"
   ]
  },
  {
   "cell_type": "markdown",
   "id": "d4d27ed9-cbe9-4a47-9b9d-58a3643a6c77",
   "metadata": {
    "slideshow": {
     "slide_type": "fragment"
    }
   },
   "source": [
    "* _**Subjetiva**_"
   ]
  },
  {
   "cell_type": "markdown",
   "id": "0782762a-e317-4355-a135-f5480eddd60d",
   "metadata": {
    "slideshow": {
     "slide_type": "fragment"
    }
   },
   "source": [
    "* _**Objetiva / Analítica**_\n",
    "    * Análisis técnico\n",
    "    * Análisis fundamental\n",
    "    * Otros"
   ]
  },
  {
   "cell_type": "markdown",
   "id": "18e2979a-6fc6-47d6-89f2-b9fa9cd97a6a",
   "metadata": {
    "slideshow": {
     "slide_type": "subslide"
    }
   },
   "source": [
    "## <font color='#2B17B0'>Características del Análisis Técnico y el Fundamental</font>"
   ]
  },
  {
   "cell_type": "markdown",
   "id": "7e5ffdc5-5305-4ca0-9403-b9a6a036a339",
   "metadata": {
    "slideshow": {
     "slide_type": "fragment"
    }
   },
   "source": [
    "||Técnico||Fundamental|\n",
    "|:-|:-:|:-:|:-:|\n",
    "|**Objetivo**|_Encontrar tendencias en el precio_||_Encontrar empresas mal valoradas_|\n",
    "|**Enfoque**|_Precios históricos_||_Utilidades, flujos, etc._|\n",
    "|**Métricas**|_Indicadores estadísticos_||_Multiplos, razones financieras, flujos descontados, etc_|\n",
    "|**Resultado**|_Señales de compra/venta_||_Definir si la empresa está sub o sobre valuada_|"
   ]
  },
  {
   "cell_type": "markdown",
   "id": "27493f82-ee52-44ce-8fae-acac9616b8f7",
   "metadata": {
    "slideshow": {
     "slide_type": "subslide"
    }
   },
   "source": [
    "### <font color='#2B17B0'>Desempeño y horizonte de inversión</font>"
   ]
  },
  {
   "cell_type": "markdown",
   "id": "b6452900-003b-4fd0-b5c7-21f06e26fe25",
   "metadata": {},
   "source": [
    "![ActaConstitutivaVOC](https://dl.dropboxusercontent.com/scl/fi/cga82zk4grlwwalxp8dh8/horizonte_inversion.png?rlkey=t7g4k52z7qp0g6pnoqxunnse9&dl=0)<br>"
   ]
  },
  {
   "cell_type": "markdown",
   "id": "d0f4988c-bf5b-4044-852f-47ea68193c6d",
   "metadata": {
    "slideshow": {
     "slide_type": "subslide"
    }
   },
   "source": [
    "## <font color='#2B17B0'>Breve introducción Análisis Fundamental</font>"
   ]
  },
  {
   "cell_type": "markdown",
   "id": "78687fc3-ab65-4a00-a537-98ce6dc82a17",
   "metadata": {
    "slideshow": {
     "slide_type": "subslide"
    }
   },
   "source": [
    "### <font color='#2B17B0'>¿Qué es?</font>"
   ]
  },
  {
   "cell_type": "markdown",
   "id": "627f3fc5-2be7-488d-a1a4-9ef95131de93",
   "metadata": {
    "slideshow": {
     "slide_type": "fragment"
    }
   },
   "source": [
    "> _Es la habilidad de interpretar toda la información que las empresas públicas proveen al público inversionista, para tomar decisiones de inversión inteligentes_"
   ]
  },
  {
   "cell_type": "markdown",
   "id": "8f424646-f20f-41c7-ab68-9c448a9503b5",
   "metadata": {
    "slideshow": {
     "slide_type": "subslide"
    }
   },
   "source": [
    "### <font color='#2B17B0'>¿Por qué utilizarlo?</font>"
   ]
  },
  {
   "cell_type": "markdown",
   "id": "20c77783-ec1c-4a8d-bacd-49b6d67f0566",
   "metadata": {
    "slideshow": {
     "slide_type": "fragment"
    }
   },
   "source": [
    "* _Decisiones tomadas en base a hechos, no opiniones._\n",
    "* _Nos ayuda a detectar cambios en la salud general de la empresa, antes de que las complicaciones empiecen._\n",
    "* _Nos ayuda a poner precios objetivos a las acciones._\n",
    "* _Hace que nos enfoquemos en la empresa y no la acción._"
   ]
  },
  {
   "cell_type": "markdown",
   "id": "3cf9db08-47c8-4596-a40d-11d4a723865c",
   "metadata": {
    "slideshow": {
     "slide_type": "subslide"
    }
   },
   "source": [
    "### <font color='#2B17B0'>¿En qué valores enfocarnos?</font>"
   ]
  },
  {
   "cell_type": "markdown",
   "id": "bceb7de5-75f7-4874-bf90-6cd6873379c4",
   "metadata": {
    "slideshow": {
     "slide_type": "fragment"
    }
   },
   "source": [
    "* _Desempeño  financiero_\n",
    "* _Recursos económicos_\n",
    "* _Valuación_\n",
    "* _Tendencias macro_\n",
    "* _Equipo de administración_"
   ]
  },
  {
   "cell_type": "markdown",
   "id": "75191a6e-2619-4b9f-9b1a-499dec86037f",
   "metadata": {
    "slideshow": {
     "slide_type": "subslide"
    }
   },
   "source": [
    "## <font color='#2B17B0'>Breve introducción al Análisis Técnico</font>"
   ]
  },
  {
   "cell_type": "markdown",
   "id": "f6f8bd38-d12c-4b35-a6b8-aa269afc57d6",
   "metadata": {
    "slideshow": {
     "slide_type": "subslide"
    }
   },
   "source": [
    "### <font color='#2B17B0'>¿Qué es?</font>"
   ]
  },
  {
   "cell_type": "markdown",
   "id": "e5051e4b-8c7d-47f8-9411-f6c6ec3232fe",
   "metadata": {
    "slideshow": {
     "slide_type": "fragment"
    }
   },
   "source": [
    "> _Es una metodología utilizada para predecir la dirección futura de los precios de activos financieros basándose en la revisión de patrones de precios pasados y volúmenes de negociación. En lugar de centrarse en los factores fundamentales de una empresa o una economía (como ventas, utilidades, tasas de interés), el análisis técnico se enfoca en el estudio de gráficos y otros instrumentos para identificar patrones que sugieran futuras actividades de precios._"
   ]
  },
  {
   "cell_type": "markdown",
   "id": "48683c89-adc1-45c9-877d-8e55238a7113",
   "metadata": {
    "slideshow": {
     "slide_type": "subslide"
    }
   },
   "source": [
    "### <font color='#2B17B0'>¿Por qué utilizarlo?</font>"
   ]
  },
  {
   "cell_type": "markdown",
   "id": "a4d41e76-75e9-49d1-87e3-135978cb2de5",
   "metadata": {
    "slideshow": {
     "slide_type": "fragment"
    }
   },
   "source": [
    "* _Una premisa fundamental del análisis técnico es que la historia tiende a repetirse_\n",
    "* _Al centrarse en el precio y el volumen, el análisis técnico busca descubrir la demanda y oferta subyacente en el mercado, lo que puede indicar futuros movimientos de precios_\n",
    "* _pueden tomar decisiones rápidas basadas en los signos y señales que observan_\n",
    "* _Puede ser utilizado en acciones, bonos, divisas, materias primas y prácticamente cualquier mercado con datos históricos de precios_"
   ]
  },
  {
   "cell_type": "markdown",
   "id": "bafc61a5-f5bf-4504-86b8-1ba362b179f4",
   "metadata": {
    "slideshow": {
     "slide_type": "subslide"
    }
   },
   "source": [
    "### <font color='#2B17B0'>¿En qué valores enfocarnos?</font>"
   ]
  },
  {
   "cell_type": "markdown",
   "id": "c772c472-1ab9-48ae-a166-e801cb0298fd",
   "metadata": {
    "slideshow": {
     "slide_type": "fragment"
    }
   },
   "source": [
    "* _Gráficos del precio_\n",
    "* _Patrones en los gráficos_\n",
    "* _Tendencias_\n",
    "* _Indicadores y osciladores_\n",
    "* _Volumen_\n",
    "* _Equipo de administración_\n",
    "* _Soportes y resistencias_"
   ]
  },
  {
   "cell_type": "code",
   "execution_count": null,
   "id": "65ebf06a-d7fb-4ffd-bfdb-b74dc93a635d",
   "metadata": {},
   "outputs": [],
   "source": []
  }
 ],
 "metadata": {
  "kernelspec": {
   "display_name": "Python 3 (ipykernel)",
   "language": "python",
   "name": "python3"
  },
  "language_info": {
   "codemirror_mode": {
    "name": "ipython",
    "version": 3
   },
   "file_extension": ".py",
   "mimetype": "text/x-python",
   "name": "python",
   "nbconvert_exporter": "python",
   "pygments_lexer": "ipython3",
   "version": "3.11.4"
  }
 },
 "nbformat": 4,
 "nbformat_minor": 5
}

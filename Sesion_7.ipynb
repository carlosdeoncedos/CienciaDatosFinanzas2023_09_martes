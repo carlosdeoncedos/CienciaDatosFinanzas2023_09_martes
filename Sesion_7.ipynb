{
 "cells": [
  {
   "cell_type": "markdown",
   "id": "8e4950db-c009-4790-b6dc-034c429dfe5d",
   "metadata": {
    "tags": []
   },
   "source": [
    "# <font color='#2B17B0'>CIENCIA DE DATOS APLICADA A FINANZAS</font>\n",
    "Sesión 7, 2023-10-23/24<br>\n",
    "Carlos Crespo Elizondo<br>\n",
    "EGADE BUSINESS SCHOOL"
   ]
  },
  {
   "cell_type": "markdown",
   "id": "6fbcea56-0c32-4286-8ad4-dd41f23bf230",
   "metadata": {
    "tags": []
   },
   "source": [
    "# <font color='#2B17B0'>Librerías a utilizar en clases</font>"
   ]
  },
  {
   "cell_type": "code",
   "execution_count": null,
   "id": "6201c28e-3021-448f-8bb8-97a55d2b06d6",
   "metadata": {
    "tags": []
   },
   "outputs": [],
   "source": [
    "from matplotlib.patches import FancyArrow\n",
    "from matplotlib.patches import Circle\n",
    "import matplotlib.pyplot as plt\n",
    "import herramientas_financieras as hf\n",
    "import pandas as pd\n",
    "import numpy as np\n",
    "import itertools\n",
    "import seaborn as sns\n",
    "\n",
    "\n",
    "# sns.set_style('darkgrid')"
   ]
  },
  {
   "cell_type": "code",
   "execution_count": null,
   "id": "548b886f-b289-420e-9241-7ba0b4f2748e",
   "metadata": {
    "tags": []
   },
   "outputs": [],
   "source": [
    "%load_ext autoreload\n",
    "%autoreload 2"
   ]
  },
  {
   "cell_type": "markdown",
   "id": "a43bda6e-2883-4c0b-a47c-7d98e8f8780b",
   "metadata": {
    "tags": []
   },
   "source": [
    "# <font color='#2B17B0'>Previo a empezar la clase:</font>"
   ]
  },
  {
   "cell_type": "markdown",
   "id": "6d375e02-52b2-444c-8353-f4abe74d576f",
   "metadata": {},
   "source": [
    "1. _Leer los componentes del IPC directamente del archivo de Excel de la página de BMV/S&P IPC (desarrollarlo en otra libreta)_\n",
    "    * _Link: https://www.spglobal.com/spdji/en/indices/equity/sp-bmv-ipc/#overview_\n",
    "1. _Mejorar la función precios para que pueda leer los precios de una o varias emisoras_\n",
    "    1. Incluir:\n",
    "        1. docstring\n",
    "        1. parámetros preestablecidos (accion=IPC, fecha2= la fecha de hoy y fecha1= hoy hace un año\n",
    "    * **_NOTA: Actualmente la función puede leer solo una emisora_**"
   ]
  },
  {
   "cell_type": "markdown",
   "id": "428dce89-0db7-4b1c-9420-f5b150b4c4fe",
   "metadata": {
    "tags": []
   },
   "source": [
    "# <font color='#2B17B0'>Portafolios de Inversión</font>"
   ]
  },
  {
   "cell_type": "markdown",
   "id": "f3327705-17a8-4e64-b72c-392613bae888",
   "metadata": {
    "tags": []
   },
   "source": [
    "## <font color='#2B17B0'>Retornos y volatilidad de 2 activos</font>"
   ]
  },
  {
   "cell_type": "code",
   "execution_count": null,
   "id": "2bb3cd5b-ea51-45be-8823-843bbdc27f52",
   "metadata": {
    "tags": []
   },
   "outputs": [],
   "source": [
    "df_2activos = pd.DataFrame({\n",
    "    \"rojo\":{'ret':.04, 'sigma':.2},\n",
    "    \"azul\":{'ret':.12, 'sigma':.3}})\n",
    "df_2activos"
   ]
  },
  {
   "cell_type": "code",
   "execution_count": null,
   "id": "feb0ca98-ec08-47f7-a958-0d1b5f62d938",
   "metadata": {
    "tags": []
   },
   "outputs": [],
   "source": [
    "hf.fig_2activos(df_2activos)"
   ]
  },
  {
   "cell_type": "markdown",
   "id": "386e6888-7133-4517-b138-0380f43297a1",
   "metadata": {
    "tags": []
   },
   "source": [
    "### Portafolio compuesto por 50% <font color='blue'>activo azul</font> y 50% <font color='red'>activo rojo</font>"
   ]
  },
  {
   "cell_type": "code",
   "execution_count": null,
   "id": "85ba95d9-2d15-413f-93ce-f3f3a2300728",
   "metadata": {
    "tags": []
   },
   "outputs": [],
   "source": [
    "hf.fig_pregunta(df_2activos)"
   ]
  },
  {
   "cell_type": "markdown",
   "id": "016817cd-2400-4b6c-bbe7-03089b3e06f9",
   "metadata": {},
   "source": [
    "### Cálculo del retorno de un portafolio de 2 activos"
   ]
  },
  {
   "cell_type": "markdown",
   "id": "f16baa54-9dbd-4843-a535-3d73f5323ca3",
   "metadata": {},
   "source": [
    "$$\\Large R_{w_A, w_B}=w_A*R_A + w_B*R_B$$"
   ]
  },
  {
   "cell_type": "markdown",
   "id": "cd7ae0a5-55fe-408a-b942-93b046582778",
   "metadata": {
    "tags": []
   },
   "source": [
    "### Cálculo de la volatilidad de un portafolio de 2 activos (fórmula teórica)"
   ]
  },
  {
   "cell_type": "markdown",
   "id": "03bbb074-7bf7-40b5-887b-4477f98a2718",
   "metadata": {},
   "source": [
    "$$\\Large \\sigma^2_{w_A, w_B}=\\sigma^2_{A}w^2_{A}+\\sigma^2_{B}w^2_{B}+2w_Aw_B\\sigma_A\\sigma_B\\rho_{A,B}$$"
   ]
  },
  {
   "cell_type": "markdown",
   "id": "9d89c4f1-062c-4692-96c2-cbae6419bc81",
   "metadata": {},
   "source": [
    "$$\\Large \\sigma_{w_a, w_b}=\\sqrt{\\sigma^2_{w_A, w_B}}$$"
   ]
  },
  {
   "cell_type": "code",
   "execution_count": null,
   "id": "70461942-de48-4fca-ae9d-38592866d16e",
   "metadata": {
    "tags": []
   },
   "outputs": [],
   "source": [
    "hf.fig_portafolio(df_2activos, .1)"
   ]
  },
  {
   "cell_type": "code",
   "execution_count": null,
   "id": "db391758-00fb-4a52-baa1-0396f0a1f8f0",
   "metadata": {
    "tags": []
   },
   "outputs": [],
   "source": [
    "hf.fig_port_dif_correlacion(df_2activos)"
   ]
  },
  {
   "cell_type": "code",
   "execution_count": null,
   "id": "867c8fc3-e8ad-4fcb-9db6-f7bf4d9e9cc4",
   "metadata": {},
   "outputs": [],
   "source": []
  },
  {
   "cell_type": "markdown",
   "id": "d13c5054-d0e0-41b4-9542-ad24efef9f3b",
   "metadata": {
    "tags": []
   },
   "source": [
    "## <font color='#2B17B0'>Construir portafolios utilizando Simulación MonteCarlo</font>"
   ]
  },
  {
   "cell_type": "markdown",
   "id": "33641750-c5fb-49b6-b178-9f30e30302d2",
   "metadata": {},
   "source": [
    "Para el desarrollo del primer portafolio de inversión, vamos a seguir los siguiente pasos:\n",
    "\n",
    "1. Importar librerías\n",
    "1. Importar precios de cierre\n",
    "1. Calcular retornos diarios y anuales\n",
    "1. Calcular $\\sigma$ diaria y anual\n",
    "1. Graficar dispersiones de los retornos anuales Vs $\\sigma$ anual\n",
    "1. Seleccionar de manera cuantitativa las acciones que formaran el portafolio (Sharp Ratio)\n",
    "1. Calcular matriz de covarianza  de las acciones seleccionadas\n",
    "1. Crear array NumPy para guardar los resultados de las simulaciones.\n",
    "1. Realizar simulación Monte Carlo\n",
    "1. Visualizar portafolio\n",
    "1. Visualizar resultados óptimos"
   ]
  },
  {
   "cell_type": "markdown",
   "id": "3cda632f-c669-41f5-9976-6c32726f4a6f",
   "metadata": {
    "tags": []
   },
   "source": [
    "### <font color='royalblue'>2. Importar precios de cierre</font>"
   ]
  },
  {
   "cell_type": "code",
   "execution_count": null,
   "id": "ffb6d237-fd0c-43c1-b242-693f67abcd9b",
   "metadata": {},
   "outputs": [],
   "source": []
  },
  {
   "cell_type": "markdown",
   "id": "2da0ba5b-7207-412f-a837-8c9e3ff0dd19",
   "metadata": {
    "tags": []
   },
   "source": [
    "### <font color='royalblue'>3. Calcular retornos diarios y anuales</font>"
   ]
  },
  {
   "cell_type": "markdown",
   "id": "6ce0b7fd-0ba5-4d88-bd98-579ae2679e06",
   "metadata": {},
   "source": [
    "#### Retornos diarios"
   ]
  },
  {
   "cell_type": "code",
   "execution_count": null,
   "id": "7f40376a-b819-455a-82dc-b9f45a751016",
   "metadata": {},
   "outputs": [],
   "source": []
  },
  {
   "cell_type": "markdown",
   "id": "58ab0e42-acfc-4cd3-8b83-c96cf52d37a6",
   "metadata": {},
   "source": [
    "#### Retornos anualizados"
   ]
  },
  {
   "cell_type": "code",
   "execution_count": null,
   "id": "a9841950-54aa-40db-b0bb-f02f74e89622",
   "metadata": {},
   "outputs": [],
   "source": []
  },
  {
   "cell_type": "markdown",
   "id": "f65dea7a-680f-4767-a08e-b8a77f6117bc",
   "metadata": {
    "tags": []
   },
   "source": [
    "### <font color='royalblue'>4. Calcular $\\sigma$ diaria y anual</font>"
   ]
  },
  {
   "cell_type": "markdown",
   "id": "09284332-2c19-4c3c-ba4c-666c0dbe44d7",
   "metadata": {},
   "source": [
    "#### Sigma diaria"
   ]
  },
  {
   "cell_type": "code",
   "execution_count": null,
   "id": "a38602d2-181a-4b05-9012-088b2f775339",
   "metadata": {},
   "outputs": [],
   "source": []
  },
  {
   "cell_type": "markdown",
   "id": "3a2fb8a1-4878-4a4d-a474-a5f1779cd153",
   "metadata": {},
   "source": [
    "#### Sigma anual"
   ]
  },
  {
   "cell_type": "code",
   "execution_count": null,
   "id": "7c921edd-f419-4678-875d-f0b1a1786d92",
   "metadata": {},
   "outputs": [],
   "source": []
  },
  {
   "cell_type": "markdown",
   "id": "26c5408c-25c6-4525-ab2b-08be5fc9526f",
   "metadata": {},
   "source": [
    "### <font color='royalblue'>5. Graficar dispersiones de los retornos anuales Vs $\\sigma$ anual</font>"
   ]
  },
  {
   "cell_type": "code",
   "execution_count": null,
   "id": "01a49ace-fdbc-437b-8083-d2b1a3ae386f",
   "metadata": {},
   "outputs": [],
   "source": []
  },
  {
   "cell_type": "markdown",
   "id": "914ecc55-55b8-4918-937c-7da92a6d8834",
   "metadata": {},
   "source": [
    "### <font color='royalblue'>6. Seleccionar de manera cuantitativa las acciones que formaran el portafolio</font>"
   ]
  },
  {
   "cell_type": "markdown",
   "id": "a0442c22-9ac1-4786-a286-9dd4ac450e18",
   "metadata": {},
   "source": [
    "#### Sharpe Ratio\n",
    "El Sharp Ratio, mide el rendimiento adicional que genera un activo por encima de la tasa de retorno libre de riesgo, ajustado por su volatilidad.<br><br>\n",
    "$$SharpRatio = \\frac{r_x - r_f}{\\sigma_x}$$<br>\n",
    "Como tasa libre de riesgo utilizaremos CETES a 28 dias $\\approx11\\%$ anual."
   ]
  },
  {
   "cell_type": "code",
   "execution_count": null,
   "id": "e1ea98fa-4800-4a00-ad2d-4e341959017b",
   "metadata": {},
   "outputs": [],
   "source": []
  },
  {
   "cell_type": "markdown",
   "id": "afaf94b0-cbe5-42f2-ac2b-1a99b96eb3bb",
   "metadata": {
    "tags": []
   },
   "source": [
    "### <font color='royalblue'>7. Calcular matriz de covarianza  de las acciones seleccionadas</font>"
   ]
  },
  {
   "cell_type": "code",
   "execution_count": null,
   "id": "d550edc2-843f-432d-8641-9a506b01c38a",
   "metadata": {},
   "outputs": [],
   "source": []
  },
  {
   "cell_type": "markdown",
   "id": "db0da21c-ccfc-4035-9e4c-2a5db7e2d0d3",
   "metadata": {
    "tags": []
   },
   "source": [
    "### <font color='royalblue'>8. Crear array NumPy para guardar los resultados de las simulaciones</font>\n",
    "Incluir las siguientes columnas:\n",
    "1. \\# de simulación\n",
    "  1. Retorno generado\n",
    "  1. $\\sigma$ del portafolio\n",
    "  1. Sharp Ratio del portafolio\n",
    "  1. y el peso (w) de cada acción que forman el portafolio"
   ]
  },
  {
   "cell_type": "code",
   "execution_count": null,
   "id": "b55b28c6-39e0-4cd8-ab91-105910577d0d",
   "metadata": {},
   "outputs": [],
   "source": []
  },
  {
   "cell_type": "markdown",
   "id": "b6eb9780-1798-4b56-8337-871f790ab422",
   "metadata": {
    "tags": []
   },
   "source": [
    "### <font color='royalblue'>9. Realizar simulación Monte Carlo</font>"
   ]
  },
  {
   "cell_type": "markdown",
   "id": "244d42e0-bfe2-4599-b3ed-7b662908468e",
   "metadata": {
    "tags": []
   },
   "source": [
    "### <font color='gray'>Cálculo $E(R_p)$, $\\sigma^2$ de un portafolio</font>\n",
    "Para calcular el retorno de un portafolio de *\"n\"* activos:<br>\n",
    "$E(R_p) = \\displaystyle\\sum_{i=1}^{n}{w_iE(R_i)}\\implies Rw$<br><br>\n",
    "Para calcular la $\\sigma^2$ de un portafolio de dos activos -Recordar que la nombre como fórmula teórica-:<br>\n",
    "$\\sigma_p^2 = w_1^2\\sigma_1^2 + w_2^2\\sigma_2^2 + 2w_1w_2\\sigma_1\\sigma_2\\rho_{12}$<br><br>\n",
    "Recordememos que la fórmula de la correlación es:<br><br>\n",
    "$\\large\\rho=\\frac{Cov_{i,j}}{\\sigma_i \\sigma_j}$<br><br>\n",
    "Podemos simplificar la fórmula de la varianza eliminando sustituyendo la fórmula de la $\\rho$ y simplificándola a:<br><br>\n",
    "$\\sigma_p^2 = w_1^2\\sigma_1^2 + w_2^2\\sigma_2^2 + 2w_1w_2\\sigma_1\\sigma_2\\frac{Cov_{1,2}}{\\sigma_1 \\sigma_2}\\implies \\sigma_p^2 = w_1^2\\sigma_1^2 + w_2^2\\sigma_2^2 + 2w_1w_2\\sigma_{1,2}$<br><br>\n",
    "Para calcular la $\\sigma^2$ de un portafolio de *\"n\"* activos:<br>\n",
    "$$\n",
    "\\begin{array}{rcl}\n",
    "\\sigma_p^2 & = & \\displaystyle\\sum_{i=1}^{n} {w_i^2\\sigma_i^2} +  \\displaystyle\\sum_{i=1}^{n} \\displaystyle\\sum_{j\\neq i}^{n}w_iw_j\\sigma_i\\sigma_j\\rho_{ij}\\\\\n",
    "& = & \\displaystyle\\sum_{i=1}^{n} \\displaystyle\\sum_{j=i}^{n}w_iw_j\\sigma_{i,j}\\\\\n",
    "& = & w^T\\sum w \n",
    "\\end{array}\n",
    "$$\n",
    "Donde $\\sum$ es la matriz de varianza - covarianza"
   ]
  },
  {
   "cell_type": "code",
   "execution_count": null,
   "id": "c3e129c9-c87d-4473-a08d-9d53b95d5814",
   "metadata": {},
   "outputs": [],
   "source": []
  },
  {
   "cell_type": "markdown",
   "id": "5cb4cab9-fa45-4c9c-9531-b5a98f1696c6",
   "metadata": {},
   "source": [
    "### <font color='gray'>Renombrar columnas</font>"
   ]
  },
  {
   "cell_type": "code",
   "execution_count": null,
   "id": "21e6ad20-7e63-4838-9065-2d9c2ab7b313",
   "metadata": {},
   "outputs": [],
   "source": []
  },
  {
   "cell_type": "markdown",
   "id": "fdfda7f0-7ea7-4757-90d8-0321c139d351",
   "metadata": {},
   "source": [
    "### <font color='gray'>Identificar portafolio con el máximo Sharp Ratio y el de mínima varianza </font>"
   ]
  },
  {
   "cell_type": "code",
   "execution_count": null,
   "id": "5b04737b-2514-46bc-800d-c060261b01a3",
   "metadata": {},
   "outputs": [],
   "source": []
  },
  {
   "cell_type": "markdown",
   "id": "58880efd-0c34-4cbd-9bae-2c0d2c2b9367",
   "metadata": {
    "tags": []
   },
   "source": [
    "### <font color='royalblue'>10. Visualizar portafolio</font>"
   ]
  },
  {
   "cell_type": "code",
   "execution_count": null,
   "id": "0143f48f-1c15-4b51-b87d-14bdbfd76b62",
   "metadata": {},
   "outputs": [],
   "source": []
  }
 ],
 "metadata": {
  "kernelspec": {
   "display_name": "Python 3 (ipykernel)",
   "language": "python",
   "name": "python3"
  },
  "language_info": {
   "codemirror_mode": {
    "name": "ipython",
    "version": 3
   },
   "file_extension": ".py",
   "mimetype": "text/x-python",
   "name": "python",
   "nbconvert_exporter": "python",
   "pygments_lexer": "ipython3",
   "version": "3.11.4"
  }
 },
 "nbformat": 4,
 "nbformat_minor": 5
}

{
 "cells": [
  {
   "cell_type": "markdown",
   "id": "2dd6c8ae-13e4-4a50-a461-4b9d625ca7ad",
   "metadata": {},
   "source": [
    "# <font color='#2B17B0'>CIENCIA DE DATOS APLICADA A FINANZAS</font>\n",
    "Sesión 8, 2023-10-30/31<br>\n",
    "Carlos Crespo Elizondo, MSF<br>\n",
    "EGADE BUSINESS SCHOOL"
   ]
  },
  {
   "cell_type": "markdown",
   "id": "7f032bed-7103-41cb-9156-accce91f020d",
   "metadata": {},
   "source": [
    "## <font color='#2B17B0'>Ligas API Binance</font>"
   ]
  },
  {
   "cell_type": "markdown",
   "id": "e073823c-fd46-4ee7-9597-74a5401c09e5",
   "metadata": {},
   "source": [
    "* _Repositorio Ofical API Binance:_<br>\n",
    "        https://github.com/binance<br>\n",
    "* _Documentación Conector Binance:_<br>\n",
    "        https://github.com/binance/binance-connector-python<br>\n",
    "* _Specs del API:_ <br>\n",
    "        https://binance-docs.github.io/apidocs/spot/en/#introduction<br>"
   ]
  },
  {
   "cell_type": "markdown",
   "id": "ce43dda8-1b8f-487b-bad9-6d27f411f4c0",
   "metadata": {},
   "source": [
    "## <font color='#2B17B0'>Importar librerías</font>"
   ]
  },
  {
   "cell_type": "code",
   "execution_count": 4,
   "id": "218bdd10-d74f-4d15-b0b1-35b5f4e7d57e",
   "metadata": {
    "tags": []
   },
   "outputs": [],
   "source": [
    "from binance.spot import Spot \n",
    "import pandas as pd\n"
   ]
  },
  {
   "cell_type": "markdown",
   "id": "4b6d33ab-5dfe-4a8e-b1cb-f7b3b9754b35",
   "metadata": {},
   "source": [
    "## <font color='#2B17B0'>Establecer cliente con Binance</font>"
   ]
  },
  {
   "cell_type": "markdown",
   "id": "9490c1dc-0873-473c-8963-b5f339163972",
   "metadata": {},
   "source": [
    "Para comenzar, es esencial establecer las claves de autenticación que generamos en la sección de API's en Binance.com."
   ]
  },
  {
   "cell_type": "code",
   "execution_count": 5,
   "id": "9057d3f2-6891-4b9a-b54b-c99c2e3b833d",
   "metadata": {
    "tags": []
   },
   "outputs": [],
   "source": [
    "api_key = # TU LLAVE PUBLICA\n",
    "api_password = # TU LLAVE SECRETA"
   ]
  },
  {
   "cell_type": "markdown",
   "id": "2f43eeb6-81dc-44f8-82f3-32387d39af77",
   "metadata": {},
   "source": [
    "Con las claves listas, procedemos a establecer la comunicación con Binance mediante la creación de un cliente, utilizando la clase Spot proporcionada por el API de Binance."
   ]
  },
  {
   "cell_type": "code",
   "execution_count": 6,
   "id": "972b48a3-1091-4a94-bfc8-3bfabebe6ad4",
   "metadata": {
    "tags": []
   },
   "outputs": [],
   "source": [
    "cliente = Spot(api_key, api_password)"
   ]
  },
  {
   "cell_type": "markdown",
   "id": "1df14e20-3986-4858-a41d-82ca88767b49",
   "metadata": {},
   "source": [
    "Tal como exploramos en la sesión, la clase Spot incorpora numerosas funciones útiles. Por ejemplo, podemos obtener un resumen instantáneo de nuestra cuenta empleando el método account_snapshot."
   ]
  },
  {
   "cell_type": "markdown",
   "id": "05f7b984-5d82-4b52-a629-359d10346c12",
   "metadata": {},
   "source": [
    "## <font color='#2B17B0'>Detalles de la cuenta Spot</font>"
   ]
  },
  {
   "cell_type": "code",
   "execution_count": null,
   "id": "b2e045b0-d79e-4d7c-8d94-12d157478dfb",
   "metadata": {
    "tags": []
   },
   "outputs": [],
   "source": [
    "cliente.account_snapshot(\"SPOT\")"
   ]
  },
  {
   "cell_type": "markdown",
   "id": "725b7330-428c-42a6-b9a1-f986ade3b58f",
   "metadata": {},
   "source": [
    "Para consultar las últimas \"n\" operaciones de una criptomoneda específica, aplicamos el método `historical_trades`. Este nos presenta por defecto las últimas 500 transacciones, aunque podemos solicitar hasta un máximo de 1,000 ajustando el parámetro `limit`.\n",
    "\n",
    "> _**CORRECCIÓN DEL LUNES:** En la clase, mencioné incorrectamente que el primer elemento de la lista representa la transacción más reciente. Me equivoqué; si observamos con detenimiento, el 'id' de cada transacción se incrementa en la lista, lo que significa que el elemento con índice 0 es en realidad la operación más antigua, mientras que el último elemento, -1, es la más reciente._"
   ]
  },
  {
   "cell_type": "markdown",
   "id": "9af75e48-7473-4882-a49e-ed40376ab2d0",
   "metadata": {
    "tags": []
   },
   "source": [
    "## <font color='#2B17B0'>Ver trades históricos</font>"
   ]
  },
  {
   "cell_type": "code",
   "execution_count": 7,
   "id": "b1c03564-96e6-4c61-a451-a0b1cb08f7a6",
   "metadata": {
    "tags": []
   },
   "outputs": [
    {
     "data": {
      "text/plain": [
       "[{'id': 3265543098,\n",
       "  'price': '35512.13000000',\n",
       "  'qty': '0.00296000',\n",
       "  'quoteQty': '105.11590480',\n",
       "  'time': 1698900155558,\n",
       "  'isBuyerMaker': True,\n",
       "  'isBestMatch': True},\n",
       " {'id': 3265543099,\n",
       "  'price': '35512.13000000',\n",
       "  'qty': '0.00641000',\n",
       "  'quoteQty': '227.63275330',\n",
       "  'time': 1698900155656,\n",
       "  'isBuyerMaker': True,\n",
       "  'isBestMatch': True},\n",
       " {'id': 3265543100,\n",
       "  'price': '35512.13000000',\n",
       "  'qty': '0.27088000',\n",
       "  'quoteQty': '9619.52577440',\n",
       "  'time': 1698900155725,\n",
       "  'isBuyerMaker': True,\n",
       "  'isBestMatch': True},\n",
       " {'id': 3265543101,\n",
       "  'price': '35512.13000000',\n",
       "  'qty': '0.00033000',\n",
       "  'quoteQty': '11.71900290',\n",
       "  'time': 1698900155725,\n",
       "  'isBuyerMaker': True,\n",
       "  'isBestMatch': True},\n",
       " {'id': 3265543102,\n",
       "  'price': '35512.13000000',\n",
       "  'qty': '0.22728000',\n",
       "  'quoteQty': '8071.19690640',\n",
       "  'time': 1698900155725,\n",
       "  'isBuyerMaker': True,\n",
       "  'isBestMatch': True},\n",
       " {'id': 3265543103,\n",
       "  'price': '35512.13000000',\n",
       "  'qty': '0.00049000',\n",
       "  'quoteQty': '17.40094370',\n",
       "  'time': 1698900155725,\n",
       "  'isBuyerMaker': True,\n",
       "  'isBestMatch': True},\n",
       " {'id': 3265543104,\n",
       "  'price': '35512.13000000',\n",
       "  'qty': '0.04271000',\n",
       "  'quoteQty': '1516.72307230',\n",
       "  'time': 1698900155725,\n",
       "  'isBuyerMaker': True,\n",
       "  'isBestMatch': True},\n",
       " {'id': 3265543105,\n",
       "  'price': '35511.74000000',\n",
       "  'qty': '0.00050000',\n",
       "  'quoteQty': '17.75587000',\n",
       "  'time': 1698900155854,\n",
       "  'isBuyerMaker': False,\n",
       "  'isBestMatch': True},\n",
       " {'id': 3265543106,\n",
       "  'price': '35511.73000000',\n",
       "  'qty': '0.00070000',\n",
       "  'quoteQty': '24.85821100',\n",
       "  'time': 1698900156593,\n",
       "  'isBuyerMaker': True,\n",
       "  'isBestMatch': True},\n",
       " {'id': 3265543107,\n",
       "  'price': '35511.73000000',\n",
       "  'qty': '0.00042000',\n",
       "  'quoteQty': '14.91492660',\n",
       "  'time': 1698900156593,\n",
       "  'isBuyerMaker': True,\n",
       "  'isBestMatch': True}]"
      ]
     },
     "execution_count": 7,
     "metadata": {},
     "output_type": "execute_result"
    }
   ],
   "source": [
    "precios_btc = cliente.historical_trades('BTCUSDT',limit=10)\n",
    "precios_btc"
   ]
  },
  {
   "cell_type": "markdown",
   "id": "cc4d4cfe-2e54-458c-8ea3-fc378ba2bdba",
   "metadata": {},
   "source": [
    "Una forma sencilla de visualizar solo los precios es a través de un `for loop`"
   ]
  },
  {
   "cell_type": "code",
   "execution_count": 8,
   "id": "ed225d1c-2dfa-4d26-8386-09804f463c06",
   "metadata": {
    "tags": []
   },
   "outputs": [],
   "source": [
    "lista_precios = []\n",
    "for precio in precios_btc:\n",
    "    lista_precios.append(precio['price'])"
   ]
  },
  {
   "cell_type": "markdown",
   "id": "48653149-e1ce-4747-bf63-657bcfa1c98a",
   "metadata": {},
   "source": [
    "1. Creo una lista llamada `lista_precios` y la defino vacía\n",
    "1. Creo el `for loop` guardando el valor de la iteración en turno, en la variable `precios`\n",
    "1. `precios` es un diccionario, y utilizando la llave `price`, obtengo el precio de la transacción en turno y lo guardamos en la lista `lista_precios` utilizando el método `append`"
   ]
  },
  {
   "cell_type": "code",
   "execution_count": 9,
   "id": "53edffa0-7a0d-4fbd-b035-63e657aff5be",
   "metadata": {
    "tags": []
   },
   "outputs": [
    {
     "data": {
      "text/plain": [
       "['35512.13000000',\n",
       " '35512.13000000',\n",
       " '35512.13000000',\n",
       " '35512.13000000',\n",
       " '35512.13000000',\n",
       " '35512.13000000',\n",
       " '35512.13000000',\n",
       " '35511.74000000',\n",
       " '35511.73000000',\n",
       " '35511.73000000']"
      ]
     },
     "execution_count": 9,
     "metadata": {},
     "output_type": "execute_result"
    }
   ],
   "source": [
    "lista_precios"
   ]
  },
  {
   "cell_type": "markdown",
   "id": "b157bca6-c94a-4909-8608-7462dbff66ea",
   "metadata": {},
   "source": [
    "> _**NOTA:**  la situación anterior hubiera sido ideal para aplicar el método de 'list comprehension', el cual no discutimos en clase. A continuación, lo desarrollaré:_"
   ]
  },
  {
   "cell_type": "code",
   "execution_count": 10,
   "id": "df335c37-78ef-4bd8-8be3-d21cd38813d1",
   "metadata": {
    "tags": []
   },
   "outputs": [
    {
     "data": {
      "text/plain": [
       "['35512.13000000',\n",
       " '35512.13000000',\n",
       " '35512.13000000',\n",
       " '35512.13000000',\n",
       " '35512.13000000',\n",
       " '35512.13000000',\n",
       " '35512.13000000',\n",
       " '35511.74000000',\n",
       " '35511.73000000',\n",
       " '35511.73000000']"
      ]
     },
     "execution_count": 10,
     "metadata": {},
     "output_type": "execute_result"
    }
   ],
   "source": [
    "lista_precios2 = [precio['price'] for precio in precios_btc]\n",
    "lista_precios2"
   ]
  },
  {
   "cell_type": "markdown",
   "id": "cd939e5b-e6d5-40de-a391-e27f93cb9e88",
   "metadata": {},
   "source": [
    "'list comprehension' extrae el `precio` de cada elemento dentro de la lista `precios_btc` y lo añade directamente a `lista_precios`."
   ]
  },
  {
   "cell_type": "markdown",
   "id": "7820b777-4683-4616-a24e-f174aa731cdc",
   "metadata": {
    "tags": []
   },
   "source": [
    "## <font color='#2B17B0'>Ver precios O-H-L-C</font>"
   ]
  },
  {
   "cell_type": "markdown",
   "id": "0c0347e0-feb0-4533-a574-5b97a55b5161",
   "metadata": {},
   "source": [
    "La función `klines` nos permite acceder a los precios históricos de apertura, máximo, mínimo, cierre y volumen, entre otros. Es crucial especificar el par de interés y el intervalo de tiempo deseado en los parámetros de la función (por ejemplo, 1s, 1m, 5m, 1h, 1d, etc.)."
   ]
  },
  {
   "cell_type": "code",
   "execution_count": 13,
   "id": "c607ab54-4899-4e93-aa9a-7a7e6eddf588",
   "metadata": {
    "tags": []
   },
   "outputs": [
    {
     "data": {
      "text/html": [
       "<div>\n",
       "<style scoped>\n",
       "    .dataframe tbody tr th:only-of-type {\n",
       "        vertical-align: middle;\n",
       "    }\n",
       "\n",
       "    .dataframe tbody tr th {\n",
       "        vertical-align: top;\n",
       "    }\n",
       "\n",
       "    .dataframe thead th {\n",
       "        text-align: right;\n",
       "    }\n",
       "</style>\n",
       "<table border=\"1\" class=\"dataframe\">\n",
       "  <thead>\n",
       "    <tr style=\"text-align: right;\">\n",
       "      <th></th>\n",
       "      <th>0</th>\n",
       "      <th>1</th>\n",
       "      <th>2</th>\n",
       "      <th>3</th>\n",
       "      <th>4</th>\n",
       "      <th>5</th>\n",
       "      <th>6</th>\n",
       "      <th>7</th>\n",
       "      <th>8</th>\n",
       "      <th>9</th>\n",
       "      <th>10</th>\n",
       "      <th>11</th>\n",
       "    </tr>\n",
       "  </thead>\n",
       "  <tbody>\n",
       "    <tr>\n",
       "      <th>0</th>\n",
       "      <td>1697104800000</td>\n",
       "      <td>26742.30000000</td>\n",
       "      <td>26782.93000000</td>\n",
       "      <td>26732.73000000</td>\n",
       "      <td>26754.79000000</td>\n",
       "      <td>848.54755000</td>\n",
       "      <td>1697108399999</td>\n",
       "      <td>22701781.20705750</td>\n",
       "      <td>41251</td>\n",
       "      <td>417.50990000</td>\n",
       "      <td>11169471.26165470</td>\n",
       "      <td>0</td>\n",
       "    </tr>\n",
       "    <tr>\n",
       "      <th>1</th>\n",
       "      <td>1697108400000</td>\n",
       "      <td>26754.80000000</td>\n",
       "      <td>26867.14000000</td>\n",
       "      <td>26721.79000000</td>\n",
       "      <td>26837.84000000</td>\n",
       "      <td>1118.35858000</td>\n",
       "      <td>1697111999999</td>\n",
       "      <td>29951353.88296260</td>\n",
       "      <td>44361</td>\n",
       "      <td>498.47122000</td>\n",
       "      <td>13353799.62690120</td>\n",
       "      <td>0</td>\n",
       "    </tr>\n",
       "    <tr>\n",
       "      <th>2</th>\n",
       "      <td>1697112000000</td>\n",
       "      <td>26837.84000000</td>\n",
       "      <td>26857.25000000</td>\n",
       "      <td>26753.20000000</td>\n",
       "      <td>26829.99000000</td>\n",
       "      <td>1234.09508000</td>\n",
       "      <td>1697115599999</td>\n",
       "      <td>33089201.72283190</td>\n",
       "      <td>61837</td>\n",
       "      <td>513.03235000</td>\n",
       "      <td>13755056.90850320</td>\n",
       "      <td>0</td>\n",
       "    </tr>\n",
       "    <tr>\n",
       "      <th>3</th>\n",
       "      <td>1697115600000</td>\n",
       "      <td>26830.00000000</td>\n",
       "      <td>26862.74000000</td>\n",
       "      <td>26685.71000000</td>\n",
       "      <td>26761.60000000</td>\n",
       "      <td>1250.80678000</td>\n",
       "      <td>1697119199999</td>\n",
       "      <td>33484040.57321870</td>\n",
       "      <td>63884</td>\n",
       "      <td>558.73533000</td>\n",
       "      <td>14957867.72615530</td>\n",
       "      <td>0</td>\n",
       "    </tr>\n",
       "    <tr>\n",
       "      <th>4</th>\n",
       "      <td>1697119200000</td>\n",
       "      <td>26761.60000000</td>\n",
       "      <td>26778.89000000</td>\n",
       "      <td>26633.57000000</td>\n",
       "      <td>26701.94000000</td>\n",
       "      <td>1079.08891000</td>\n",
       "      <td>1697122799999</td>\n",
       "      <td>28811399.12263860</td>\n",
       "      <td>62918</td>\n",
       "      <td>521.71275000</td>\n",
       "      <td>13929144.64028130</td>\n",
       "      <td>0</td>\n",
       "    </tr>\n",
       "    <tr>\n",
       "      <th>...</th>\n",
       "      <td>...</td>\n",
       "      <td>...</td>\n",
       "      <td>...</td>\n",
       "      <td>...</td>\n",
       "      <td>...</td>\n",
       "      <td>...</td>\n",
       "      <td>...</td>\n",
       "      <td>...</td>\n",
       "      <td>...</td>\n",
       "      <td>...</td>\n",
       "      <td>...</td>\n",
       "      <td>...</td>\n",
       "    </tr>\n",
       "    <tr>\n",
       "      <th>495</th>\n",
       "      <td>1698886800000</td>\n",
       "      <td>35423.30000000</td>\n",
       "      <td>35616.01000000</td>\n",
       "      <td>35397.21000000</td>\n",
       "      <td>35567.88000000</td>\n",
       "      <td>1474.15678000</td>\n",
       "      <td>1698890399999</td>\n",
       "      <td>52349329.31438740</td>\n",
       "      <td>49519</td>\n",
       "      <td>736.97967000</td>\n",
       "      <td>26171031.25187030</td>\n",
       "      <td>0</td>\n",
       "    </tr>\n",
       "    <tr>\n",
       "      <th>496</th>\n",
       "      <td>1698890400000</td>\n",
       "      <td>35567.88000000</td>\n",
       "      <td>35984.99000000</td>\n",
       "      <td>35518.61000000</td>\n",
       "      <td>35678.85000000</td>\n",
       "      <td>3510.79479000</td>\n",
       "      <td>1698893999999</td>\n",
       "      <td>125464412.59803680</td>\n",
       "      <td>97773</td>\n",
       "      <td>1832.46481000</td>\n",
       "      <td>65494157.53471920</td>\n",
       "      <td>0</td>\n",
       "    </tr>\n",
       "    <tr>\n",
       "      <th>497</th>\n",
       "      <td>1698894000000</td>\n",
       "      <td>35678.85000000</td>\n",
       "      <td>35819.81000000</td>\n",
       "      <td>35550.00000000</td>\n",
       "      <td>35571.68000000</td>\n",
       "      <td>2247.13667000</td>\n",
       "      <td>1698897599999</td>\n",
       "      <td>80156371.48798040</td>\n",
       "      <td>65512</td>\n",
       "      <td>1044.43685000</td>\n",
       "      <td>37259459.27456920</td>\n",
       "      <td>0</td>\n",
       "    </tr>\n",
       "    <tr>\n",
       "      <th>498</th>\n",
       "      <td>1698897600000</td>\n",
       "      <td>35571.68000000</td>\n",
       "      <td>35600.00000000</td>\n",
       "      <td>35445.92000000</td>\n",
       "      <td>35460.39000000</td>\n",
       "      <td>1226.10027000</td>\n",
       "      <td>1698901199999</td>\n",
       "      <td>43561720.44976880</td>\n",
       "      <td>43364</td>\n",
       "      <td>557.25875000</td>\n",
       "      <td>19799046.63346980</td>\n",
       "      <td>0</td>\n",
       "    </tr>\n",
       "    <tr>\n",
       "      <th>499</th>\n",
       "      <td>1698901200000</td>\n",
       "      <td>35460.38000000</td>\n",
       "      <td>35486.75000000</td>\n",
       "      <td>35382.61000000</td>\n",
       "      <td>35405.25000000</td>\n",
       "      <td>363.50309000</td>\n",
       "      <td>1698904799999</td>\n",
       "      <td>12877022.57797290</td>\n",
       "      <td>12175</td>\n",
       "      <td>150.11373000</td>\n",
       "      <td>5318024.59572930</td>\n",
       "      <td>0</td>\n",
       "    </tr>\n",
       "  </tbody>\n",
       "</table>\n",
       "<p>500 rows × 12 columns</p>\n",
       "</div>"
      ],
      "text/plain": [
       "                0               1               2               3   \\\n",
       "0    1697104800000  26742.30000000  26782.93000000  26732.73000000   \n",
       "1    1697108400000  26754.80000000  26867.14000000  26721.79000000   \n",
       "2    1697112000000  26837.84000000  26857.25000000  26753.20000000   \n",
       "3    1697115600000  26830.00000000  26862.74000000  26685.71000000   \n",
       "4    1697119200000  26761.60000000  26778.89000000  26633.57000000   \n",
       "..             ...             ...             ...             ...   \n",
       "495  1698886800000  35423.30000000  35616.01000000  35397.21000000   \n",
       "496  1698890400000  35567.88000000  35984.99000000  35518.61000000   \n",
       "497  1698894000000  35678.85000000  35819.81000000  35550.00000000   \n",
       "498  1698897600000  35571.68000000  35600.00000000  35445.92000000   \n",
       "499  1698901200000  35460.38000000  35486.75000000  35382.61000000   \n",
       "\n",
       "                 4              5              6                   7      8   \\\n",
       "0    26754.79000000   848.54755000  1697108399999   22701781.20705750  41251   \n",
       "1    26837.84000000  1118.35858000  1697111999999   29951353.88296260  44361   \n",
       "2    26829.99000000  1234.09508000  1697115599999   33089201.72283190  61837   \n",
       "3    26761.60000000  1250.80678000  1697119199999   33484040.57321870  63884   \n",
       "4    26701.94000000  1079.08891000  1697122799999   28811399.12263860  62918   \n",
       "..              ...            ...            ...                 ...    ...   \n",
       "495  35567.88000000  1474.15678000  1698890399999   52349329.31438740  49519   \n",
       "496  35678.85000000  3510.79479000  1698893999999  125464412.59803680  97773   \n",
       "497  35571.68000000  2247.13667000  1698897599999   80156371.48798040  65512   \n",
       "498  35460.39000000  1226.10027000  1698901199999   43561720.44976880  43364   \n",
       "499  35405.25000000   363.50309000  1698904799999   12877022.57797290  12175   \n",
       "\n",
       "                9                  10 11  \n",
       "0     417.50990000  11169471.26165470  0  \n",
       "1     498.47122000  13353799.62690120  0  \n",
       "2     513.03235000  13755056.90850320  0  \n",
       "3     558.73533000  14957867.72615530  0  \n",
       "4     521.71275000  13929144.64028130  0  \n",
       "..             ...                ... ..  \n",
       "495   736.97967000  26171031.25187030  0  \n",
       "496  1832.46481000  65494157.53471920  0  \n",
       "497  1044.43685000  37259459.27456920  0  \n",
       "498   557.25875000  19799046.63346980  0  \n",
       "499   150.11373000   5318024.59572930  0  \n",
       "\n",
       "[500 rows x 12 columns]"
      ]
     },
     "execution_count": 13,
     "metadata": {},
     "output_type": "execute_result"
    }
   ],
   "source": [
    "klines = cliente.klines('BTCUSDT', '1h')\n",
    "df = pd.DataFrame(klines)\n",
    "df"
   ]
  },
  {
   "cell_type": "markdown",
   "id": "2616aec4-481f-4b82-98fc-63fd01f3046f",
   "metadata": {},
   "source": [
    "> _**COMENTARIO CLASE LUNES:**  Parece que omitimos esta función en clase. Al revisar el DataFrame df, notamos que las columnas solo están numeradas del 0 al 11, sin nombres descriptivos. Para entender el significado de cada columna, es recomendable consultar la documentación de Binance en este enlace: https://binance-docs.github.io/apidocs/spot/en/#kline-candlestick-data. He resaltado en rojo la descripción correspondiente a cada columna._<br><br>\n",
    "\n",
    "![documentación](https://dl.dropboxusercontent.com/scl/fi/7a9zmrd73tqfmw2jjmlvf/Screenshot-2023-11-01-at-22.59.02.png?rlkey=mpqq7x27sedi01m6l5sw1ygvi&dl=0)"
   ]
  },
  {
   "cell_type": "markdown",
   "id": "2e6eb8d1-8f8e-4080-b661-a8a72a4dea3d",
   "metadata": {},
   "source": [
    "> _**COMENTARIO CLASE MARTES:**  Con más detalle, incorporaré la columna volume en nuestro código y eliminaré las columnas que no necesitaremos más adelante._<br><br>\n",
    "> _**COMENTARIO GENERAL:**  Optamos por mantener los nombres de las columnas en inglés, ya que así facilitaremos la creación de gráficas financieras._"
   ]
  },
  {
   "cell_type": "code",
   "execution_count": 14,
   "id": "e9ba4ffa-d064-4fab-abac-b4982bf9ab66",
   "metadata": {
    "tags": []
   },
   "outputs": [],
   "source": [
    "columnas_velas = {\n",
    "    0: 'Date',\n",
    "    1: 'Open',\n",
    "    2: 'High',\n",
    "    3: 'Low',\n",
    "    4: 'Close',\n",
    "    5: 'Volume'    \n",
    "}\n",
    "\n",
    "df.rename(columns=columnas_velas, inplace=True)\n",
    "df.drop(columns=df.columns[6:], inplace=True)"
   ]
  },
  {
   "cell_type": "code",
   "execution_count": 15,
   "id": "56a00739-d612-4224-b63d-8c0fa1e9c452",
   "metadata": {
    "tags": []
   },
   "outputs": [
    {
     "name": "stdout",
     "output_type": "stream",
     "text": [
      "<class 'pandas.core.frame.DataFrame'>\n",
      "RangeIndex: 500 entries, 0 to 499\n",
      "Data columns (total 6 columns):\n",
      " #   Column  Non-Null Count  Dtype \n",
      "---  ------  --------------  ----- \n",
      " 0   Date    500 non-null    int64 \n",
      " 1   Open    500 non-null    object\n",
      " 2   High    500 non-null    object\n",
      " 3   Low     500 non-null    object\n",
      " 4   Close   500 non-null    object\n",
      " 5   Volume  500 non-null    object\n",
      "dtypes: int64(1), object(5)\n",
      "memory usage: 23.6+ KB\n"
     ]
    }
   ],
   "source": [
    "df.info()"
   ]
  },
  {
   "cell_type": "markdown",
   "id": "1095c7fb-d81b-439e-8f33-6dd6656bea0f",
   "metadata": {},
   "source": [
    "Los tipos de datos de las columnas `Open`, `High`, `Low`,  `Close` y `Date` requieren ajustes; transformaremos sus valores de 'object' a numéricos, y la columna `Date` a formato 'datetime'."
   ]
  },
  {
   "cell_type": "code",
   "execution_count": 29,
   "id": "166c1a78-227e-446f-9205-80ba06dc06d3",
   "metadata": {
    "tags": []
   },
   "outputs": [],
   "source": [
    "lista = ['Open', 'High', 'Low', 'Close', 'Volume']\n",
    "df[lista] = df[lista].apply(pd.to_numeric)"
   ]
  },
  {
   "cell_type": "code",
   "execution_count": 17,
   "id": "27e2aba9-ec57-4119-bfe2-8b1f82c9658b",
   "metadata": {
    "tags": []
   },
   "outputs": [],
   "source": [
    "lista_columnas_fechas = ['Date']\n",
    "df[lista_columnas_fechas] = df[lista_columnas_fechas].apply(pd.to_datetime, unit='ms')"
   ]
  },
  {
   "cell_type": "code",
   "execution_count": 18,
   "id": "e096b897-8062-4519-bb8e-d79667aa5163",
   "metadata": {
    "tags": []
   },
   "outputs": [],
   "source": [
    "df.set_index('Date', inplace=True)"
   ]
  },
  {
   "cell_type": "code",
   "execution_count": 19,
   "id": "583c25a7-4948-4092-8ad1-c4312612f675",
   "metadata": {
    "tags": []
   },
   "outputs": [
    {
     "name": "stdout",
     "output_type": "stream",
     "text": [
      "<class 'pandas.core.frame.DataFrame'>\n",
      "DatetimeIndex: 500 entries, 2023-10-12 10:00:00 to 2023-11-02 05:00:00\n",
      "Data columns (total 5 columns):\n",
      " #   Column  Non-Null Count  Dtype  \n",
      "---  ------  --------------  -----  \n",
      " 0   Open    500 non-null    float64\n",
      " 1   High    500 non-null    float64\n",
      " 2   Low     500 non-null    float64\n",
      " 3   Close   500 non-null    float64\n",
      " 4   Volume  500 non-null    float64\n",
      "dtypes: float64(5)\n",
      "memory usage: 23.4 KB\n"
     ]
    }
   ],
   "source": [
    "df.info()"
   ]
  },
  {
   "cell_type": "code",
   "execution_count": 20,
   "id": "5df95463-de83-4f4d-b9e1-9fdba541954c",
   "metadata": {
    "tags": []
   },
   "outputs": [
    {
     "data": {
      "text/html": [
       "<div>\n",
       "<style scoped>\n",
       "    .dataframe tbody tr th:only-of-type {\n",
       "        vertical-align: middle;\n",
       "    }\n",
       "\n",
       "    .dataframe tbody tr th {\n",
       "        vertical-align: top;\n",
       "    }\n",
       "\n",
       "    .dataframe thead th {\n",
       "        text-align: right;\n",
       "    }\n",
       "</style>\n",
       "<table border=\"1\" class=\"dataframe\">\n",
       "  <thead>\n",
       "    <tr style=\"text-align: right;\">\n",
       "      <th></th>\n",
       "      <th>Open</th>\n",
       "      <th>High</th>\n",
       "      <th>Low</th>\n",
       "      <th>Close</th>\n",
       "      <th>Volume</th>\n",
       "    </tr>\n",
       "    <tr>\n",
       "      <th>Date</th>\n",
       "      <th></th>\n",
       "      <th></th>\n",
       "      <th></th>\n",
       "      <th></th>\n",
       "      <th></th>\n",
       "    </tr>\n",
       "  </thead>\n",
       "  <tbody>\n",
       "    <tr>\n",
       "      <th>2023-10-12 10:00:00</th>\n",
       "      <td>26742.30</td>\n",
       "      <td>26782.93</td>\n",
       "      <td>26732.73</td>\n",
       "      <td>26754.79</td>\n",
       "      <td>848.54755</td>\n",
       "    </tr>\n",
       "    <tr>\n",
       "      <th>2023-10-12 11:00:00</th>\n",
       "      <td>26754.80</td>\n",
       "      <td>26867.14</td>\n",
       "      <td>26721.79</td>\n",
       "      <td>26837.84</td>\n",
       "      <td>1118.35858</td>\n",
       "    </tr>\n",
       "    <tr>\n",
       "      <th>2023-10-12 12:00:00</th>\n",
       "      <td>26837.84</td>\n",
       "      <td>26857.25</td>\n",
       "      <td>26753.20</td>\n",
       "      <td>26829.99</td>\n",
       "      <td>1234.09508</td>\n",
       "    </tr>\n",
       "    <tr>\n",
       "      <th>2023-10-12 13:00:00</th>\n",
       "      <td>26830.00</td>\n",
       "      <td>26862.74</td>\n",
       "      <td>26685.71</td>\n",
       "      <td>26761.60</td>\n",
       "      <td>1250.80678</td>\n",
       "    </tr>\n",
       "    <tr>\n",
       "      <th>2023-10-12 14:00:00</th>\n",
       "      <td>26761.60</td>\n",
       "      <td>26778.89</td>\n",
       "      <td>26633.57</td>\n",
       "      <td>26701.94</td>\n",
       "      <td>1079.08891</td>\n",
       "    </tr>\n",
       "    <tr>\n",
       "      <th>...</th>\n",
       "      <td>...</td>\n",
       "      <td>...</td>\n",
       "      <td>...</td>\n",
       "      <td>...</td>\n",
       "      <td>...</td>\n",
       "    </tr>\n",
       "    <tr>\n",
       "      <th>2023-11-02 01:00:00</th>\n",
       "      <td>35423.30</td>\n",
       "      <td>35616.01</td>\n",
       "      <td>35397.21</td>\n",
       "      <td>35567.88</td>\n",
       "      <td>1474.15678</td>\n",
       "    </tr>\n",
       "    <tr>\n",
       "      <th>2023-11-02 02:00:00</th>\n",
       "      <td>35567.88</td>\n",
       "      <td>35984.99</td>\n",
       "      <td>35518.61</td>\n",
       "      <td>35678.85</td>\n",
       "      <td>3510.79479</td>\n",
       "    </tr>\n",
       "    <tr>\n",
       "      <th>2023-11-02 03:00:00</th>\n",
       "      <td>35678.85</td>\n",
       "      <td>35819.81</td>\n",
       "      <td>35550.00</td>\n",
       "      <td>35571.68</td>\n",
       "      <td>2247.13667</td>\n",
       "    </tr>\n",
       "    <tr>\n",
       "      <th>2023-11-02 04:00:00</th>\n",
       "      <td>35571.68</td>\n",
       "      <td>35600.00</td>\n",
       "      <td>35445.92</td>\n",
       "      <td>35460.39</td>\n",
       "      <td>1226.10027</td>\n",
       "    </tr>\n",
       "    <tr>\n",
       "      <th>2023-11-02 05:00:00</th>\n",
       "      <td>35460.38</td>\n",
       "      <td>35486.75</td>\n",
       "      <td>35382.61</td>\n",
       "      <td>35405.25</td>\n",
       "      <td>363.50309</td>\n",
       "    </tr>\n",
       "  </tbody>\n",
       "</table>\n",
       "<p>500 rows × 5 columns</p>\n",
       "</div>"
      ],
      "text/plain": [
       "                         Open      High       Low     Close      Volume\n",
       "Date                                                                   \n",
       "2023-10-12 10:00:00  26742.30  26782.93  26732.73  26754.79   848.54755\n",
       "2023-10-12 11:00:00  26754.80  26867.14  26721.79  26837.84  1118.35858\n",
       "2023-10-12 12:00:00  26837.84  26857.25  26753.20  26829.99  1234.09508\n",
       "2023-10-12 13:00:00  26830.00  26862.74  26685.71  26761.60  1250.80678\n",
       "2023-10-12 14:00:00  26761.60  26778.89  26633.57  26701.94  1079.08891\n",
       "...                       ...       ...       ...       ...         ...\n",
       "2023-11-02 01:00:00  35423.30  35616.01  35397.21  35567.88  1474.15678\n",
       "2023-11-02 02:00:00  35567.88  35984.99  35518.61  35678.85  3510.79479\n",
       "2023-11-02 03:00:00  35678.85  35819.81  35550.00  35571.68  2247.13667\n",
       "2023-11-02 04:00:00  35571.68  35600.00  35445.92  35460.39  1226.10027\n",
       "2023-11-02 05:00:00  35460.38  35486.75  35382.61  35405.25   363.50309\n",
       "\n",
       "[500 rows x 5 columns]"
      ]
     },
     "execution_count": 20,
     "metadata": {},
     "output_type": "execute_result"
    }
   ],
   "source": [
    "df"
   ]
  },
  {
   "cell_type": "markdown",
   "id": "ff5f083e-e3f9-408f-9678-9d005d9b2480",
   "metadata": {
    "tags": []
   },
   "source": [
    "## <font color='#2B17B0'>Crear gráfica de Velas Japonesas</font>"
   ]
  },
  {
   "cell_type": "markdown",
   "id": "ed89d343-ca46-4f4a-9174-caa1b9ecfb18",
   "metadata": {},
   "source": [
    "> _**NOTA CLASE LUNES:** Durante la clase no utilizamos la librería `mplfinance`.  Es una librería que nos ayuda a hacer gráficas financieras de manera fácil.  Puedes ver su documentación en la página https://github.com/matplotlib/mplfinance.  Para instalar la librería: `pip install mplfinance`_"
   ]
  },
  {
   "cell_type": "code",
   "execution_count": 21,
   "id": "05fb22ad-6c51-40ec-b4d6-0ea43e7eaa57",
   "metadata": {
    "tags": []
   },
   "outputs": [],
   "source": [
    "import mplfinance as mpf"
   ]
  },
  {
   "cell_type": "code",
   "execution_count": 27,
   "id": "e097527e-c3c5-4c18-9dac-8180ed63f414",
   "metadata": {
    "tags": []
   },
   "outputs": [
    {
     "data": {
      "image/png": "[encoded data removed]",
      "text/plain": [
       "<Figure size 800x575 with 2 Axes>"
      ]
     },
     "metadata": {},
     "output_type": "display_data"
    }
   ],
   "source": [
    "mpf.plot(df.loc['2023-10-29':], type='candle', style='yahoo') #<---Código de la clase del martes.\n",
    "#No incluimos el parámetro volume como True"
   ]
  },
  {
   "cell_type": "code",
   "execution_count": 28,
   "id": "8a719208-cc33-4dfa-b4d4-598c9ef7d29a",
   "metadata": {
    "tags": []
   },
   "outputs": [
    {
     "data": {
      "image/png": "[encoded data removed]",
      "text/plain": [
       "<Figure size 800x575 with 4 Axes>"
      ]
     },
     "metadata": {},
     "output_type": "display_data"
    }
   ],
   "source": [
    "#Código incluyendo el parámetro volume como True\n",
    "mpf.plot(df.loc['2023-10-29':], type='candle', style='yahoo', volume=True) "
   ]
  },
  {
   "cell_type": "markdown",
   "id": "1372569e-d876-4676-bda8-9f5169836df3",
   "metadata": {
    "tags": []
   },
   "source": [
    "## <font color='#2B17B0'>Generar ordenes</font>"
   ]
  },
  {
   "cell_type": "markdown",
   "id": "52db9a83-74a4-4bb9-ae6a-b5e17d6e95bd",
   "metadata": {},
   "source": [
    "La función `new_order` nos permite realizar operaciones de compra o venta en el mercado. Debemos de especificar los detalles de la orden que deseamos ejecutar, como el par de criptomonedas, el tipo de orden, el precio y la cantidad."
   ]
  },
  {
   "cell_type": "markdown",
   "id": "e39a202e-fa46-4580-b58b-ad7e92ca8133",
   "metadata": {
    "tags": []
   },
   "source": [
    "### <font color='#2B17B0'>Orden de compra</font>"
   ]
  },
  {
   "cell_type": "code",
   "execution_count": null,
   "id": "6f0c81f6-98b7-4181-88ff-03489eada83b",
   "metadata": {
    "tags": []
   },
   "outputs": [],
   "source": [
    "params = {\n",
    "    \"symbol\": \"BUSDUSDT\",\n",
    "    \"side\": \"BUY\",\n",
    "    \"type\": \"MARKET\",\n",
    "    \"quantity\": 8,\n",
    "}\n",
    "\n",
    "trade = cliente.new_order(**params)"
   ]
  },
  {
   "cell_type": "code",
   "execution_count": null,
   "id": "90dd232a-c576-49f1-8ff5-ac47807b79bd",
   "metadata": {
    "tags": []
   },
   "outputs": [],
   "source": [
    "trade"
   ]
  },
  {
   "cell_type": "markdown",
   "id": "f76b7c29-ac87-497c-932d-59ea0eb0e994",
   "metadata": {
    "tags": []
   },
   "source": [
    "### <font color='#2B17B0'>Orden de venta</font>"
   ]
  },
  {
   "cell_type": "code",
   "execution_count": null,
   "id": "8c61d93d-2578-486f-a0c3-f2ae59b8c399",
   "metadata": {
    "tags": []
   },
   "outputs": [],
   "source": [
    "params = {\n",
    "    \"symbol\": \"BUSDUSDT\",\n",
    "    \"side\": \"SELL\",\n",
    "    \"type\": \"MARKET\",\n",
    "    \"quantity\": 18,\n",
    "}\n",
    "\n",
    "trade = cliente.new_order(**params)"
   ]
  },
  {
   "cell_type": "code",
   "execution_count": null,
   "id": "4a61a624-a091-4a97-a3e2-a7637909f7f8",
   "metadata": {
    "tags": []
   },
   "outputs": [],
   "source": [
    "trade"
   ]
  },
  {
   "cell_type": "code",
   "execution_count": null,
   "id": "16404091-71dc-44b6-b97f-a8205b2e3b01",
   "metadata": {},
   "outputs": [],
   "source": []
  }
 ],
 "metadata": {
  "kernelspec": {
   "display_name": "Python 3 (ipykernel)",
   "language": "python",
   "name": "python3"
  },
  "language_info": {
   "codemirror_mode": {
    "name": "ipython",
    "version": 3
   },
   "file_extension": ".py",
   "mimetype": "text/x-python",
   "name": "python",
   "nbconvert_exporter": "python",
   "pygments_lexer": "ipython3",
   "version": "3.11.4"
  }
 },
 "nbformat": 4,
 "nbformat_minor": 5
}

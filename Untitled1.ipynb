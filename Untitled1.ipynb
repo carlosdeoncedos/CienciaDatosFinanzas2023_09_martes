{
 "cells": [
  {
   "cell_type": "code",
   "execution_count": 1,
   "id": "608ed884-c449-41d9-8b02-2a51d93e6051",
   "metadata": {
    "tags": []
   },
   "outputs": [],
   "source": [
    "import pandas as pd\n",
    "import datetime\n",
    "import numpy as np"
   ]
  },
  {
   "cell_type": "code",
   "execution_count": 2,
   "id": "7b684669-e48f-486e-b4ba-a752aea6c043",
   "metadata": {
    "tags": []
   },
   "outputs": [],
   "source": [
    "url = 'https://www.spglobal.com/spdji/en/idsexport/file.xls?hostIdentifier=48190c8c-42c4-46af-8d1a-0cd5db894797&selectedModule=Constituents&selectedSubModule=ConstituentsFullList&indexId=92330739&language_id=2&languageId=2'"
   ]
  },
  {
   "cell_type": "code",
   "execution_count": 12,
   "id": "d734d9b7-6728-468f-ae1e-b0611781903e",
   "metadata": {
    "tags": []
   },
   "outputs": [],
   "source": [
    "def ipc(formato_yf = True):\n",
    "    \"\"\"\n",
    "    Regresa una lista con todos los componentes del\n",
    "    IPC de la BMV.  Puede incluir formato de \n",
    "    Yahoo Finance! \n",
    "    \n",
    "    PARAMETROS\n",
    "    ----------------\n",
    "    formato_yf: Boleano True/False.  Default es True\n",
    "    \"\"\"\n",
    "    \n",
    "    if type(formato_yf) is not bool:\n",
    "        raise ValueError('El parámetro debe de ser True o False')\n",
    "        \n",
    "    url = 'https://www.spglobal.com/spdji/en/idsexport/file.xls?hostIdentifier=48190c8c-42c4-46af-8d1a-0cd5db894797&selectedModule=Constituents&selectedSubModule=ConstituentsFullList&indexId=92330739&language_id=2&languageId=2'\n",
    "    \n",
    "    df = pd.read_excel(url, skiprows=9)\n",
    "    df.dropna(inplace=True)\n",
    "\n",
    "    df['TICKER'] = df['TICKER'].str.replace('*', '')\n",
    "    df['TICKER'] = df['TICKER'].str.replace(' ', '')\n",
    "    df['TICKER'] = df['TICKER'].str.lower()\n",
    "    \n",
    "    if formato_yf == True:\n",
    "        df['TICKER'] = df['TICKER'] + '.mx'\n",
    "        lista = df['TICKER'].to_list()\n",
    "        lista.insert(0, '^MXX')\n",
    "        \n",
    "    else:\n",
    "        lista = df['TICKER'].to_list()\n",
    "        \n",
    "    return lista\n"
   ]
  },
  {
   "cell_type": "code",
   "execution_count": 15,
   "id": "a027cc84-5ef3-4ea1-bd14-be166ec8f067",
   "metadata": {
    "tags": []
   },
   "outputs": [
    {
     "ename": "ValueError",
     "evalue": "El parámetro debe de ser True o False",
     "output_type": "error",
     "traceback": [
      "\u001b[0;31m---------------------------------------------------------------------------\u001b[0m",
      "\u001b[0;31mValueError\u001b[0m                                Traceback (most recent call last)",
      "Cell \u001b[0;32mIn[15], line 1\u001b[0m\n\u001b[0;32m----> 1\u001b[0m \u001b[43mipc\u001b[49m\u001b[43m(\u001b[49m\u001b[38;5;124;43m'\u001b[39;49m\u001b[38;5;124;43mx\u001b[39;49m\u001b[38;5;124;43m'\u001b[39;49m\u001b[43m)\u001b[49m\n",
      "Cell \u001b[0;32mIn[12], line 13\u001b[0m, in \u001b[0;36mipc\u001b[0;34m(formato_yf)\u001b[0m\n\u001b[1;32m      2\u001b[0m \u001b[38;5;250m\u001b[39m\u001b[38;5;124;03m\"\"\"\u001b[39;00m\n\u001b[1;32m      3\u001b[0m \u001b[38;5;124;03mRegresa una lista con todos los componentes del\u001b[39;00m\n\u001b[1;32m      4\u001b[0m \u001b[38;5;124;03mIPC de la BMV.  Puede incluir formato de \u001b[39;00m\n\u001b[0;32m   (...)\u001b[0m\n\u001b[1;32m      9\u001b[0m \u001b[38;5;124;03mformato_yf: Boleano True/False.  Default es True\u001b[39;00m\n\u001b[1;32m     10\u001b[0m \u001b[38;5;124;03m\"\"\"\u001b[39;00m\n\u001b[1;32m     12\u001b[0m \u001b[38;5;28;01mif\u001b[39;00m \u001b[38;5;28mtype\u001b[39m(formato_yf) \u001b[38;5;129;01mis\u001b[39;00m \u001b[38;5;129;01mnot\u001b[39;00m \u001b[38;5;28mbool\u001b[39m:\n\u001b[0;32m---> 13\u001b[0m     \u001b[38;5;28;01mraise\u001b[39;00m \u001b[38;5;167;01mValueError\u001b[39;00m(\u001b[38;5;124m'\u001b[39m\u001b[38;5;124mEl parámetro debe de ser True o False\u001b[39m\u001b[38;5;124m'\u001b[39m)\n\u001b[1;32m     15\u001b[0m url \u001b[38;5;241m=\u001b[39m \u001b[38;5;124m'\u001b[39m\u001b[38;5;124mhttps://www.spglobal.com/spdji/en/idsexport/file.xls?hostIdentifier=48190c8c-42c4-46af-8d1a-0cd5db894797&selectedModule=Constituents&selectedSubModule=ConstituentsFullList&indexId=92330739&language_id=2&languageId=2\u001b[39m\u001b[38;5;124m'\u001b[39m\n\u001b[1;32m     17\u001b[0m df \u001b[38;5;241m=\u001b[39m pd\u001b[38;5;241m.\u001b[39mread_excel(url, skiprows\u001b[38;5;241m=\u001b[39m\u001b[38;5;241m9\u001b[39m)\n",
      "\u001b[0;31mValueError\u001b[0m: El parámetro debe de ser True o False"
     ]
    }
   ],
   "source": [
    "ipc('x')"
   ]
  },
  {
   "cell_type": "code",
   "execution_count": null,
   "id": "7c620200-781b-4298-8154-62379c0e0f02",
   "metadata": {},
   "outputs": [],
   "source": [
    "pd.read_excel()"
   ]
  },
  {
   "cell_type": "code",
   "execution_count": 10,
   "id": "eb099db7-f113-49fa-a79e-bcadfb41aab1",
   "metadata": {
    "tags": []
   },
   "outputs": [
    {
     "data": {
      "text/plain": [
       "['alfaa',\n",
       " 'alsea',\n",
       " 'amxb',\n",
       " 'ac',\n",
       " 'bbajioo',\n",
       " 'cuervo',\n",
       " 'bolsaa',\n",
       " 'cemexcpo',\n",
       " 'kofubl',\n",
       " 'volara',\n",
       " 'vesta',\n",
       " 'femsaubd',\n",
       " 'labb',\n",
       " 'gentera',\n",
       " 'grumab',\n",
       " 'omab',\n",
       " 'gapb',\n",
       " 'asurb',\n",
       " 'bimboa',\n",
       " 'gcarsoa1',\n",
       " 'gcc',\n",
       " 'chdrauib',\n",
       " 'elektra',\n",
       " 'gfnorteo',\n",
       " 'gfinburo',\n",
       " 'gmexicob',\n",
       " 'tlevisacpo',\n",
       " 'pe&oles',\n",
       " 'kimbera',\n",
       " 'megacpo',\n",
       " 'orbia',\n",
       " 'pinfra',\n",
       " 'q',\n",
       " 'ra',\n",
       " 'walmex']"
      ]
     },
     "execution_count": 10,
     "metadata": {},
     "output_type": "execute_result"
    }
   ],
   "source": [
    "lista = df['TICKER'].to_list()\n",
    "lista"
   ]
  },
  {
   "cell_type": "code",
   "execution_count": 16,
   "id": "836cbea6-6411-4759-b8d1-d26aa63ebc4b",
   "metadata": {
    "tags": []
   },
   "outputs": [],
   "source": [
    "%load_ext autoreload\n",
    "%autoreload 2"
   ]
  },
  {
   "cell_type": "code",
   "execution_count": 17,
   "id": "b36d11fd-36d2-4c31-bcbc-478866f44376",
   "metadata": {
    "tags": []
   },
   "outputs": [],
   "source": [
    "import herramientas_financieras as hf"
   ]
  },
  {
   "cell_type": "code",
   "execution_count": 25,
   "id": "c53b694a-b557-43bc-8dbe-c9b5e5f16f54",
   "metadata": {
    "tags": []
   },
   "outputs": [
    {
     "data": {
      "text/plain": [
       "['^MXX',\n",
       " 'alfaa.mx',\n",
       " 'alsea.mx',\n",
       " 'amxb.mx',\n",
       " 'ac.mx',\n",
       " 'bbajioo.mx',\n",
       " 'cuervo.mx',\n",
       " 'bolsaa.mx',\n",
       " 'cemexcpo.mx',\n",
       " 'kofubl.mx',\n",
       " 'volara.mx',\n",
       " 'vesta.mx',\n",
       " 'femsaubd.mx',\n",
       " 'labb.mx',\n",
       " 'gentera.mx',\n",
       " 'grumab.mx',\n",
       " 'omab.mx',\n",
       " 'gapb.mx',\n",
       " 'asurb.mx',\n",
       " 'bimboa.mx',\n",
       " 'gcarsoa1.mx',\n",
       " 'gcc.mx',\n",
       " 'chdrauib.mx',\n",
       " 'elektra.mx',\n",
       " 'gfnorteo.mx',\n",
       " 'gfinburo.mx',\n",
       " 'gmexicob.mx',\n",
       " 'tlevisacpo.mx',\n",
       " 'pe&oles.mx',\n",
       " 'kimbera.mx',\n",
       " 'megacpo.mx',\n",
       " 'orbia.mx',\n",
       " 'pinfra.mx',\n",
       " 'q.mx',\n",
       " 'ra.mx',\n",
       " 'walmex.mx']"
      ]
     },
     "execution_count": 25,
     "metadata": {},
     "output_type": "execute_result"
    }
   ],
   "source": [
    "hf.ipc()"
   ]
  },
  {
   "cell_type": "code",
   "execution_count": 34,
   "id": "4f32c590-529d-4077-be4f-fae230328a1d",
   "metadata": {
    "tags": []
   },
   "outputs": [],
   "source": [
    "def precios(acciones='^MXX', fecha1=datetime.datetime.today().replace(year=datetime.datetime.today().year-1), \n",
    "            fecha2=datetime.datetime.today(), periodo='1d'):\n",
    "    \n",
    "    if type(fecha1) != datetime.datetime:\n",
    "        fecha1 = datetime.datetime.strptime(fecha1, '%Y-%m-%d')\n",
    "        \n",
    "    if type(fecha2) != datetime.datetime:\n",
    "        fecha2 = datetime.datetime.strptime(fecha2, '%Y-%m-%d')\n",
    "        \n",
    "    fecha1 = fecha1.strftime('%s')\n",
    "    fecha2 = fecha2.strftime('%s')\n",
    "    \n",
    "    def obtener_datos(accion, fecha1, fecha2, periodo):\n",
    "        nombre_columnas = {\n",
    "            'Date': 'fecha',\n",
    "            'Adj Close': 'cierre_ajustado'\n",
    "        }\n",
    "        \n",
    "        url = f'https://query1.finance.yahoo.com/v7/finance/download/{accion}?period1={fecha1}&period2={fecha2}&interval=1d&events=history&includeAdjustedClose=true'\n",
    "        df = pd.read_csv(url)\n",
    "        df.rename(columns=nombre_columnas, inplace=True)\n",
    "        df['fecha'] = pd.to_datetime(df['fecha'])\n",
    "        df.set_index('fecha', inplace=True)\n",
    "        df.drop(columns=['Open', 'Close', 'High', 'Low', 'Volume'])\n",
    "        \n",
    "        return df\n",
    "    \n",
    "    if type(acciones)== str:\n",
    "        return obtener_datos(acciones, fecha1, fecha2, periodo)\n",
    "    \n",
    "    if type(acciones) == list:\n",
    "        return pd.concat([obtener_datos(accion, fecha1, fecha2, periodo)['cierre_ajustado'].rename(accion.replace('.mx', '')) \n",
    "                          for accion in acciones])\n",
    "        "
   ]
  },
  {
   "cell_type": "code",
   "execution_count": 35,
   "id": "ae45d0e0-0470-4eeb-a314-43142c0bafe2",
   "metadata": {
    "tags": []
   },
   "outputs": [
    {
     "data": {
      "text/html": [
       "<div>\n",
       "<style scoped>\n",
       "    .dataframe tbody tr th:only-of-type {\n",
       "        vertical-align: middle;\n",
       "    }\n",
       "\n",
       "    .dataframe tbody tr th {\n",
       "        vertical-align: top;\n",
       "    }\n",
       "\n",
       "    .dataframe thead th {\n",
       "        text-align: right;\n",
       "    }\n",
       "</style>\n",
       "<table border=\"1\" class=\"dataframe\">\n",
       "  <thead>\n",
       "    <tr style=\"text-align: right;\">\n",
       "      <th></th>\n",
       "      <th>Open</th>\n",
       "      <th>High</th>\n",
       "      <th>Low</th>\n",
       "      <th>Close</th>\n",
       "      <th>cierre_ajustado</th>\n",
       "      <th>Volume</th>\n",
       "    </tr>\n",
       "    <tr>\n",
       "      <th>fecha</th>\n",
       "      <th></th>\n",
       "      <th></th>\n",
       "      <th></th>\n",
       "      <th></th>\n",
       "      <th></th>\n",
       "      <th></th>\n",
       "    </tr>\n",
       "  </thead>\n",
       "  <tbody>\n",
       "    <tr>\n",
       "      <th>2022-10-25</th>\n",
       "      <td>47707.601563</td>\n",
       "      <td>48682.058594</td>\n",
       "      <td>47558.730469</td>\n",
       "      <td>48641.269531</td>\n",
       "      <td>48641.269531</td>\n",
       "      <td>257303800</td>\n",
       "    </tr>\n",
       "    <tr>\n",
       "      <th>2022-10-26</th>\n",
       "      <td>48596.480469</td>\n",
       "      <td>49408.269531</td>\n",
       "      <td>48501.550781</td>\n",
       "      <td>49327.109375</td>\n",
       "      <td>49327.109375</td>\n",
       "      <td>309657400</td>\n",
       "    </tr>\n",
       "    <tr>\n",
       "      <th>2022-10-27</th>\n",
       "      <td>49293.769531</td>\n",
       "      <td>49361.578125</td>\n",
       "      <td>48805.410156</td>\n",
       "      <td>48892.558594</td>\n",
       "      <td>48892.558594</td>\n",
       "      <td>228084700</td>\n",
       "    </tr>\n",
       "    <tr>\n",
       "      <th>2022-10-28</th>\n",
       "      <td>48896.359375</td>\n",
       "      <td>49131.390625</td>\n",
       "      <td>48482.898438</td>\n",
       "      <td>49086.300781</td>\n",
       "      <td>49086.300781</td>\n",
       "      <td>130269800</td>\n",
       "    </tr>\n",
       "    <tr>\n",
       "      <th>2022-10-31</th>\n",
       "      <td>49110.671875</td>\n",
       "      <td>49990.941406</td>\n",
       "      <td>48873.171875</td>\n",
       "      <td>49922.300781</td>\n",
       "      <td>49922.300781</td>\n",
       "      <td>188740200</td>\n",
       "    </tr>\n",
       "    <tr>\n",
       "      <th>...</th>\n",
       "      <td>...</td>\n",
       "      <td>...</td>\n",
       "      <td>...</td>\n",
       "      <td>...</td>\n",
       "      <td>...</td>\n",
       "      <td>...</td>\n",
       "    </tr>\n",
       "    <tr>\n",
       "      <th>2023-10-18</th>\n",
       "      <td>49543.898438</td>\n",
       "      <td>49670.648438</td>\n",
       "      <td>49011.378906</td>\n",
       "      <td>49274.781250</td>\n",
       "      <td>49274.781250</td>\n",
       "      <td>339281500</td>\n",
       "    </tr>\n",
       "    <tr>\n",
       "      <th>2023-10-19</th>\n",
       "      <td>49257.050781</td>\n",
       "      <td>49314.960938</td>\n",
       "      <td>48756.968750</td>\n",
       "      <td>48804.609375</td>\n",
       "      <td>48804.609375</td>\n",
       "      <td>254330700</td>\n",
       "    </tr>\n",
       "    <tr>\n",
       "      <th>2023-10-20</th>\n",
       "      <td>48809.121094</td>\n",
       "      <td>48886.988281</td>\n",
       "      <td>48226.480469</td>\n",
       "      <td>48275.910156</td>\n",
       "      <td>48275.910156</td>\n",
       "      <td>214755400</td>\n",
       "    </tr>\n",
       "    <tr>\n",
       "      <th>2023-10-23</th>\n",
       "      <td>48290.328125</td>\n",
       "      <td>48367.761719</td>\n",
       "      <td>47765.058594</td>\n",
       "      <td>48197.878906</td>\n",
       "      <td>48197.878906</td>\n",
       "      <td>160983200</td>\n",
       "    </tr>\n",
       "    <tr>\n",
       "      <th>2023-10-24</th>\n",
       "      <td>48304.398438</td>\n",
       "      <td>48563.070313</td>\n",
       "      <td>48204.808594</td>\n",
       "      <td>48278.800781</td>\n",
       "      <td>48278.800781</td>\n",
       "      <td>158358600</td>\n",
       "    </tr>\n",
       "  </tbody>\n",
       "</table>\n",
       "<p>253 rows × 6 columns</p>\n",
       "</div>"
      ],
      "text/plain": [
       "                    Open          High           Low         Close  \\\n",
       "fecha                                                                \n",
       "2022-10-25  47707.601563  48682.058594  47558.730469  48641.269531   \n",
       "2022-10-26  48596.480469  49408.269531  48501.550781  49327.109375   \n",
       "2022-10-27  49293.769531  49361.578125  48805.410156  48892.558594   \n",
       "2022-10-28  48896.359375  49131.390625  48482.898438  49086.300781   \n",
       "2022-10-31  49110.671875  49990.941406  48873.171875  49922.300781   \n",
       "...                  ...           ...           ...           ...   \n",
       "2023-10-18  49543.898438  49670.648438  49011.378906  49274.781250   \n",
       "2023-10-19  49257.050781  49314.960938  48756.968750  48804.609375   \n",
       "2023-10-20  48809.121094  48886.988281  48226.480469  48275.910156   \n",
       "2023-10-23  48290.328125  48367.761719  47765.058594  48197.878906   \n",
       "2023-10-24  48304.398438  48563.070313  48204.808594  48278.800781   \n",
       "\n",
       "            cierre_ajustado     Volume  \n",
       "fecha                                   \n",
       "2022-10-25     48641.269531  257303800  \n",
       "2022-10-26     49327.109375  309657400  \n",
       "2022-10-27     48892.558594  228084700  \n",
       "2022-10-28     49086.300781  130269800  \n",
       "2022-10-31     49922.300781  188740200  \n",
       "...                     ...        ...  \n",
       "2023-10-18     49274.781250  339281500  \n",
       "2023-10-19     48804.609375  254330700  \n",
       "2023-10-20     48275.910156  214755400  \n",
       "2023-10-23     48197.878906  160983200  \n",
       "2023-10-24     48278.800781  158358600  \n",
       "\n",
       "[253 rows x 6 columns]"
      ]
     },
     "execution_count": 35,
     "metadata": {},
     "output_type": "execute_result"
    }
   ],
   "source": [
    "precios()"
   ]
  },
  {
   "cell_type": "code",
   "execution_count": 26,
   "id": "599d8f84-834d-4a54-9890-e52f1880fa7e",
   "metadata": {
    "tags": []
   },
   "outputs": [],
   "source": [
    "lista_numeros = [2, 4, 6, 8, 10]"
   ]
  },
  {
   "cell_type": "code",
   "execution_count": 27,
   "id": "54b67088-f4c4-486f-bcfa-2e5379beac21",
   "metadata": {
    "tags": []
   },
   "outputs": [],
   "source": [
    "lista_cuadrados = [obte]\n",
    "for numero in lista_numeros:\n",
    "    cuadrado = numero**2\n",
    "    lista_cuadrados.append(cuadrado)"
   ]
  },
  {
   "cell_type": "code",
   "execution_count": 28,
   "id": "5a3b7a60-7779-4b3d-8af4-6635f68ac2e8",
   "metadata": {
    "tags": []
   },
   "outputs": [
    {
     "data": {
      "text/plain": [
       "[4, 16, 36, 64, 100]"
      ]
     },
     "execution_count": 28,
     "metadata": {},
     "output_type": "execute_result"
    }
   ],
   "source": [
    "lista_cuadrados"
   ]
  },
  {
   "cell_type": "code",
   "execution_count": 29,
   "id": "0e2a3c2f-a067-4eeb-813d-8ba1da47adb8",
   "metadata": {
    "tags": []
   },
   "outputs": [],
   "source": [
    "lista_cuadrados2 = [numero**2 for numero in lista_numeros]"
   ]
  },
  {
   "cell_type": "code",
   "execution_count": 30,
   "id": "0a8f7c08-b28f-4759-b43c-9f1d1e019e13",
   "metadata": {
    "tags": []
   },
   "outputs": [
    {
     "data": {
      "text/plain": [
       "[4, 16, 36, 64, 100]"
      ]
     },
     "execution_count": 30,
     "metadata": {},
     "output_type": "execute_result"
    }
   ],
   "source": [
    "lista_cuadrados2"
   ]
  },
  {
   "cell_type": "code",
   "execution_count": 21,
   "id": "42b6694f-7378-439c-bf62-cf68b543fd23",
   "metadata": {
    "tags": []
   },
   "outputs": [
    {
     "data": {
      "text/plain": [
       "datetime.datetime(2023, 10, 24, 18, 50, 25, 448883)"
      ]
     },
     "execution_count": 21,
     "metadata": {},
     "output_type": "execute_result"
    }
   ],
   "source": [
    "datetime.datetime.today()"
   ]
  },
  {
   "cell_type": "code",
   "execution_count": 22,
   "id": "09c21651-ea16-4544-b04f-cddc64693f07",
   "metadata": {
    "tags": []
   },
   "outputs": [
    {
     "data": {
      "text/plain": [
       "datetime.datetime(2022, 10, 24, 18, 51, 48, 992904)"
      ]
     },
     "execution_count": 22,
     "metadata": {},
     "output_type": "execute_result"
    }
   ],
   "source": [
    "datetime.datetime.today().replace(year=datetime.datetime.today().year-1)"
   ]
  },
  {
   "cell_type": "code",
   "execution_count": 24,
   "id": "40bcaf37-fb87-45c7-a5fe-6fb62627ca68",
   "metadata": {
    "tags": []
   },
   "outputs": [
    {
     "data": {
      "text/plain": [
       "2022"
      ]
     },
     "execution_count": 24,
     "metadata": {},
     "output_type": "execute_result"
    }
   ],
   "source": [
    "datetime.datetime.today().year - 1"
   ]
  },
  {
   "cell_type": "code",
   "execution_count": null,
   "id": "53bedc4f-9465-4bce-a4de-ee545d89b5bf",
   "metadata": {},
   "outputs": [],
   "source": []
  }
 ],
 "metadata": {
  "kernelspec": {
   "display_name": "Python 3 (ipykernel)",
   "language": "python",
   "name": "python3"
  },
  "language_info": {
   "codemirror_mode": {
    "name": "ipython",
    "version": 3
   },
   "file_extension": ".py",
   "mimetype": "text/x-python",
   "name": "python",
   "nbconvert_exporter": "python",
   "pygments_lexer": "ipython3",
   "version": "3.11.4"
  }
 },
 "nbformat": 4,
 "nbformat_minor": 5
}

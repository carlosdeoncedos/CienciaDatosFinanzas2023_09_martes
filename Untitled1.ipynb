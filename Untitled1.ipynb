{
 "cells": [
  {
   "cell_type": "code",
   "execution_count": 1,
   "id": "608ed884-c449-41d9-8b02-2a51d93e6051",
   "metadata": {
    "tags": []
   },
   "outputs": [],
   "source": [
    "import pandas as pd\n",
    "import datetime\n",
    "import numpy as np"
   ]
  },
  {
   "cell_type": "code",
   "execution_count": 2,
   "id": "7b684669-e48f-486e-b4ba-a752aea6c043",
   "metadata": {
    "tags": []
   },
   "outputs": [],
   "source": [
    "url = 'https://www.spglobal.com/spdji/en/idsexport/file.xls?hostIdentifier=48190c8c-42c4-46af-8d1a-0cd5db894797&selectedModule=Constituents&selectedSubModule=ConstituentsFullList&indexId=92330739&language_id=2&languageId=2'"
   ]
  },
  {
   "cell_type": "code",
   "execution_count": 12,
   "id": "d734d9b7-6728-468f-ae1e-b0611781903e",
   "metadata": {
    "tags": []
   },
   "outputs": [],
   "source": [
    "def ipc(formato_yf = True):\n",
    "    \"\"\"\n",
    "    Regresa una lista con todos los componentes del\n",
    "    IPC de la BMV.  Puede incluir formato de \n",
    "    Yahoo Finance! \n",
    "    \n",
    "    PARAMETROS\n",
    "    ----------------\n",
    "    formato_yf: Boleano True/False.  Default es True\n",
    "    \"\"\"\n",
    "    \n",
    "    if type(formato_yf) is not bool:\n",
    "        raise ValueError('El parámetro debe de ser True o False')\n",
    "        \n",
    "    url = 'https://www.spglobal.com/spdji/en/idsexport/file.xls?hostIdentifier=48190c8c-42c4-46af-8d1a-0cd5db894797&selectedModule=Constituents&selectedSubModule=ConstituentsFullList&indexId=92330739&language_id=2&languageId=2'\n",
    "    \n",
    "    df = pd.read_excel(url, skiprows=9)\n",
    "    df.dropna(inplace=True)\n",
    "\n",
    "    df['TICKER'] = df['TICKER'].str.replace('*', '')\n",
    "    df['TICKER'] = df['TICKER'].str.replace(' ', '')\n",
    "    df['TICKER'] = df['TICKER'].str.lower()\n",
    "    \n",
    "    if formato_yf == True:\n",
    "        df['TICKER'] = df['TICKER'] + '.mx'\n",
    "        lista = df['TICKER'].to_list()\n",
    "        lista.insert(0, '^MXX')\n",
    "        \n",
    "    else:\n",
    "        lista = df['TICKER'].to_list()\n",
    "        \n",
    "    return lista\n"
   ]
  },
  {
   "cell_type": "code",
   "execution_count": 14,
   "id": "a027cc84-5ef3-4ea1-bd14-be166ec8f067",
   "metadata": {
    "tags": []
   },
   "outputs": [
    {
     "data": {
      "text/plain": [
       "['alfaa',\n",
       " 'alsea',\n",
       " 'amxb',\n",
       " 'ac',\n",
       " 'bbajioo',\n",
       " 'cuervo',\n",
       " 'bolsaa',\n",
       " 'cemexcpo',\n",
       " 'kofubl',\n",
       " 'volara',\n",
       " 'vesta',\n",
       " 'femsaubd',\n",
       " 'labb',\n",
       " 'gentera',\n",
       " 'grumab',\n",
       " 'omab',\n",
       " 'gapb',\n",
       " 'asurb',\n",
       " 'bimboa',\n",
       " 'gcarsoa1',\n",
       " 'gcc',\n",
       " 'chdrauib',\n",
       " 'elektra',\n",
       " 'gfnorteo',\n",
       " 'gfinburo',\n",
       " 'gmexicob',\n",
       " 'tlevisacpo',\n",
       " 'pe&oles',\n",
       " 'kimbera',\n",
       " 'megacpo',\n",
       " 'orbia',\n",
       " 'pinfra',\n",
       " 'q',\n",
       " 'ra',\n",
       " 'walmex']"
      ]
     },
     "execution_count": 14,
     "metadata": {},
     "output_type": "execute_result"
    }
   ],
   "source": [
    "ipc(formato_yf=False)"
   ]
  },
  {
   "cell_type": "code",
   "execution_count": null,
   "id": "7c620200-781b-4298-8154-62379c0e0f02",
   "metadata": {},
   "outputs": [],
   "source": [
    "pd.read_excel()"
   ]
  },
  {
   "cell_type": "code",
   "execution_count": 10,
   "id": "eb099db7-f113-49fa-a79e-bcadfb41aab1",
   "metadata": {
    "tags": []
   },
   "outputs": [
    {
     "data": {
      "text/plain": [
       "['alfaa',\n",
       " 'alsea',\n",
       " 'amxb',\n",
       " 'ac',\n",
       " 'bbajioo',\n",
       " 'cuervo',\n",
       " 'bolsaa',\n",
       " 'cemexcpo',\n",
       " 'kofubl',\n",
       " 'volara',\n",
       " 'vesta',\n",
       " 'femsaubd',\n",
       " 'labb',\n",
       " 'gentera',\n",
       " 'grumab',\n",
       " 'omab',\n",
       " 'gapb',\n",
       " 'asurb',\n",
       " 'bimboa',\n",
       " 'gcarsoa1',\n",
       " 'gcc',\n",
       " 'chdrauib',\n",
       " 'elektra',\n",
       " 'gfnorteo',\n",
       " 'gfinburo',\n",
       " 'gmexicob',\n",
       " 'tlevisacpo',\n",
       " 'pe&oles',\n",
       " 'kimbera',\n",
       " 'megacpo',\n",
       " 'orbia',\n",
       " 'pinfra',\n",
       " 'q',\n",
       " 'ra',\n",
       " 'walmex']"
      ]
     },
     "execution_count": 10,
     "metadata": {},
     "output_type": "execute_result"
    }
   ],
   "source": [
    "lista = df['TICKER'].to_list()\n",
    "lista"
   ]
  },
  {
   "cell_type": "code",
   "execution_count": null,
   "id": "836cbea6-6411-4759-b8d1-d26aa63ebc4b",
   "metadata": {},
   "outputs": [],
   "source": []
  }
 ],
 "metadata": {
  "kernelspec": {
   "display_name": "Python 3 (ipykernel)",
   "language": "python",
   "name": "python3"
  },
  "language_info": {
   "codemirror_mode": {
    "name": "ipython",
    "version": 3
   },
   "file_extension": ".py",
   "mimetype": "text/x-python",
   "name": "python",
   "nbconvert_exporter": "python",
   "pygments_lexer": "ipython3",
   "version": "3.11.4"
  }
 },
 "nbformat": 4,
 "nbformat_minor": 5
}

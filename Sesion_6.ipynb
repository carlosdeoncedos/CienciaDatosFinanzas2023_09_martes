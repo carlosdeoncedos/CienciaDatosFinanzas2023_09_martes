{
 "cells": [
  {
   "cell_type": "markdown",
   "id": "94e60817-358b-4bcf-8dce-0029a823e3ef",
   "metadata": {},
   "source": [
    "# <font color='#2B17B0'>CIENCIA DE DATOS APLICADA A FINANZAS</font>\n",
    "Sesión 6, 2023-10-16/17<br>\n",
    "Carlos Crespo Elizondo<br>\n",
    "EGADE BUSINESS SCHOOL"
   ]
  },
  {
   "cell_type": "markdown",
   "id": "50928a3b-646f-4878-9656-a845015b3b00",
   "metadata": {},
   "source": [
    "# <font color='#2B17B0'>Librerías a importar</font>"
   ]
  },
  {
   "cell_type": "markdown",
   "id": "2606cb9e-2509-4314-a883-6b6004180a92",
   "metadata": {
    "tags": []
   },
   "source": [
    "# <font color='#2B17B0'>Indice de Precios y Cotizaciones - \"IPC\" S&P BMV -</font>\n"
   ]
  },
  {
   "cell_type": "markdown",
   "id": "16a6831b-c384-4f2a-b0aa-12a30562a39c",
   "metadata": {},
   "source": [
    "> _\"El S&P/BMV IPC busca medir el desempeño de las acciones de mayor tamaño y liquidez listadas en la BMV. Su objetivo es proporcionar un índice amplio, representativo, que abarque el mercado bursátil mexicano. Los componentes del índice son ponderados por capitalización de mercado modificada, sujetos a requisitos de diversificación.\"_<br><br>https://www.spglobal.com/spdji/es/indices/equity/sp-bmv-ipc/#overview\n"
   ]
  },
  {
   "cell_type": "markdown",
   "id": "ad62961c-6475-4298-a458-4355a373e05d",
   "metadata": {},
   "source": [
    "### Universo\n",
    "> \"_Los constituyentes deben de ser acciones listadas en la BMV, excluyendo los Fideicomisos de Inversión en Bienes Raíces (FIBRAS) y los Fideicomisos hipotecarios._\""
   ]
  },
  {
   "cell_type": "markdown",
   "id": "3bad322d-08fc-43a6-9c0a-91e03ce73080",
   "metadata": {},
   "source": [
    "### Historial de Operación\n",
    "> _\"Deben de cumplir con el siguiente criterio:\"_\n",
    "> * Las acciones deben de tener un historial de negociación por lo menos de tres meses\n",
    "> * Las acciones deberion de haber operado por lo menos en el 95% de los días de los últimos seis meses\n",
    "> * Si las acciones tienen menos de seis meses de historial, se aplica al 95% de los días operados"
   ]
  },
  {
   "cell_type": "markdown",
   "id": "5d4d64f8-9bfe-4da5-8c56-d3cf537a3266",
   "metadata": {},
   "source": [
    "|Emisora|Ticker|Ticker Y!F|\n",
    "|:-|:-|:-|\n",
    "|\"Indice de Precios y Cotizaciones\"|IPC|^MXX|\n",
    "|Alfa A|ALFAA|ALFAA.MX|\n",
    "|Alsea A|ALSEA|ALSEA.MX|\n",
    "|America Movil  B|AMXB|AMXB.MX| \n",
    "|Arca Continental|AC|AC.MX| \n",
    "|Banco del Bajio|BBAJIOO|BBAJIOO.MX| \n",
    "|Becle |CUERVO|CUERVO.MX| \n",
    "|Bolsa Mexicana de Valores |BOLSAA|BOLSAA.MX| \n",
    "|Cemex CPO|CEMEXCPO|CEMEXCPO.MX| \n",
    "|Coca-Cola Femsa  UBL|KOFUBL|KOFUBL.MX| \n",
    "|Controladora Vuela Compania de Aviacion |VOLARA|VOLARA.MX| \n",
    "|Corporacion Inmobiliaria VestaB. |VESTA|VESTA.MX| \n",
    "|El Puerto de Liverpool |LIVEPOLC-1|LIVEPOLC-1.MX| \n",
    "|Fomento Economico Mexicano |FEMSAUBD|FEMSAUBD.MX| \n",
    "|Genomma Lab Internacional |LABB|LABB.MX| \n",
    "|Gentera |GENTERA|GENTERA.MX| \n",
    "|Gruma SAB B|GRUMAB|GRUMAB.MX| \n",
    "|Grupo Aeroportuario del Centro NorteB. |OMAB|OMAB.MX| \n",
    "|Grupo Aeroportuario del PacificoB. |GAPB|GAPB.MX| \n",
    "|Grupo Aeroportuario del Sureste  B|ASURB|ASURB.MX| \n",
    "|Grupo Bimbo S.A.B.|BIMBOA|BIMBOA.MX| \n",
    "|Grupo Carso |GCARSOA1|GCARSOA1.MX| \n",
    "|Grupo Cementos de Chihuahua |GCC|GCC.MX| \n",
    "|Grupo Elektra |ELEKTRA|ELEKTRA.MX| \n",
    "|Grupo Financiero Banorte O|GFNORTEO|GFNORTEO.MX| \n",
    "|Grupo Financiero Inbursa O|GFINBURO|GFINBURO.MX| \n",
    "|Grupo Mexico  B|GMEXICOB|GMEXICOB.MX| \n",
    "|Grupo Televisa  CPO|TLEVISACPO|TLEVISACPO.MX| \n",
    "|Industrias Penoles|PE&OLES|PE&OLES.MX| \n",
    "|Kimberly Clark de Mexico  A|KIMBERA|KIMBERA.MX| \n",
    "|Megacable Holdings |MEGACPO|MEGACPO.MX| \n",
    "|ORBIA ADVANCE CORPORATION |ORBIA|ORBIA.MX| \n",
    "|Promotora y Operadora de Infraestructura |PINFRA|PINFRA.MX| \n",
    "|Qualitas Controladora|Q|Q.MX| \n",
    "|Regional |RA|RA.MX| \n",
    "|Walmart de Mexico |WALMEX|WALMEX.MX|"
   ]
  },
  {
   "cell_type": "markdown",
   "id": "bac3e763-061e-446a-abc2-01e693abd548",
   "metadata": {
    "tags": []
   },
   "source": [
    "# <font color='#2B17B0'>Precios Yahoo Finance</font>"
   ]
  },
  {
   "cell_type": "markdown",
   "id": "c036020a-5a3b-4464-82d6-9448e546706e",
   "metadata": {},
   "source": [
    "### Como obtener los precios de Y!Finance?"
   ]
  },
  {
   "cell_type": "code",
   "execution_count": null,
   "id": "a6448c56-63dc-4338-85bd-35f12b8190a6",
   "metadata": {},
   "outputs": [],
   "source": [
    "https://query1.finance.yahoo.com/v7/finance/download/^MXX?period1=1666045208&period2=1697588408&\n",
    "interval=1d&events=history&includeAdjustedClose=true"
   ]
  },
  {
   "cell_type": "code",
   "execution_count": null,
   "id": "1bee5f7f-6bd3-48f6-b766-147e29a358c7",
   "metadata": {},
   "outputs": [],
   "source": [
    "https://query1.finance.yahoo.com/v7/finance/download/WALMEX.MX?period1=1666045262&period2=1697588462&\n",
    "interval=1d&events=history&includeAdjustedClose=true"
   ]
  },
  {
   "cell_type": "code",
   "execution_count": null,
   "id": "f7271af6-2595-49f0-a4c2-3edd3f93174f",
   "metadata": {},
   "outputs": [],
   "source": [
    "https://query1.finance.yahoo.com/v7/finance/download/BIMBOA.MX?period1=1666045310&period2=1697588510&\n",
    "interval=1d&events=history&includeAdjustedClose=true"
   ]
  },
  {
   "cell_type": "markdown",
   "id": "059ecef2-6dfa-4daa-86f5-1dc25ffa9299",
   "metadata": {
    "tags": []
   },
   "source": [
    "## <font color='#2B17B0'>UNIX Epoch Time</font>\n"
   ]
  },
  {
   "cell_type": "markdown",
   "id": "cf56712e-b27f-4a01-92de-4e59c3d9ae40",
   "metadata": {},
   "source": [
    "> _\"Son los segundos que han pasado a partir de las 0:00:00hrs del 1 de enero, 1970\"_"
   ]
  },
  {
   "cell_type": "markdown",
   "id": "b4d22a11-5cc7-45be-ab40-091ef8d5bbbc",
   "metadata": {},
   "source": [
    "### Importar librería datetime"
   ]
  },
  {
   "cell_type": "code",
   "execution_count": 1,
   "id": "d1b4b79f-7bd5-46ef-bd26-7be3c5475b10",
   "metadata": {
    "tags": []
   },
   "outputs": [],
   "source": [
    "import datetime"
   ]
  },
  {
   "cell_type": "markdown",
   "id": "56b7f452-a4bd-4eb0-acd0-d3eef0a39b54",
   "metadata": {},
   "source": [
    "### Epoch 0"
   ]
  },
  {
   "cell_type": "code",
   "execution_count": 2,
   "id": "29de0c3f-2f38-4915-bcba-8268ef1febe1",
   "metadata": {},
   "outputs": [
    {
     "data": {
      "text/plain": [
       "datetime.datetime(1970, 1, 1, 0, 0)"
      ]
     },
     "execution_count": 2,
     "metadata": {},
     "output_type": "execute_result"
    }
   ],
   "source": [
    "datetime.datetime.utcfromtimestamp(0)"
   ]
  },
  {
   "cell_type": "code",
   "execution_count": 3,
   "id": "492aa00d-03c5-40f9-9399-94251236a88f",
   "metadata": {
    "tags": []
   },
   "outputs": [
    {
     "data": {
      "text/plain": [
       "datetime.datetime(1969, 12, 31, 18, 0)"
      ]
     },
     "execution_count": 3,
     "metadata": {},
     "output_type": "execute_result"
    }
   ],
   "source": [
    "datetime.datetime.fromtimestamp(0)"
   ]
  },
  {
   "cell_type": "markdown",
   "id": "3f69ff8d-258b-4de2-b726-982533dbf861",
   "metadata": {},
   "source": [
    "### Comparar los timestamps de los links"
   ]
  },
  {
   "cell_type": "code",
   "execution_count": 4,
   "id": "8739dd06-9f5f-4533-bdad-1ac1baf16bff",
   "metadata": {},
   "outputs": [
    {
     "data": {
      "text/plain": [
       "datetime.datetime(2022, 10, 17, 17, 20, 8)"
      ]
     },
     "execution_count": 4,
     "metadata": {},
     "output_type": "execute_result"
    }
   ],
   "source": [
    "datetime.datetime.fromtimestamp(1666045208)"
   ]
  },
  {
   "cell_type": "code",
   "execution_count": 5,
   "id": "493f6cd4-eb9d-4e9a-a7d7-d6e6ced4b9c7",
   "metadata": {},
   "outputs": [
    {
     "data": {
      "text/plain": [
       "datetime.datetime(2023, 10, 17, 18, 20, 8)"
      ]
     },
     "execution_count": 5,
     "metadata": {},
     "output_type": "execute_result"
    }
   ],
   "source": [
    "datetime.datetime.fromtimestamp(1697588408)"
   ]
  },
  {
   "cell_type": "markdown",
   "id": "3b68bf20-3fba-46ef-9db9-8c5d44447ad3",
   "metadata": {},
   "source": [
    "### Tiempo Universal Coordinado / Coordinated Universal Time (UTC): Stándard de tiempo en el mundo\n"
   ]
  },
  {
   "cell_type": "markdown",
   "id": "c797e1f1-9506-452e-b5ce-105945c66a37",
   "metadata": {},
   "source": [
    "UTC es un estándar de tiempo utilizado para sincronizar/coordinar los centros de tiempo alrededor del mundo.  Se utiliza el promedio de dos componentes:\n",
    "1. Hora Atómica Internacional (**TAI**):  Es una escala de tiempo que combina los resultados de 400 relojes atómicos de gran precisión alrededor del mundo\n",
    "1. Hora Universal (**UT1**):  También conocido como tiempo astronómico o solar referente a la rotación de la tierra.  Compara el paso marcado por **TAI** y la duración actual de un día en la tierra."
   ]
  },
  {
   "cell_type": "markdown",
   "id": "8097eb43-adf8-4656-a352-2e92add2c665",
   "metadata": {},
   "source": [
    "### UTC es un estándard no una zona horaria\n",
    "GMT es la Zona Horaria de Greenwich.  "
   ]
  },
  {
   "cell_type": "markdown",
   "id": "58f7e7e8-27e5-4f86-ac38-dd30e126fd41",
   "metadata": {},
   "source": [
    "## <font color='#2B17B0'>Crear función para obtener precios de acciones</font>\n"
   ]
  },
  {
   "cell_type": "code",
   "execution_count": 2,
   "id": "973515e8-8d2e-461a-9e38-2cb34ecf4223",
   "metadata": {},
   "outputs": [],
   "source": [
    "import pandas as pd\n",
    "import numpy as np"
   ]
  },
  {
   "cell_type": "code",
   "execution_count": 7,
   "id": "d59167f2-903b-4c75-a106-0b4644f7dc57",
   "metadata": {
    "tags": []
   },
   "outputs": [],
   "source": [
    "url = 'https://query1.finance.yahoo.com/v7/finance/download/WALMEX.MX?period1=1666045262&period2=1697588462&interval=1d&events=history&includeAdjustedClose=true'"
   ]
  },
  {
   "cell_type": "code",
   "execution_count": 8,
   "id": "8715b38e-5ebf-486b-b598-bfa558082139",
   "metadata": {
    "tags": []
   },
   "outputs": [
    {
     "data": {
      "text/html": [
       "<div>\n",
       "<style scoped>\n",
       "    .dataframe tbody tr th:only-of-type {\n",
       "        vertical-align: middle;\n",
       "    }\n",
       "\n",
       "    .dataframe tbody tr th {\n",
       "        vertical-align: top;\n",
       "    }\n",
       "\n",
       "    .dataframe thead th {\n",
       "        text-align: right;\n",
       "    }\n",
       "</style>\n",
       "<table border=\"1\" class=\"dataframe\">\n",
       "  <thead>\n",
       "    <tr style=\"text-align: right;\">\n",
       "      <th></th>\n",
       "      <th>Date</th>\n",
       "      <th>Open</th>\n",
       "      <th>High</th>\n",
       "      <th>Low</th>\n",
       "      <th>Close</th>\n",
       "      <th>Adj Close</th>\n",
       "      <th>Volume</th>\n",
       "    </tr>\n",
       "  </thead>\n",
       "  <tbody>\n",
       "    <tr>\n",
       "      <th>0</th>\n",
       "      <td>2022-10-17</td>\n",
       "      <td>71.849998</td>\n",
       "      <td>72.190002</td>\n",
       "      <td>70.800003</td>\n",
       "      <td>71.040001</td>\n",
       "      <td>69.611580</td>\n",
       "      <td>13727345.0</td>\n",
       "    </tr>\n",
       "    <tr>\n",
       "      <th>1</th>\n",
       "      <td>2022-10-18</td>\n",
       "      <td>71.480003</td>\n",
       "      <td>72.059998</td>\n",
       "      <td>71.129997</td>\n",
       "      <td>71.500000</td>\n",
       "      <td>70.062325</td>\n",
       "      <td>20296115.0</td>\n",
       "    </tr>\n",
       "    <tr>\n",
       "      <th>2</th>\n",
       "      <td>2022-10-19</td>\n",
       "      <td>71.449997</td>\n",
       "      <td>71.839996</td>\n",
       "      <td>70.709999</td>\n",
       "      <td>71.180000</td>\n",
       "      <td>69.748756</td>\n",
       "      <td>13842961.0</td>\n",
       "    </tr>\n",
       "    <tr>\n",
       "      <th>3</th>\n",
       "      <td>2022-10-20</td>\n",
       "      <td>71.470001</td>\n",
       "      <td>73.290001</td>\n",
       "      <td>70.510002</td>\n",
       "      <td>73.070000</td>\n",
       "      <td>71.600761</td>\n",
       "      <td>20259907.0</td>\n",
       "    </tr>\n",
       "    <tr>\n",
       "      <th>4</th>\n",
       "      <td>2022-10-21</td>\n",
       "      <td>73.000000</td>\n",
       "      <td>75.099998</td>\n",
       "      <td>71.449997</td>\n",
       "      <td>74.750000</td>\n",
       "      <td>73.246979</td>\n",
       "      <td>20957087.0</td>\n",
       "    </tr>\n",
       "    <tr>\n",
       "      <th>...</th>\n",
       "      <td>...</td>\n",
       "      <td>...</td>\n",
       "      <td>...</td>\n",
       "      <td>...</td>\n",
       "      <td>...</td>\n",
       "      <td>...</td>\n",
       "      <td>...</td>\n",
       "    </tr>\n",
       "    <tr>\n",
       "      <th>249</th>\n",
       "      <td>2023-10-11</td>\n",
       "      <td>62.520000</td>\n",
       "      <td>62.590000</td>\n",
       "      <td>61.349998</td>\n",
       "      <td>61.759998</td>\n",
       "      <td>61.759998</td>\n",
       "      <td>37863707.0</td>\n",
       "    </tr>\n",
       "    <tr>\n",
       "      <th>250</th>\n",
       "      <td>2023-10-12</td>\n",
       "      <td>61.810001</td>\n",
       "      <td>62.509998</td>\n",
       "      <td>61.310001</td>\n",
       "      <td>61.389999</td>\n",
       "      <td>61.389999</td>\n",
       "      <td>17263783.0</td>\n",
       "    </tr>\n",
       "    <tr>\n",
       "      <th>251</th>\n",
       "      <td>2023-10-13</td>\n",
       "      <td>61.790001</td>\n",
       "      <td>61.840000</td>\n",
       "      <td>59.680000</td>\n",
       "      <td>59.930000</td>\n",
       "      <td>59.930000</td>\n",
       "      <td>20070309.0</td>\n",
       "    </tr>\n",
       "    <tr>\n",
       "      <th>252</th>\n",
       "      <td>2023-10-16</td>\n",
       "      <td>60.099998</td>\n",
       "      <td>61.240002</td>\n",
       "      <td>59.919998</td>\n",
       "      <td>60.869999</td>\n",
       "      <td>60.869999</td>\n",
       "      <td>12585463.0</td>\n",
       "    </tr>\n",
       "    <tr>\n",
       "      <th>253</th>\n",
       "      <td>2023-10-17</td>\n",
       "      <td>60.610001</td>\n",
       "      <td>61.000000</td>\n",
       "      <td>59.900002</td>\n",
       "      <td>59.990002</td>\n",
       "      <td>59.990002</td>\n",
       "      <td>7716406.0</td>\n",
       "    </tr>\n",
       "  </tbody>\n",
       "</table>\n",
       "<p>254 rows × 7 columns</p>\n",
       "</div>"
      ],
      "text/plain": [
       "           Date       Open       High        Low      Close  Adj Close  \\\n",
       "0    2022-10-17  71.849998  72.190002  70.800003  71.040001  69.611580   \n",
       "1    2022-10-18  71.480003  72.059998  71.129997  71.500000  70.062325   \n",
       "2    2022-10-19  71.449997  71.839996  70.709999  71.180000  69.748756   \n",
       "3    2022-10-20  71.470001  73.290001  70.510002  73.070000  71.600761   \n",
       "4    2022-10-21  73.000000  75.099998  71.449997  74.750000  73.246979   \n",
       "..          ...        ...        ...        ...        ...        ...   \n",
       "249  2023-10-11  62.520000  62.590000  61.349998  61.759998  61.759998   \n",
       "250  2023-10-12  61.810001  62.509998  61.310001  61.389999  61.389999   \n",
       "251  2023-10-13  61.790001  61.840000  59.680000  59.930000  59.930000   \n",
       "252  2023-10-16  60.099998  61.240002  59.919998  60.869999  60.869999   \n",
       "253  2023-10-17  60.610001  61.000000  59.900002  59.990002  59.990002   \n",
       "\n",
       "         Volume  \n",
       "0    13727345.0  \n",
       "1    20296115.0  \n",
       "2    13842961.0  \n",
       "3    20259907.0  \n",
       "4    20957087.0  \n",
       "..          ...  \n",
       "249  37863707.0  \n",
       "250  17263783.0  \n",
       "251  20070309.0  \n",
       "252  12585463.0  \n",
       "253   7716406.0  \n",
       "\n",
       "[254 rows x 7 columns]"
      ]
     },
     "execution_count": 8,
     "metadata": {},
     "output_type": "execute_result"
    }
   ],
   "source": [
    "pd.read_csv(url)"
   ]
  },
  {
   "cell_type": "markdown",
   "id": "94e5242b-84fd-41b6-903f-4c8d33e985d0",
   "metadata": {},
   "source": [
    "### Fechas a Epoch Timestamp"
   ]
  },
  {
   "cell_type": "code",
   "execution_count": 9,
   "id": "b0b44a1d-ce5a-4750-92a0-3115b76fd984",
   "metadata": {
    "tags": []
   },
   "outputs": [],
   "source": [
    "fecha1 = '2018-01-01'\n",
    "fecha2 = '2023-10-17'"
   ]
  },
  {
   "cell_type": "code",
   "execution_count": 13,
   "id": "1ae237af-3178-47e2-8aff-a2ee58a3475d",
   "metadata": {
    "tags": []
   },
   "outputs": [],
   "source": [
    "fecha1 = datetime.datetime.strptime(fecha1, '%Y-%m-%d').strftime('%s')\n",
    "fecha2 = datetime.datetime.strptime(fecha2, '%Y-%m-%d').strftime('%s')"
   ]
  },
  {
   "cell_type": "code",
   "execution_count": 14,
   "id": "802aca17-edb2-4755-897d-fc2bcdefe2a7",
   "metadata": {
    "tags": []
   },
   "outputs": [
    {
     "data": {
      "text/plain": [
       "'1697522400'"
      ]
     },
     "execution_count": 14,
     "metadata": {},
     "output_type": "execute_result"
    }
   ],
   "source": [
    "fecha2"
   ]
  },
  {
   "cell_type": "code",
   "execution_count": 15,
   "id": "32684713-dfd3-4bf6-8d8a-5c5270426a2e",
   "metadata": {
    "tags": []
   },
   "outputs": [],
   "source": [
    "accion = 'walmex.mx'"
   ]
  },
  {
   "cell_type": "markdown",
   "id": "194a2d43-9c02-4e87-8c82-88c8e16f8e87",
   "metadata": {},
   "source": [
    "## Utilizar f String"
   ]
  },
  {
   "cell_type": "code",
   "execution_count": 16,
   "id": "ad7a2eec-ed5e-41d5-aa56-018cf0e60a75",
   "metadata": {
    "tags": []
   },
   "outputs": [],
   "source": [
    "url = f'https://query1.finance.yahoo.com/v7/finance/download/{accion}?period1={fecha1}&period2={fecha2}&interval=1d&events=history&includeAdjustedClose=true'"
   ]
  },
  {
   "cell_type": "code",
   "execution_count": 17,
   "id": "c6dc45c0-50ab-45f5-98f5-5265b20ed019",
   "metadata": {
    "tags": []
   },
   "outputs": [
    {
     "name": "stdout",
     "output_type": "stream",
     "text": [
      "https://query1.finance.yahoo.com/v7/finance/download/walmex.mx?period1=1514786400&period2=1697522400&interval=1d&events=history&includeAdjustedClose=true\n"
     ]
    }
   ],
   "source": [
    "print(url)"
   ]
  },
  {
   "cell_type": "code",
   "execution_count": 18,
   "id": "b3337fb7-ab39-469a-b477-67e100715525",
   "metadata": {
    "tags": []
   },
   "outputs": [],
   "source": [
    "df = pd.read_csv(url)"
   ]
  },
  {
   "cell_type": "code",
   "execution_count": 19,
   "id": "c33afb9b-404f-4320-912d-ab64b859119a",
   "metadata": {
    "tags": []
   },
   "outputs": [
    {
     "data": {
      "text/html": [
       "<div>\n",
       "<style scoped>\n",
       "    .dataframe tbody tr th:only-of-type {\n",
       "        vertical-align: middle;\n",
       "    }\n",
       "\n",
       "    .dataframe tbody tr th {\n",
       "        vertical-align: top;\n",
       "    }\n",
       "\n",
       "    .dataframe thead th {\n",
       "        text-align: right;\n",
       "    }\n",
       "</style>\n",
       "<table border=\"1\" class=\"dataframe\">\n",
       "  <thead>\n",
       "    <tr style=\"text-align: right;\">\n",
       "      <th></th>\n",
       "      <th>Date</th>\n",
       "      <th>Open</th>\n",
       "      <th>High</th>\n",
       "      <th>Low</th>\n",
       "      <th>Close</th>\n",
       "      <th>Adj Close</th>\n",
       "      <th>Volume</th>\n",
       "    </tr>\n",
       "  </thead>\n",
       "  <tbody>\n",
       "    <tr>\n",
       "      <th>0</th>\n",
       "      <td>2018-01-02</td>\n",
       "      <td>48.150002</td>\n",
       "      <td>48.590000</td>\n",
       "      <td>47.700001</td>\n",
       "      <td>48.029999</td>\n",
       "      <td>43.640198</td>\n",
       "      <td>8781274.0</td>\n",
       "    </tr>\n",
       "    <tr>\n",
       "      <th>1</th>\n",
       "      <td>2018-01-03</td>\n",
       "      <td>47.910000</td>\n",
       "      <td>48.000000</td>\n",
       "      <td>47.380001</td>\n",
       "      <td>47.590000</td>\n",
       "      <td>43.240402</td>\n",
       "      <td>12656360.0</td>\n",
       "    </tr>\n",
       "    <tr>\n",
       "      <th>2</th>\n",
       "      <td>2018-01-04</td>\n",
       "      <td>47.599998</td>\n",
       "      <td>48.209999</td>\n",
       "      <td>47.490002</td>\n",
       "      <td>47.610001</td>\n",
       "      <td>43.258583</td>\n",
       "      <td>16650871.0</td>\n",
       "    </tr>\n",
       "    <tr>\n",
       "      <th>3</th>\n",
       "      <td>2018-01-05</td>\n",
       "      <td>47.700001</td>\n",
       "      <td>48.169998</td>\n",
       "      <td>47.549999</td>\n",
       "      <td>48.090000</td>\n",
       "      <td>43.694710</td>\n",
       "      <td>9575059.0</td>\n",
       "    </tr>\n",
       "    <tr>\n",
       "      <th>4</th>\n",
       "      <td>2018-01-08</td>\n",
       "      <td>48.099998</td>\n",
       "      <td>48.500000</td>\n",
       "      <td>47.980000</td>\n",
       "      <td>48.320000</td>\n",
       "      <td>43.903687</td>\n",
       "      <td>13856218.0</td>\n",
       "    </tr>\n",
       "    <tr>\n",
       "      <th>...</th>\n",
       "      <td>...</td>\n",
       "      <td>...</td>\n",
       "      <td>...</td>\n",
       "      <td>...</td>\n",
       "      <td>...</td>\n",
       "      <td>...</td>\n",
       "      <td>...</td>\n",
       "    </tr>\n",
       "    <tr>\n",
       "      <th>1455</th>\n",
       "      <td>2023-10-10</td>\n",
       "      <td>60.709999</td>\n",
       "      <td>63.340000</td>\n",
       "      <td>60.610001</td>\n",
       "      <td>62.560001</td>\n",
       "      <td>62.560001</td>\n",
       "      <td>21558353.0</td>\n",
       "    </tr>\n",
       "    <tr>\n",
       "      <th>1456</th>\n",
       "      <td>2023-10-11</td>\n",
       "      <td>62.520000</td>\n",
       "      <td>62.590000</td>\n",
       "      <td>61.349998</td>\n",
       "      <td>61.759998</td>\n",
       "      <td>61.759998</td>\n",
       "      <td>37863707.0</td>\n",
       "    </tr>\n",
       "    <tr>\n",
       "      <th>1457</th>\n",
       "      <td>2023-10-12</td>\n",
       "      <td>61.810001</td>\n",
       "      <td>62.509998</td>\n",
       "      <td>61.310001</td>\n",
       "      <td>61.389999</td>\n",
       "      <td>61.389999</td>\n",
       "      <td>17263783.0</td>\n",
       "    </tr>\n",
       "    <tr>\n",
       "      <th>1458</th>\n",
       "      <td>2023-10-13</td>\n",
       "      <td>61.790001</td>\n",
       "      <td>61.840000</td>\n",
       "      <td>59.680000</td>\n",
       "      <td>59.930000</td>\n",
       "      <td>59.930000</td>\n",
       "      <td>20070309.0</td>\n",
       "    </tr>\n",
       "    <tr>\n",
       "      <th>1459</th>\n",
       "      <td>2023-10-16</td>\n",
       "      <td>60.099998</td>\n",
       "      <td>61.240002</td>\n",
       "      <td>59.919998</td>\n",
       "      <td>60.869999</td>\n",
       "      <td>60.869999</td>\n",
       "      <td>12585463.0</td>\n",
       "    </tr>\n",
       "  </tbody>\n",
       "</table>\n",
       "<p>1460 rows × 7 columns</p>\n",
       "</div>"
      ],
      "text/plain": [
       "            Date       Open       High        Low      Close  Adj Close  \\\n",
       "0     2018-01-02  48.150002  48.590000  47.700001  48.029999  43.640198   \n",
       "1     2018-01-03  47.910000  48.000000  47.380001  47.590000  43.240402   \n",
       "2     2018-01-04  47.599998  48.209999  47.490002  47.610001  43.258583   \n",
       "3     2018-01-05  47.700001  48.169998  47.549999  48.090000  43.694710   \n",
       "4     2018-01-08  48.099998  48.500000  47.980000  48.320000  43.903687   \n",
       "...          ...        ...        ...        ...        ...        ...   \n",
       "1455  2023-10-10  60.709999  63.340000  60.610001  62.560001  62.560001   \n",
       "1456  2023-10-11  62.520000  62.590000  61.349998  61.759998  61.759998   \n",
       "1457  2023-10-12  61.810001  62.509998  61.310001  61.389999  61.389999   \n",
       "1458  2023-10-13  61.790001  61.840000  59.680000  59.930000  59.930000   \n",
       "1459  2023-10-16  60.099998  61.240002  59.919998  60.869999  60.869999   \n",
       "\n",
       "          Volume  \n",
       "0      8781274.0  \n",
       "1     12656360.0  \n",
       "2     16650871.0  \n",
       "3      9575059.0  \n",
       "4     13856218.0  \n",
       "...          ...  \n",
       "1455  21558353.0  \n",
       "1456  37863707.0  \n",
       "1457  17263783.0  \n",
       "1458  20070309.0  \n",
       "1459  12585463.0  \n",
       "\n",
       "[1460 rows x 7 columns]"
      ]
     },
     "execution_count": 19,
     "metadata": {},
     "output_type": "execute_result"
    }
   ],
   "source": [
    "df"
   ]
  },
  {
   "cell_type": "code",
   "execution_count": 20,
   "id": "fac1e799-4a82-4625-ab59-1b51f5871257",
   "metadata": {},
   "outputs": [
    {
     "name": "stdout",
     "output_type": "stream",
     "text": [
      "<class 'pandas.core.frame.DataFrame'>\n",
      "RangeIndex: 1460 entries, 0 to 1459\n",
      "Data columns (total 7 columns):\n",
      " #   Column     Non-Null Count  Dtype  \n",
      "---  ------     --------------  -----  \n",
      " 0   Date       1460 non-null   object \n",
      " 1   Open       1459 non-null   float64\n",
      " 2   High       1459 non-null   float64\n",
      " 3   Low        1459 non-null   float64\n",
      " 4   Close      1459 non-null   float64\n",
      " 5   Adj Close  1459 non-null   float64\n",
      " 6   Volume     1459 non-null   float64\n",
      "dtypes: float64(6), object(1)\n",
      "memory usage: 80.0+ KB\n"
     ]
    }
   ],
   "source": [
    "df.info()"
   ]
  },
  {
   "cell_type": "code",
   "execution_count": 22,
   "id": "af021359-117c-47d6-b89d-265789798861",
   "metadata": {
    "tags": []
   },
   "outputs": [],
   "source": [
    "df['Date'] = pd.to_datetime(df['Date'])\n",
    "df.set_index('Date', inplace=True)"
   ]
  },
  {
   "cell_type": "code",
   "execution_count": 25,
   "id": "a05e1ffa-0408-4d17-aa51-71211dde3b15",
   "metadata": {
    "tags": []
   },
   "outputs": [
    {
     "data": {
      "text/plain": [
       "43.640198"
      ]
     },
     "execution_count": 25,
     "metadata": {},
     "output_type": "execute_result"
    }
   ],
   "source": [
    "df.loc['2018-01-02']['Adj Close']"
   ]
  },
  {
   "cell_type": "markdown",
   "id": "5a03a6a4-ed7a-46e5-91f6-e521311cd145",
   "metadata": {},
   "source": [
    "#### FUNCION VERSION MAC"
   ]
  },
  {
   "cell_type": "markdown",
   "id": "279efc32-7650-4e52-9a0a-e918a3b30737",
   "metadata": {
    "tags": []
   },
   "source": [
    "def precios(accion, fecha1, fecha2):\n",
    "    fecha1_ = datetime.datetime.strptime(fecha1, '%Y-%m-%d').strftime('%s')\n",
    "    fecha2_ = datetime.datetime.strptime(fecha2, '%Y-%m-%d').strftime('%s')\n",
    "    \n",
    "    url_ = f'https://query1.finance.yahoo.com/v7/finance/download/{accion}?period1={fecha1_}&period2={fecha2_}&interval=1d&events=history&includeAdjustedClose=true'\n",
    "    print(url_)\n",
    "    df_ = pd.read_csv(url_)\n",
    "    df_['Date'] = pd.to_datetime(df_['Date'])\n",
    "    df_.set_index('Date', inplace=True)\n",
    "    \n",
    "    \n",
    "    return df_"
   ]
  },
  {
   "cell_type": "markdown",
   "id": "16580a4f-599e-4b05-8e59-c411b006cd53",
   "metadata": {},
   "source": [
    "#### FUNCION VERSION WINDOWS"
   ]
  },
  {
   "cell_type": "markdown",
   "id": "6cd00842-88b2-439c-91ca-d3ef47523cbd",
   "metadata": {},
   "source": [
    "def precios (accion,fecha1, fecha2): #si no damos otro argumento, por default dara el ipc mxx (fecha1, fecha2,accion='^MXX')\n",
    "    fecha1_=datetime.datetime.strptime(fecha1,'%Y-%m-%d')\n",
    "    fecha1_= (fecha1_ - datetime.datetime(1970, 1, 1)).total_seconds()\n",
    "    fecha1_=int(fecha1_)\n",
    "    \n",
    "    fecha2_=datetime.datetime.strptime(fecha2,'%Y-%m-%d')\n",
    "    fecha2_=(fecha2_ - datetime.datetime(1970, 1, 1)).total_seconds()\n",
    "    fecha2_=int(fecha2_)\n",
    "    \n",
    "    url_= f'https://query1.finance.yahoo.com/v7/finance/download/{accion}?period1={fecha1_}&period2={fecha2_}&interval=1d&events=history&includeAdjustedClose=true'\n",
    "    df_=pd.read_csv(url_)\n",
    "    df_.set_index('Date',inplace=True)\n",
    "    \n",
    "    return df_"
   ]
  },
  {
   "cell_type": "code",
   "execution_count": 32,
   "id": "7844ea38-d4b6-4bc8-9cbb-4918c016b1f6",
   "metadata": {
    "tags": []
   },
   "outputs": [
    {
     "data": {
      "text/html": [
       "<div>\n",
       "<style scoped>\n",
       "    .dataframe tbody tr th:only-of-type {\n",
       "        vertical-align: middle;\n",
       "    }\n",
       "\n",
       "    .dataframe tbody tr th {\n",
       "        vertical-align: top;\n",
       "    }\n",
       "\n",
       "    .dataframe thead th {\n",
       "        text-align: right;\n",
       "    }\n",
       "</style>\n",
       "<table border=\"1\" class=\"dataframe\">\n",
       "  <thead>\n",
       "    <tr style=\"text-align: right;\">\n",
       "      <th></th>\n",
       "      <th>Open</th>\n",
       "      <th>High</th>\n",
       "      <th>Low</th>\n",
       "      <th>Close</th>\n",
       "      <th>Adj Close</th>\n",
       "      <th>Volume</th>\n",
       "    </tr>\n",
       "    <tr>\n",
       "      <th>Date</th>\n",
       "      <th></th>\n",
       "      <th></th>\n",
       "      <th></th>\n",
       "      <th></th>\n",
       "      <th></th>\n",
       "      <th></th>\n",
       "    </tr>\n",
       "  </thead>\n",
       "  <tbody>\n",
       "    <tr>\n",
       "      <th>2020-01-02</th>\n",
       "      <td>100.459999</td>\n",
       "      <td>102.099998</td>\n",
       "      <td>100.050003</td>\n",
       "      <td>101.930000</td>\n",
       "      <td>86.612564</td>\n",
       "      <td>574468</td>\n",
       "    </tr>\n",
       "    <tr>\n",
       "      <th>2020-01-03</th>\n",
       "      <td>101.790001</td>\n",
       "      <td>102.989998</td>\n",
       "      <td>101.059998</td>\n",
       "      <td>102.839996</td>\n",
       "      <td>87.385811</td>\n",
       "      <td>602320</td>\n",
       "    </tr>\n",
       "    <tr>\n",
       "      <th>2020-01-06</th>\n",
       "      <td>102.519997</td>\n",
       "      <td>102.849998</td>\n",
       "      <td>101.699997</td>\n",
       "      <td>102.455002</td>\n",
       "      <td>87.058662</td>\n",
       "      <td>512304</td>\n",
       "    </tr>\n",
       "    <tr>\n",
       "      <th>2020-01-07</th>\n",
       "      <td>102.570000</td>\n",
       "      <td>103.949997</td>\n",
       "      <td>101.470001</td>\n",
       "      <td>103.419998</td>\n",
       "      <td>87.878647</td>\n",
       "      <td>1788904</td>\n",
       "    </tr>\n",
       "    <tr>\n",
       "      <th>2020-01-08</th>\n",
       "      <td>103.489998</td>\n",
       "      <td>103.790001</td>\n",
       "      <td>102.339996</td>\n",
       "      <td>103.080002</td>\n",
       "      <td>87.589737</td>\n",
       "      <td>1106947</td>\n",
       "    </tr>\n",
       "    <tr>\n",
       "      <th>...</th>\n",
       "      <td>...</td>\n",
       "      <td>...</td>\n",
       "      <td>...</td>\n",
       "      <td>...</td>\n",
       "      <td>...</td>\n",
       "      <td>...</td>\n",
       "    </tr>\n",
       "    <tr>\n",
       "      <th>2021-12-27</th>\n",
       "      <td>130.750000</td>\n",
       "      <td>131.460007</td>\n",
       "      <td>130.250000</td>\n",
       "      <td>130.809998</td>\n",
       "      <td>122.674034</td>\n",
       "      <td>694147</td>\n",
       "    </tr>\n",
       "    <tr>\n",
       "      <th>2021-12-28</th>\n",
       "      <td>130.410004</td>\n",
       "      <td>132.880005</td>\n",
       "      <td>130.300003</td>\n",
       "      <td>131.029999</td>\n",
       "      <td>122.880363</td>\n",
       "      <td>1244140</td>\n",
       "    </tr>\n",
       "    <tr>\n",
       "      <th>2021-12-29</th>\n",
       "      <td>131.449997</td>\n",
       "      <td>131.990005</td>\n",
       "      <td>129.860001</td>\n",
       "      <td>130.330002</td>\n",
       "      <td>122.223900</td>\n",
       "      <td>993502</td>\n",
       "    </tr>\n",
       "    <tr>\n",
       "      <th>2021-12-30</th>\n",
       "      <td>130.059998</td>\n",
       "      <td>131.320007</td>\n",
       "      <td>129.759995</td>\n",
       "      <td>130.410004</td>\n",
       "      <td>122.298927</td>\n",
       "      <td>1085267</td>\n",
       "    </tr>\n",
       "    <tr>\n",
       "      <th>2021-12-31</th>\n",
       "      <td>129.809998</td>\n",
       "      <td>131.160004</td>\n",
       "      <td>129.809998</td>\n",
       "      <td>130.520004</td>\n",
       "      <td>122.402077</td>\n",
       "      <td>1136517</td>\n",
       "    </tr>\n",
       "  </tbody>\n",
       "</table>\n",
       "<p>505 rows × 6 columns</p>\n",
       "</div>"
      ],
      "text/plain": [
       "                  Open        High         Low       Close   Adj Close  \\\n",
       "Date                                                                     \n",
       "2020-01-02  100.459999  102.099998  100.050003  101.930000   86.612564   \n",
       "2020-01-03  101.790001  102.989998  101.059998  102.839996   87.385811   \n",
       "2020-01-06  102.519997  102.849998  101.699997  102.455002   87.058662   \n",
       "2020-01-07  102.570000  103.949997  101.470001  103.419998   87.878647   \n",
       "2020-01-08  103.489998  103.790001  102.339996  103.080002   87.589737   \n",
       "...                ...         ...         ...         ...         ...   \n",
       "2021-12-27  130.750000  131.460007  130.250000  130.809998  122.674034   \n",
       "2021-12-28  130.410004  132.880005  130.300003  131.029999  122.880363   \n",
       "2021-12-29  131.449997  131.990005  129.860001  130.330002  122.223900   \n",
       "2021-12-30  130.059998  131.320007  129.759995  130.410004  122.298927   \n",
       "2021-12-31  129.809998  131.160004  129.809998  130.520004  122.402077   \n",
       "\n",
       "             Volume  \n",
       "Date                 \n",
       "2020-01-02   574468  \n",
       "2020-01-03   602320  \n",
       "2020-01-06   512304  \n",
       "2020-01-07  1788904  \n",
       "2020-01-08  1106947  \n",
       "...             ...  \n",
       "2021-12-27   694147  \n",
       "2021-12-28  1244140  \n",
       "2021-12-29   993502  \n",
       "2021-12-30  1085267  \n",
       "2021-12-31  1136517  \n",
       "\n",
       "[505 rows x 6 columns]"
      ]
     },
     "execution_count": 32,
     "metadata": {},
     "output_type": "execute_result"
    }
   ],
   "source": [
    "df2 = precios('ac.mx', '2020-01-01', '2022-01-01')\n",
    "df2"
   ]
  },
  {
   "cell_type": "code",
   "execution_count": null,
   "id": "09758081-675a-47b4-8b1c-2d18d8a482a9",
   "metadata": {},
   "outputs": [],
   "source": []
  },
  {
   "cell_type": "markdown",
   "id": "4b421c92-5536-469a-95b4-a3704c8a1a8a",
   "metadata": {},
   "source": [
    "### Definir variable `accion`"
   ]
  },
  {
   "cell_type": "code",
   "execution_count": null,
   "id": "58e609e4-7c4e-4ca6-ae41-b6b06fa88ca2",
   "metadata": {},
   "outputs": [],
   "source": []
  },
  {
   "cell_type": "markdown",
   "id": "df8e4483-3acc-4726-be20-df53eaee4f47",
   "metadata": {},
   "source": [
    "### Indexar columna `Date`"
   ]
  },
  {
   "cell_type": "code",
   "execution_count": null,
   "id": "13adc8e7-9849-4404-8822-8ec836d48ea4",
   "metadata": {},
   "outputs": [],
   "source": []
  },
  {
   "cell_type": "markdown",
   "id": "3cc425de-1bb9-4bf1-9e42-2e88fd80e564",
   "metadata": {},
   "source": [
    "## Función `precios`"
   ]
  },
  {
   "cell_type": "markdown",
   "id": "8a33656f-ab52-4374-a3ee-3e5431234a7e",
   "metadata": {},
   "source": [
    "## Guardar función en nuestra librería y recargarlas en automático:"
   ]
  },
  {
   "cell_type": "code",
   "execution_count": 6,
   "id": "b0530197-357f-4b99-a2fc-ffc4269cdbfc",
   "metadata": {
    "tags": []
   },
   "outputs": [],
   "source": [
    "%load_ext autoreload\n",
    "%autoreload 2"
   ]
  },
  {
   "cell_type": "code",
   "execution_count": 16,
   "id": "ee9aa6a6-53f5-4d11-b8b3-527a694f7552",
   "metadata": {
    "tags": []
   },
   "outputs": [],
   "source": [
    "import herramientas_financieras as hf"
   ]
  },
  {
   "cell_type": "code",
   "execution_count": 14,
   "id": "fbbf0382-1fdb-489e-90c5-e90f31202026",
   "metadata": {
    "tags": []
   },
   "outputs": [],
   "source": [
    "x = hf.sumar(5,4)"
   ]
  },
  {
   "cell_type": "code",
   "execution_count": 22,
   "id": "aacbba6a-acf3-4b48-8cb6-7d70f6f7547b",
   "metadata": {
    "tags": []
   },
   "outputs": [
    {
     "data": {
      "text/html": [
       "<div>\n",
       "<style scoped>\n",
       "    .dataframe tbody tr th:only-of-type {\n",
       "        vertical-align: middle;\n",
       "    }\n",
       "\n",
       "    .dataframe tbody tr th {\n",
       "        vertical-align: top;\n",
       "    }\n",
       "\n",
       "    .dataframe thead th {\n",
       "        text-align: right;\n",
       "    }\n",
       "</style>\n",
       "<table border=\"1\" class=\"dataframe\">\n",
       "  <thead>\n",
       "    <tr style=\"text-align: right;\">\n",
       "      <th></th>\n",
       "      <th>Open</th>\n",
       "      <th>High</th>\n",
       "      <th>Low</th>\n",
       "      <th>Close</th>\n",
       "      <th>Adj Close</th>\n",
       "      <th>Volume</th>\n",
       "    </tr>\n",
       "    <tr>\n",
       "      <th>Date</th>\n",
       "      <th></th>\n",
       "      <th></th>\n",
       "      <th></th>\n",
       "      <th></th>\n",
       "      <th></th>\n",
       "      <th></th>\n",
       "    </tr>\n",
       "  </thead>\n",
       "  <tbody>\n",
       "    <tr>\n",
       "      <th>2018-01-02</th>\n",
       "      <td>48.150002</td>\n",
       "      <td>48.590000</td>\n",
       "      <td>47.700001</td>\n",
       "      <td>48.029999</td>\n",
       "      <td>43.640198</td>\n",
       "      <td>8781274.0</td>\n",
       "    </tr>\n",
       "    <tr>\n",
       "      <th>2018-01-03</th>\n",
       "      <td>47.910000</td>\n",
       "      <td>48.000000</td>\n",
       "      <td>47.380001</td>\n",
       "      <td>47.590000</td>\n",
       "      <td>43.240417</td>\n",
       "      <td>12656360.0</td>\n",
       "    </tr>\n",
       "    <tr>\n",
       "      <th>2018-01-04</th>\n",
       "      <td>47.599998</td>\n",
       "      <td>48.209999</td>\n",
       "      <td>47.490002</td>\n",
       "      <td>47.610001</td>\n",
       "      <td>43.258587</td>\n",
       "      <td>16650871.0</td>\n",
       "    </tr>\n",
       "    <tr>\n",
       "      <th>2018-01-05</th>\n",
       "      <td>47.700001</td>\n",
       "      <td>48.169998</td>\n",
       "      <td>47.549999</td>\n",
       "      <td>48.090000</td>\n",
       "      <td>43.694714</td>\n",
       "      <td>9575059.0</td>\n",
       "    </tr>\n",
       "    <tr>\n",
       "      <th>2018-01-08</th>\n",
       "      <td>48.099998</td>\n",
       "      <td>48.500000</td>\n",
       "      <td>47.980000</td>\n",
       "      <td>48.320000</td>\n",
       "      <td>43.903687</td>\n",
       "      <td>13856218.0</td>\n",
       "    </tr>\n",
       "    <tr>\n",
       "      <th>...</th>\n",
       "      <td>...</td>\n",
       "      <td>...</td>\n",
       "      <td>...</td>\n",
       "      <td>...</td>\n",
       "      <td>...</td>\n",
       "      <td>...</td>\n",
       "    </tr>\n",
       "    <tr>\n",
       "      <th>2023-10-10</th>\n",
       "      <td>60.709999</td>\n",
       "      <td>63.340000</td>\n",
       "      <td>60.610001</td>\n",
       "      <td>62.560001</td>\n",
       "      <td>62.560001</td>\n",
       "      <td>21558353.0</td>\n",
       "    </tr>\n",
       "    <tr>\n",
       "      <th>2023-10-11</th>\n",
       "      <td>62.520000</td>\n",
       "      <td>62.590000</td>\n",
       "      <td>61.349998</td>\n",
       "      <td>61.759998</td>\n",
       "      <td>61.759998</td>\n",
       "      <td>37863707.0</td>\n",
       "    </tr>\n",
       "    <tr>\n",
       "      <th>2023-10-12</th>\n",
       "      <td>61.810001</td>\n",
       "      <td>62.509998</td>\n",
       "      <td>61.310001</td>\n",
       "      <td>61.389999</td>\n",
       "      <td>61.389999</td>\n",
       "      <td>17263783.0</td>\n",
       "    </tr>\n",
       "    <tr>\n",
       "      <th>2023-10-13</th>\n",
       "      <td>61.790001</td>\n",
       "      <td>61.840000</td>\n",
       "      <td>59.680000</td>\n",
       "      <td>59.930000</td>\n",
       "      <td>59.930000</td>\n",
       "      <td>20070309.0</td>\n",
       "    </tr>\n",
       "    <tr>\n",
       "      <th>2023-10-16</th>\n",
       "      <td>60.099998</td>\n",
       "      <td>61.240002</td>\n",
       "      <td>59.919998</td>\n",
       "      <td>60.869999</td>\n",
       "      <td>60.869999</td>\n",
       "      <td>12585463.0</td>\n",
       "    </tr>\n",
       "  </tbody>\n",
       "</table>\n",
       "<p>1460 rows × 6 columns</p>\n",
       "</div>"
      ],
      "text/plain": [
       "                 Open       High        Low      Close  Adj Close      Volume\n",
       "Date                                                                         \n",
       "2018-01-02  48.150002  48.590000  47.700001  48.029999  43.640198   8781274.0\n",
       "2018-01-03  47.910000  48.000000  47.380001  47.590000  43.240417  12656360.0\n",
       "2018-01-04  47.599998  48.209999  47.490002  47.610001  43.258587  16650871.0\n",
       "2018-01-05  47.700001  48.169998  47.549999  48.090000  43.694714   9575059.0\n",
       "2018-01-08  48.099998  48.500000  47.980000  48.320000  43.903687  13856218.0\n",
       "...               ...        ...        ...        ...        ...         ...\n",
       "2023-10-10  60.709999  63.340000  60.610001  62.560001  62.560001  21558353.0\n",
       "2023-10-11  62.520000  62.590000  61.349998  61.759998  61.759998  37863707.0\n",
       "2023-10-12  61.810001  62.509998  61.310001  61.389999  61.389999  17263783.0\n",
       "2023-10-13  61.790001  61.840000  59.680000  59.930000  59.930000  20070309.0\n",
       "2023-10-16  60.099998  61.240002  59.919998  60.869999  60.869999  12585463.0\n",
       "\n",
       "[1460 rows x 6 columns]"
      ]
     },
     "execution_count": 22,
     "metadata": {},
     "output_type": "execute_result"
    }
   ],
   "source": [
    "df = hf.precios('walmex.mx', '2018-01-01', '2023-10-17')\n",
    "df"
   ]
  },
  {
   "cell_type": "markdown",
   "id": "fc92b2d3-133c-4e3c-b0a4-565109bfb1dd",
   "metadata": {
    "tags": []
   },
   "source": [
    "## <font color='#2B17B0'>Retornos logarítmicos</font>\n"
   ]
  },
  {
   "cell_type": "markdown",
   "id": "978d39da-9d9e-4459-90d1-fbc4756d8bf4",
   "metadata": {},
   "source": [
    "> _En el trading algorítmico, la precisión y consistencia determinan el éxito. Los retornos logarítmicos son preferidos porque brindan ventajas significativas al analizar rendimientos a través de diversos períodos_"
   ]
  },
  {
   "cell_type": "markdown",
   "id": "96924d2c-8f9c-443c-b270-74ac5efa0873",
   "metadata": {},
   "source": [
    "* __Aditividad Temporal__: Los retornos logarítmicos son aditivos en el tiempo. puedes sumarlos para obtener el retorno logarítmico total durante todo el período. Esto no es el caso con los retornos algebraicos.\n",
    "* __Menor Varianza__:tienden a tener una varianza menor que los retornos algebraicos, lo que los hace más estables para el análisis estadístico.\n",
    "* __Distribución Normal__: Para muchos modelos financieros, se supone que los retornos se distribuyen de manera normal. Los retornos logarítmicos tienen más probabilidades de exhibir este comportamiento en comparación con los retornos algebraicos, especialmente para activos con oscilaciones significativas de precios.\n",
    "* __Conveniencia Matemática__: Al trabajar con productos y proporciones (comunes en modelos financieros), los retornos logarítmicos simplifican los cálculos, especialmente al usar herramientas matemáticas como el movimiento browniano geométrico en el modelo Black-Scholes."
   ]
  },
  {
   "cell_type": "markdown",
   "id": "6269bbc3-102b-4009-81b6-566f9c17401a",
   "metadata": {},
   "source": [
    "$$Ln(x) - Ln(y)$$\n",
    "$$ln\\frac{x}{y}$$"
   ]
  },
  {
   "cell_type": "code",
   "execution_count": 23,
   "id": "766a0fe4-56b1-487c-87ab-34f916d89b86",
   "metadata": {
    "tags": []
   },
   "outputs": [
    {
     "data": {
      "text/html": [
       "<div>\n",
       "<style scoped>\n",
       "    .dataframe tbody tr th:only-of-type {\n",
       "        vertical-align: middle;\n",
       "    }\n",
       "\n",
       "    .dataframe tbody tr th {\n",
       "        vertical-align: top;\n",
       "    }\n",
       "\n",
       "    .dataframe thead th {\n",
       "        text-align: right;\n",
       "    }\n",
       "</style>\n",
       "<table border=\"1\" class=\"dataframe\">\n",
       "  <thead>\n",
       "    <tr style=\"text-align: right;\">\n",
       "      <th></th>\n",
       "      <th>Open</th>\n",
       "      <th>High</th>\n",
       "      <th>Low</th>\n",
       "      <th>Close</th>\n",
       "      <th>Adj Close</th>\n",
       "      <th>Volume</th>\n",
       "      <th>ret</th>\n",
       "    </tr>\n",
       "    <tr>\n",
       "      <th>Date</th>\n",
       "      <th></th>\n",
       "      <th></th>\n",
       "      <th></th>\n",
       "      <th></th>\n",
       "      <th></th>\n",
       "      <th></th>\n",
       "      <th></th>\n",
       "    </tr>\n",
       "  </thead>\n",
       "  <tbody>\n",
       "    <tr>\n",
       "      <th>2018-01-02</th>\n",
       "      <td>48.150002</td>\n",
       "      <td>48.590000</td>\n",
       "      <td>47.700001</td>\n",
       "      <td>48.029999</td>\n",
       "      <td>43.640198</td>\n",
       "      <td>8781274.0</td>\n",
       "      <td>NaN</td>\n",
       "    </tr>\n",
       "    <tr>\n",
       "      <th>2018-01-03</th>\n",
       "      <td>47.910000</td>\n",
       "      <td>48.000000</td>\n",
       "      <td>47.380001</td>\n",
       "      <td>47.590000</td>\n",
       "      <td>43.240417</td>\n",
       "      <td>12656360.0</td>\n",
       "      <td>-0.009203</td>\n",
       "    </tr>\n",
       "    <tr>\n",
       "      <th>2018-01-04</th>\n",
       "      <td>47.599998</td>\n",
       "      <td>48.209999</td>\n",
       "      <td>47.490002</td>\n",
       "      <td>47.610001</td>\n",
       "      <td>43.258587</td>\n",
       "      <td>16650871.0</td>\n",
       "      <td>0.000420</td>\n",
       "    </tr>\n",
       "    <tr>\n",
       "      <th>2018-01-05</th>\n",
       "      <td>47.700001</td>\n",
       "      <td>48.169998</td>\n",
       "      <td>47.549999</td>\n",
       "      <td>48.090000</td>\n",
       "      <td>43.694714</td>\n",
       "      <td>9575059.0</td>\n",
       "      <td>0.010031</td>\n",
       "    </tr>\n",
       "    <tr>\n",
       "      <th>2018-01-08</th>\n",
       "      <td>48.099998</td>\n",
       "      <td>48.500000</td>\n",
       "      <td>47.980000</td>\n",
       "      <td>48.320000</td>\n",
       "      <td>43.903687</td>\n",
       "      <td>13856218.0</td>\n",
       "      <td>0.004771</td>\n",
       "    </tr>\n",
       "    <tr>\n",
       "      <th>...</th>\n",
       "      <td>...</td>\n",
       "      <td>...</td>\n",
       "      <td>...</td>\n",
       "      <td>...</td>\n",
       "      <td>...</td>\n",
       "      <td>...</td>\n",
       "      <td>...</td>\n",
       "    </tr>\n",
       "    <tr>\n",
       "      <th>2023-10-10</th>\n",
       "      <td>60.709999</td>\n",
       "      <td>63.340000</td>\n",
       "      <td>60.610001</td>\n",
       "      <td>62.560001</td>\n",
       "      <td>62.560001</td>\n",
       "      <td>21558353.0</td>\n",
       "      <td>0.031501</td>\n",
       "    </tr>\n",
       "    <tr>\n",
       "      <th>2023-10-11</th>\n",
       "      <td>62.520000</td>\n",
       "      <td>62.590000</td>\n",
       "      <td>61.349998</td>\n",
       "      <td>61.759998</td>\n",
       "      <td>61.759998</td>\n",
       "      <td>37863707.0</td>\n",
       "      <td>-0.012870</td>\n",
       "    </tr>\n",
       "    <tr>\n",
       "      <th>2023-10-12</th>\n",
       "      <td>61.810001</td>\n",
       "      <td>62.509998</td>\n",
       "      <td>61.310001</td>\n",
       "      <td>61.389999</td>\n",
       "      <td>61.389999</td>\n",
       "      <td>17263783.0</td>\n",
       "      <td>-0.006009</td>\n",
       "    </tr>\n",
       "    <tr>\n",
       "      <th>2023-10-13</th>\n",
       "      <td>61.790001</td>\n",
       "      <td>61.840000</td>\n",
       "      <td>59.680000</td>\n",
       "      <td>59.930000</td>\n",
       "      <td>59.930000</td>\n",
       "      <td>20070309.0</td>\n",
       "      <td>-0.024070</td>\n",
       "    </tr>\n",
       "    <tr>\n",
       "      <th>2023-10-16</th>\n",
       "      <td>60.099998</td>\n",
       "      <td>61.240002</td>\n",
       "      <td>59.919998</td>\n",
       "      <td>60.869999</td>\n",
       "      <td>60.869999</td>\n",
       "      <td>12585463.0</td>\n",
       "      <td>0.015563</td>\n",
       "    </tr>\n",
       "  </tbody>\n",
       "</table>\n",
       "<p>1460 rows × 7 columns</p>\n",
       "</div>"
      ],
      "text/plain": [
       "                 Open       High        Low      Close  Adj Close      Volume  \\\n",
       "Date                                                                            \n",
       "2018-01-02  48.150002  48.590000  47.700001  48.029999  43.640198   8781274.0   \n",
       "2018-01-03  47.910000  48.000000  47.380001  47.590000  43.240417  12656360.0   \n",
       "2018-01-04  47.599998  48.209999  47.490002  47.610001  43.258587  16650871.0   \n",
       "2018-01-05  47.700001  48.169998  47.549999  48.090000  43.694714   9575059.0   \n",
       "2018-01-08  48.099998  48.500000  47.980000  48.320000  43.903687  13856218.0   \n",
       "...               ...        ...        ...        ...        ...         ...   \n",
       "2023-10-10  60.709999  63.340000  60.610001  62.560001  62.560001  21558353.0   \n",
       "2023-10-11  62.520000  62.590000  61.349998  61.759998  61.759998  37863707.0   \n",
       "2023-10-12  61.810001  62.509998  61.310001  61.389999  61.389999  17263783.0   \n",
       "2023-10-13  61.790001  61.840000  59.680000  59.930000  59.930000  20070309.0   \n",
       "2023-10-16  60.099998  61.240002  59.919998  60.869999  60.869999  12585463.0   \n",
       "\n",
       "                 ret  \n",
       "Date                  \n",
       "2018-01-02       NaN  \n",
       "2018-01-03 -0.009203  \n",
       "2018-01-04  0.000420  \n",
       "2018-01-05  0.010031  \n",
       "2018-01-08  0.004771  \n",
       "...              ...  \n",
       "2023-10-10  0.031501  \n",
       "2023-10-11 -0.012870  \n",
       "2023-10-12 -0.006009  \n",
       "2023-10-13 -0.024070  \n",
       "2023-10-16  0.015563  \n",
       "\n",
       "[1460 rows x 7 columns]"
      ]
     },
     "execution_count": 23,
     "metadata": {},
     "output_type": "execute_result"
    }
   ],
   "source": [
    "df['ret'] = np.log(df['Adj Close']/df['Adj Close'].shift(1))\n",
    "df"
   ]
  },
  {
   "cell_type": "code",
   "execution_count": 26,
   "id": "97e2f4d0-ac1a-4a80-942a-4f1eb35f428d",
   "metadata": {
    "tags": []
   },
   "outputs": [
    {
     "data": {
      "text/plain": [
       "0.30564790779625517"
      ]
     },
     "execution_count": 26,
     "metadata": {},
     "output_type": "execute_result"
    }
   ],
   "source": [
    "df['ret'].sum()"
   ]
  },
  {
   "cell_type": "markdown",
   "id": "0edabe6f-5b16-4909-85d3-f95829bd1209",
   "metadata": {},
   "source": [
    "## Comparar 2 o más acciones"
   ]
  },
  {
   "cell_type": "markdown",
   "id": "9deccbad-16bb-4333-9d3b-456152b69306",
   "metadata": {
    "tags": []
   },
   "source": [
    "### Crear DataFrame con 2 o más precios de cierre de diferentes acciones"
   ]
  },
  {
   "cell_type": "code",
   "execution_count": null,
   "id": "5996a0d7-edb6-48d4-858c-8c5a305c671a",
   "metadata": {},
   "outputs": [],
   "source": []
  },
  {
   "cell_type": "markdown",
   "id": "0144df3e-4d44-4274-8d00-443814d1d698",
   "metadata": {},
   "source": [
    "### Normalizado de series de tiempo: Comparar 2 o más acciones"
   ]
  },
  {
   "cell_type": "code",
   "execution_count": null,
   "id": "cb31426b-c628-4942-9a39-a6e4bd95cefd",
   "metadata": {},
   "outputs": [],
   "source": []
  },
  {
   "cell_type": "markdown",
   "id": "2ba3438b-f280-4e78-ae1a-39956d0a2a75",
   "metadata": {
    "tags": []
   },
   "source": [
    "## Algoritmo Promedios Móviles"
   ]
  },
  {
   "cell_type": "markdown",
   "id": "cd1ed107-3f7a-4116-b4c5-4a4d635f815b",
   "metadata": {
    "tags": []
   },
   "source": [
    "Un promedio móvil es una técnica que calcula el promedio de un conjunto de datos a lo largo de un período específico, que se actualiza constantemente a medida que pasa el tiempo. Por ejemplo, en el caso de los precios de cierre de una acción, un promedio móvil de 20 días calcula el promedio de los precios de cierre de los últimos 20 días. Con cada día que pasa, se elimina el dato correspondiente al día más antiguo de los 20 y se incorpora el precio del día más reciente. De esta forma, el promedio móvil siempre refleja el precio promedio de las últimos 20 días.<br><br>"
   ]
  },
  {
   "cell_type": "code",
   "execution_count": 92,
   "id": "e2650c3c-df38-4f22-b878-2e439401bc1e",
   "metadata": {},
   "outputs": [],
   "source": [
    "accion = 'ac.mx'\n",
    "pm1 = 21\n",
    "pm2 = 50"
   ]
  },
  {
   "cell_type": "code",
   "execution_count": 93,
   "id": "43f95b4a-c3b6-41bd-9c25-fb0814a0f076",
   "metadata": {
    "tags": []
   },
   "outputs": [],
   "source": [
    "df = hf.precios(accion, '2018-01-01', '2023-10-17')\n",
    "df.dropna(inplace=True)"
   ]
  },
  {
   "cell_type": "code",
   "execution_count": 94,
   "id": "af5f2fc2-ddb0-46a0-ac90-b84d8adab8d5",
   "metadata": {
    "tags": []
   },
   "outputs": [
    {
     "data": {
      "text/plain": [
       "<Axes: xlabel='Date'>"
      ]
     },
     "execution_count": 94,
     "metadata": {},
     "output_type": "execute_result"
    },
    {
     "data": {
      "image/png": "[encoded data removed]",
      "text/plain": [
       "<Figure size 640x480 with 1 Axes>"
      ]
     },
     "metadata": {},
     "output_type": "display_data"
    }
   ],
   "source": [
    "df['Adj Close'].plot()"
   ]
  },
  {
   "cell_type": "markdown",
   "id": "d2510f82-1ff7-4040-af08-a4d78f5ef6b2",
   "metadata": {},
   "source": [
    "### Cálculo de los promedios móviles"
   ]
  },
  {
   "cell_type": "markdown",
   "id": "d48d54c0-00dd-45f5-9b4b-99247551b3c7",
   "metadata": {},
   "source": [
    "Referencia sobre la función `rolling` de pandas:\n",
    "https://pandas.pydata.org/docs/reference/api/pandas.DataFrame.rolling.html"
   ]
  },
  {
   "cell_type": "code",
   "execution_count": 95,
   "id": "3baed668-30f4-40d0-a625-64775f052b23",
   "metadata": {
    "tags": []
   },
   "outputs": [],
   "source": [
    "df['pm1'] = df['Adj Close'].rolling(pm1).mean()\n",
    "df['pm2'] = df['Adj Close'].rolling(pm2).mean()"
   ]
  },
  {
   "cell_type": "code",
   "execution_count": 96,
   "id": "872032b7-7a13-4d8e-abc2-32f330185d5c",
   "metadata": {},
   "outputs": [
    {
     "data": {
      "text/html": [
       "<div>\n",
       "<style scoped>\n",
       "    .dataframe tbody tr th:only-of-type {\n",
       "        vertical-align: middle;\n",
       "    }\n",
       "\n",
       "    .dataframe tbody tr th {\n",
       "        vertical-align: top;\n",
       "    }\n",
       "\n",
       "    .dataframe thead th {\n",
       "        text-align: right;\n",
       "    }\n",
       "</style>\n",
       "<table border=\"1\" class=\"dataframe\">\n",
       "  <thead>\n",
       "    <tr style=\"text-align: right;\">\n",
       "      <th></th>\n",
       "      <th>Open</th>\n",
       "      <th>High</th>\n",
       "      <th>Low</th>\n",
       "      <th>Close</th>\n",
       "      <th>Adj Close</th>\n",
       "      <th>Volume</th>\n",
       "      <th>pm1</th>\n",
       "      <th>pm2</th>\n",
       "    </tr>\n",
       "    <tr>\n",
       "      <th>Date</th>\n",
       "      <th></th>\n",
       "      <th></th>\n",
       "      <th></th>\n",
       "      <th></th>\n",
       "      <th></th>\n",
       "      <th></th>\n",
       "      <th></th>\n",
       "      <th></th>\n",
       "    </tr>\n",
       "  </thead>\n",
       "  <tbody>\n",
       "    <tr>\n",
       "      <th>2018-01-02</th>\n",
       "      <td>136.490005</td>\n",
       "      <td>138.380005</td>\n",
       "      <td>134.119995</td>\n",
       "      <td>138.160004</td>\n",
       "      <td>112.918755</td>\n",
       "      <td>588099.0</td>\n",
       "      <td>NaN</td>\n",
       "      <td>NaN</td>\n",
       "    </tr>\n",
       "    <tr>\n",
       "      <th>2018-01-03</th>\n",
       "      <td>138.990005</td>\n",
       "      <td>138.990005</td>\n",
       "      <td>134.440002</td>\n",
       "      <td>134.699997</td>\n",
       "      <td>110.090866</td>\n",
       "      <td>986153.0</td>\n",
       "      <td>NaN</td>\n",
       "      <td>NaN</td>\n",
       "    </tr>\n",
       "    <tr>\n",
       "      <th>2018-01-04</th>\n",
       "      <td>134.699997</td>\n",
       "      <td>135.289993</td>\n",
       "      <td>133.779999</td>\n",
       "      <td>133.860001</td>\n",
       "      <td>109.404343</td>\n",
       "      <td>1332384.0</td>\n",
       "      <td>NaN</td>\n",
       "      <td>NaN</td>\n",
       "    </tr>\n",
       "    <tr>\n",
       "      <th>2018-01-05</th>\n",
       "      <td>133.850006</td>\n",
       "      <td>135.820007</td>\n",
       "      <td>133.830002</td>\n",
       "      <td>134.800003</td>\n",
       "      <td>110.172592</td>\n",
       "      <td>704845.0</td>\n",
       "      <td>NaN</td>\n",
       "      <td>NaN</td>\n",
       "    </tr>\n",
       "    <tr>\n",
       "      <th>2018-01-08</th>\n",
       "      <td>135.000000</td>\n",
       "      <td>136.000000</td>\n",
       "      <td>133.759995</td>\n",
       "      <td>134.910004</td>\n",
       "      <td>110.262520</td>\n",
       "      <td>904098.0</td>\n",
       "      <td>NaN</td>\n",
       "      <td>NaN</td>\n",
       "    </tr>\n",
       "    <tr>\n",
       "      <th>...</th>\n",
       "      <td>...</td>\n",
       "      <td>...</td>\n",
       "      <td>...</td>\n",
       "      <td>...</td>\n",
       "      <td>...</td>\n",
       "      <td>...</td>\n",
       "      <td>...</td>\n",
       "      <td>...</td>\n",
       "    </tr>\n",
       "    <tr>\n",
       "      <th>2023-10-10</th>\n",
       "      <td>154.649994</td>\n",
       "      <td>157.070007</td>\n",
       "      <td>154.520004</td>\n",
       "      <td>156.490005</td>\n",
       "      <td>156.490005</td>\n",
       "      <td>1545018.0</td>\n",
       "      <td>158.760953</td>\n",
       "      <td>160.834401</td>\n",
       "    </tr>\n",
       "    <tr>\n",
       "      <th>2023-10-11</th>\n",
       "      <td>155.009995</td>\n",
       "      <td>155.910004</td>\n",
       "      <td>153.380005</td>\n",
       "      <td>154.339996</td>\n",
       "      <td>154.339996</td>\n",
       "      <td>2083733.0</td>\n",
       "      <td>158.571428</td>\n",
       "      <td>160.663201</td>\n",
       "    </tr>\n",
       "    <tr>\n",
       "      <th>2023-10-12</th>\n",
       "      <td>154.259995</td>\n",
       "      <td>154.330002</td>\n",
       "      <td>151.350006</td>\n",
       "      <td>152.009995</td>\n",
       "      <td>152.009995</td>\n",
       "      <td>1535826.0</td>\n",
       "      <td>158.327143</td>\n",
       "      <td>160.429201</td>\n",
       "    </tr>\n",
       "    <tr>\n",
       "      <th>2023-10-13</th>\n",
       "      <td>153.330002</td>\n",
       "      <td>153.330002</td>\n",
       "      <td>150.309998</td>\n",
       "      <td>150.350006</td>\n",
       "      <td>150.350006</td>\n",
       "      <td>1291532.0</td>\n",
       "      <td>157.926190</td>\n",
       "      <td>160.156401</td>\n",
       "    </tr>\n",
       "    <tr>\n",
       "      <th>2023-10-16</th>\n",
       "      <td>150.089996</td>\n",
       "      <td>152.089996</td>\n",
       "      <td>150.029999</td>\n",
       "      <td>151.490005</td>\n",
       "      <td>151.490005</td>\n",
       "      <td>1124398.0</td>\n",
       "      <td>157.560000</td>\n",
       "      <td>159.917001</td>\n",
       "    </tr>\n",
       "  </tbody>\n",
       "</table>\n",
       "<p>1459 rows × 8 columns</p>\n",
       "</div>"
      ],
      "text/plain": [
       "                  Open        High         Low       Close   Adj Close  \\\n",
       "Date                                                                     \n",
       "2018-01-02  136.490005  138.380005  134.119995  138.160004  112.918755   \n",
       "2018-01-03  138.990005  138.990005  134.440002  134.699997  110.090866   \n",
       "2018-01-04  134.699997  135.289993  133.779999  133.860001  109.404343   \n",
       "2018-01-05  133.850006  135.820007  133.830002  134.800003  110.172592   \n",
       "2018-01-08  135.000000  136.000000  133.759995  134.910004  110.262520   \n",
       "...                ...         ...         ...         ...         ...   \n",
       "2023-10-10  154.649994  157.070007  154.520004  156.490005  156.490005   \n",
       "2023-10-11  155.009995  155.910004  153.380005  154.339996  154.339996   \n",
       "2023-10-12  154.259995  154.330002  151.350006  152.009995  152.009995   \n",
       "2023-10-13  153.330002  153.330002  150.309998  150.350006  150.350006   \n",
       "2023-10-16  150.089996  152.089996  150.029999  151.490005  151.490005   \n",
       "\n",
       "               Volume         pm1         pm2  \n",
       "Date                                           \n",
       "2018-01-02   588099.0         NaN         NaN  \n",
       "2018-01-03   986153.0         NaN         NaN  \n",
       "2018-01-04  1332384.0         NaN         NaN  \n",
       "2018-01-05   704845.0         NaN         NaN  \n",
       "2018-01-08   904098.0         NaN         NaN  \n",
       "...               ...         ...         ...  \n",
       "2023-10-10  1545018.0  158.760953  160.834401  \n",
       "2023-10-11  2083733.0  158.571428  160.663201  \n",
       "2023-10-12  1535826.0  158.327143  160.429201  \n",
       "2023-10-13  1291532.0  157.926190  160.156401  \n",
       "2023-10-16  1124398.0  157.560000  159.917001  \n",
       "\n",
       "[1459 rows x 8 columns]"
      ]
     },
     "execution_count": 96,
     "metadata": {},
     "output_type": "execute_result"
    }
   ],
   "source": [
    "df"
   ]
  },
  {
   "cell_type": "code",
   "execution_count": 97,
   "id": "ccb1db73-d3ce-4101-8434-6f6800a42207",
   "metadata": {
    "tags": []
   },
   "outputs": [
    {
     "data": {
      "text/plain": [
       "<Axes: xlabel='Date'>"
      ]
     },
     "execution_count": 97,
     "metadata": {},
     "output_type": "execute_result"
    },
    {
     "data": {
      "image/png": "[encoded data removed]",
      "text/plain": [
       "<Figure size 640x480 with 1 Axes>"
      ]
     },
     "metadata": {},
     "output_type": "display_data"
    }
   ],
   "source": [
    "df[['Adj Close', 'pm1', 'pm2']].plot()"
   ]
  },
  {
   "cell_type": "markdown",
   "id": "976af034-8884-418c-ab71-40477b66ab71",
   "metadata": {},
   "source": [
    "### Calcular posicion en el mercado"
   ]
  },
  {
   "cell_type": "markdown",
   "id": "4a5fa7e9-b65b-4ebd-b3ba-0fc053d9cc55",
   "metadata": {},
   "source": [
    "Ventas en corto permitidas:\n",
    "La estrategia consiste en tomar posiciones \"long\" o \"short\" al cruce de los PMs:\n",
    "* Long: PM1 > PM2 $\\longrightarrow$ __1__\n",
    "* Short: PM1 < PM2 $\\longrightarrow$ __-1__\n",
    "\n",
    "Ventas en corto no permitidas:\n",
    "* Long: PM1 > PM2 $\\longrightarrow$ __1__\n",
    "* Out:   PM1 < PM2 $\\longrightarrow$ **0**\n",
    "\n",
    "El utilizar números nos permite:\n",
    "* Visualizar posición en el mercado de acuerdo a los crueces de lospromedios móviles\n",
    "* Calcular los retornos de de la estrategia"
   ]
  },
  {
   "cell_type": "markdown",
   "id": "9d76e893-bb0d-41cd-90e2-87b172a3c1c0",
   "metadata": {
    "tags": []
   },
   "source": [
    "#### Cálculo de posición del mercado utilizando ventas en corto"
   ]
  },
  {
   "cell_type": "code",
   "execution_count": 98,
   "id": "54dd5577-9b6a-4e92-8c34-983b4891e979",
   "metadata": {},
   "outputs": [],
   "source": [
    "long = 1\n",
    "short = -1"
   ]
  },
  {
   "cell_type": "code",
   "execution_count": 99,
   "id": "5046cbcb-1070-400f-b648-554d9cc70136",
   "metadata": {
    "tags": []
   },
   "outputs": [],
   "source": [
    "df['posicion'] = np.where(df['pm1'] > df['pm2'], long, short)"
   ]
  },
  {
   "cell_type": "code",
   "execution_count": 100,
   "id": "e2731a73-e44a-4bd6-96a2-a3fe9b4e7d91",
   "metadata": {
    "tags": []
   },
   "outputs": [],
   "source": [
    "df.dropna(inplace=True)"
   ]
  },
  {
   "cell_type": "code",
   "execution_count": 101,
   "id": "7caf65e2-6946-4dd1-ad4f-2a1817623b47",
   "metadata": {
    "tags": []
   },
   "outputs": [
    {
     "data": {
      "text/html": [
       "<div>\n",
       "<style scoped>\n",
       "    .dataframe tbody tr th:only-of-type {\n",
       "        vertical-align: middle;\n",
       "    }\n",
       "\n",
       "    .dataframe tbody tr th {\n",
       "        vertical-align: top;\n",
       "    }\n",
       "\n",
       "    .dataframe thead th {\n",
       "        text-align: right;\n",
       "    }\n",
       "</style>\n",
       "<table border=\"1\" class=\"dataframe\">\n",
       "  <thead>\n",
       "    <tr style=\"text-align: right;\">\n",
       "      <th></th>\n",
       "      <th>Open</th>\n",
       "      <th>High</th>\n",
       "      <th>Low</th>\n",
       "      <th>Close</th>\n",
       "      <th>Adj Close</th>\n",
       "      <th>Volume</th>\n",
       "      <th>pm1</th>\n",
       "      <th>pm2</th>\n",
       "      <th>posicion</th>\n",
       "    </tr>\n",
       "    <tr>\n",
       "      <th>Date</th>\n",
       "      <th></th>\n",
       "      <th></th>\n",
       "      <th></th>\n",
       "      <th></th>\n",
       "      <th></th>\n",
       "      <th></th>\n",
       "      <th></th>\n",
       "      <th></th>\n",
       "      <th></th>\n",
       "    </tr>\n",
       "  </thead>\n",
       "  <tbody>\n",
       "    <tr>\n",
       "      <th>2018-03-13</th>\n",
       "      <td>131.740005</td>\n",
       "      <td>132.199997</td>\n",
       "      <td>130.580002</td>\n",
       "      <td>131.750000</td>\n",
       "      <td>107.679832</td>\n",
       "      <td>730388.0</td>\n",
       "      <td>107.858083</td>\n",
       "      <td>109.688602</td>\n",
       "      <td>-1</td>\n",
       "    </tr>\n",
       "    <tr>\n",
       "      <th>2018-03-14</th>\n",
       "      <td>132.070007</td>\n",
       "      <td>132.449997</td>\n",
       "      <td>129.949997</td>\n",
       "      <td>131.929993</td>\n",
       "      <td>107.826950</td>\n",
       "      <td>796855.0</td>\n",
       "      <td>107.844850</td>\n",
       "      <td>109.586766</td>\n",
       "      <td>-1</td>\n",
       "    </tr>\n",
       "    <tr>\n",
       "      <th>2018-03-15</th>\n",
       "      <td>132.500000</td>\n",
       "      <td>132.500000</td>\n",
       "      <td>130.589996</td>\n",
       "      <td>131.029999</td>\n",
       "      <td>107.091362</td>\n",
       "      <td>589787.0</td>\n",
       "      <td>107.773627</td>\n",
       "      <td>109.526775</td>\n",
       "      <td>-1</td>\n",
       "    </tr>\n",
       "    <tr>\n",
       "      <th>2018-03-16</th>\n",
       "      <td>131.020004</td>\n",
       "      <td>131.850006</td>\n",
       "      <td>130.309998</td>\n",
       "      <td>130.699997</td>\n",
       "      <td>106.821655</td>\n",
       "      <td>2319975.0</td>\n",
       "      <td>107.694621</td>\n",
       "      <td>109.475122</td>\n",
       "      <td>-1</td>\n",
       "    </tr>\n",
       "    <tr>\n",
       "      <th>2018-03-20</th>\n",
       "      <td>129.800003</td>\n",
       "      <td>130.449997</td>\n",
       "      <td>128.160004</td>\n",
       "      <td>129.660004</td>\n",
       "      <td>105.971680</td>\n",
       "      <td>1945494.0</td>\n",
       "      <td>107.565799</td>\n",
       "      <td>109.391103</td>\n",
       "      <td>-1</td>\n",
       "    </tr>\n",
       "    <tr>\n",
       "      <th>...</th>\n",
       "      <td>...</td>\n",
       "      <td>...</td>\n",
       "      <td>...</td>\n",
       "      <td>...</td>\n",
       "      <td>...</td>\n",
       "      <td>...</td>\n",
       "      <td>...</td>\n",
       "      <td>...</td>\n",
       "      <td>...</td>\n",
       "    </tr>\n",
       "    <tr>\n",
       "      <th>2023-10-10</th>\n",
       "      <td>154.649994</td>\n",
       "      <td>157.070007</td>\n",
       "      <td>154.520004</td>\n",
       "      <td>156.490005</td>\n",
       "      <td>156.490005</td>\n",
       "      <td>1545018.0</td>\n",
       "      <td>158.760953</td>\n",
       "      <td>160.834401</td>\n",
       "      <td>-1</td>\n",
       "    </tr>\n",
       "    <tr>\n",
       "      <th>2023-10-11</th>\n",
       "      <td>155.009995</td>\n",
       "      <td>155.910004</td>\n",
       "      <td>153.380005</td>\n",
       "      <td>154.339996</td>\n",
       "      <td>154.339996</td>\n",
       "      <td>2083733.0</td>\n",
       "      <td>158.571428</td>\n",
       "      <td>160.663201</td>\n",
       "      <td>-1</td>\n",
       "    </tr>\n",
       "    <tr>\n",
       "      <th>2023-10-12</th>\n",
       "      <td>154.259995</td>\n",
       "      <td>154.330002</td>\n",
       "      <td>151.350006</td>\n",
       "      <td>152.009995</td>\n",
       "      <td>152.009995</td>\n",
       "      <td>1535826.0</td>\n",
       "      <td>158.327143</td>\n",
       "      <td>160.429201</td>\n",
       "      <td>-1</td>\n",
       "    </tr>\n",
       "    <tr>\n",
       "      <th>2023-10-13</th>\n",
       "      <td>153.330002</td>\n",
       "      <td>153.330002</td>\n",
       "      <td>150.309998</td>\n",
       "      <td>150.350006</td>\n",
       "      <td>150.350006</td>\n",
       "      <td>1291532.0</td>\n",
       "      <td>157.926190</td>\n",
       "      <td>160.156401</td>\n",
       "      <td>-1</td>\n",
       "    </tr>\n",
       "    <tr>\n",
       "      <th>2023-10-16</th>\n",
       "      <td>150.089996</td>\n",
       "      <td>152.089996</td>\n",
       "      <td>150.029999</td>\n",
       "      <td>151.490005</td>\n",
       "      <td>151.490005</td>\n",
       "      <td>1124398.0</td>\n",
       "      <td>157.560000</td>\n",
       "      <td>159.917001</td>\n",
       "      <td>-1</td>\n",
       "    </tr>\n",
       "  </tbody>\n",
       "</table>\n",
       "<p>1410 rows × 9 columns</p>\n",
       "</div>"
      ],
      "text/plain": [
       "                  Open        High         Low       Close   Adj Close  \\\n",
       "Date                                                                     \n",
       "2018-03-13  131.740005  132.199997  130.580002  131.750000  107.679832   \n",
       "2018-03-14  132.070007  132.449997  129.949997  131.929993  107.826950   \n",
       "2018-03-15  132.500000  132.500000  130.589996  131.029999  107.091362   \n",
       "2018-03-16  131.020004  131.850006  130.309998  130.699997  106.821655   \n",
       "2018-03-20  129.800003  130.449997  128.160004  129.660004  105.971680   \n",
       "...                ...         ...         ...         ...         ...   \n",
       "2023-10-10  154.649994  157.070007  154.520004  156.490005  156.490005   \n",
       "2023-10-11  155.009995  155.910004  153.380005  154.339996  154.339996   \n",
       "2023-10-12  154.259995  154.330002  151.350006  152.009995  152.009995   \n",
       "2023-10-13  153.330002  153.330002  150.309998  150.350006  150.350006   \n",
       "2023-10-16  150.089996  152.089996  150.029999  151.490005  151.490005   \n",
       "\n",
       "               Volume         pm1         pm2  posicion  \n",
       "Date                                                     \n",
       "2018-03-13   730388.0  107.858083  109.688602        -1  \n",
       "2018-03-14   796855.0  107.844850  109.586766        -1  \n",
       "2018-03-15   589787.0  107.773627  109.526775        -1  \n",
       "2018-03-16  2319975.0  107.694621  109.475122        -1  \n",
       "2018-03-20  1945494.0  107.565799  109.391103        -1  \n",
       "...               ...         ...         ...       ...  \n",
       "2023-10-10  1545018.0  158.760953  160.834401        -1  \n",
       "2023-10-11  2083733.0  158.571428  160.663201        -1  \n",
       "2023-10-12  1535826.0  158.327143  160.429201        -1  \n",
       "2023-10-13  1291532.0  157.926190  160.156401        -1  \n",
       "2023-10-16  1124398.0  157.560000  159.917001        -1  \n",
       "\n",
       "[1410 rows x 9 columns]"
      ]
     },
     "execution_count": 101,
     "metadata": {},
     "output_type": "execute_result"
    }
   ],
   "source": [
    "df"
   ]
  },
  {
   "cell_type": "markdown",
   "id": "43bdfc13-01e7-4c86-90fd-f252969885a7",
   "metadata": {},
   "source": [
    "Referencia sobre función `where` de numpy:\n",
    "https://numpy.org/doc/stable/reference/generated/numpy.where.html"
   ]
  },
  {
   "cell_type": "markdown",
   "id": "a7aa5a4e-b135-4628-886f-be672e3b490a",
   "metadata": {
    "tags": []
   },
   "source": [
    "#### <font color='navygray'>Visualizar posiciones en el mercado</font>"
   ]
  },
  {
   "cell_type": "code",
   "execution_count": 102,
   "id": "65ded7a9-36ab-466d-a06b-25762eda5824",
   "metadata": {},
   "outputs": [
    {
     "data": {
      "text/plain": [
       "<Axes: xlabel='Date'>"
      ]
     },
     "execution_count": 102,
     "metadata": {},
     "output_type": "execute_result"
    },
    {
     "data": {
      "image/png": "[encoded data removed]",
      "text/plain": [
       "<Figure size 640x480 with 1 Axes>"
      ]
     },
     "metadata": {},
     "output_type": "display_data"
    }
   ],
   "source": [
    "df['posicion'].plot()"
   ]
  },
  {
   "cell_type": "markdown",
   "id": "ac8d3470-c588-4752-b0ad-daf55972dfa1",
   "metadata": {
    "tags": []
   },
   "source": [
    "### Retornos del mercado Vs Estrategia PMs"
   ]
  },
  {
   "cell_type": "code",
   "execution_count": 103,
   "id": "789ff9e2-6b61-413d-b95e-e8308b1aaf78",
   "metadata": {},
   "outputs": [],
   "source": [
    "df['ret'] = np.log(df['Adj Close']/df['Adj Close'].shift(1))"
   ]
  },
  {
   "cell_type": "code",
   "execution_count": 104,
   "id": "4fd9d73d-ed97-418b-abfc-0291f8adc06c",
   "metadata": {
    "tags": []
   },
   "outputs": [
    {
     "data": {
      "text/html": [
       "<div>\n",
       "<style scoped>\n",
       "    .dataframe tbody tr th:only-of-type {\n",
       "        vertical-align: middle;\n",
       "    }\n",
       "\n",
       "    .dataframe tbody tr th {\n",
       "        vertical-align: top;\n",
       "    }\n",
       "\n",
       "    .dataframe thead th {\n",
       "        text-align: right;\n",
       "    }\n",
       "</style>\n",
       "<table border=\"1\" class=\"dataframe\">\n",
       "  <thead>\n",
       "    <tr style=\"text-align: right;\">\n",
       "      <th></th>\n",
       "      <th>Open</th>\n",
       "      <th>High</th>\n",
       "      <th>Low</th>\n",
       "      <th>Close</th>\n",
       "      <th>Adj Close</th>\n",
       "      <th>Volume</th>\n",
       "      <th>pm1</th>\n",
       "      <th>pm2</th>\n",
       "      <th>posicion</th>\n",
       "      <th>ret</th>\n",
       "    </tr>\n",
       "    <tr>\n",
       "      <th>Date</th>\n",
       "      <th></th>\n",
       "      <th></th>\n",
       "      <th></th>\n",
       "      <th></th>\n",
       "      <th></th>\n",
       "      <th></th>\n",
       "      <th></th>\n",
       "      <th></th>\n",
       "      <th></th>\n",
       "      <th></th>\n",
       "    </tr>\n",
       "  </thead>\n",
       "  <tbody>\n",
       "    <tr>\n",
       "      <th>2023-08-08</th>\n",
       "      <td>164.020004</td>\n",
       "      <td>164.020004</td>\n",
       "      <td>161.600006</td>\n",
       "      <td>162.470001</td>\n",
       "      <td>162.470001</td>\n",
       "      <td>1146753.0</td>\n",
       "      <td>171.191430</td>\n",
       "      <td>174.890600</td>\n",
       "      <td>-1</td>\n",
       "      <td>-0.006075</td>\n",
       "    </tr>\n",
       "    <tr>\n",
       "      <th>2023-08-09</th>\n",
       "      <td>162.949997</td>\n",
       "      <td>164.000000</td>\n",
       "      <td>160.630005</td>\n",
       "      <td>162.639999</td>\n",
       "      <td>162.639999</td>\n",
       "      <td>2028729.0</td>\n",
       "      <td>170.543810</td>\n",
       "      <td>174.567400</td>\n",
       "      <td>-1</td>\n",
       "      <td>0.001046</td>\n",
       "    </tr>\n",
       "    <tr>\n",
       "      <th>2023-08-10</th>\n",
       "      <td>162.800003</td>\n",
       "      <td>163.899994</td>\n",
       "      <td>159.710007</td>\n",
       "      <td>160.070007</td>\n",
       "      <td>160.070007</td>\n",
       "      <td>1852582.0</td>\n",
       "      <td>169.740001</td>\n",
       "      <td>174.325000</td>\n",
       "      <td>-1</td>\n",
       "      <td>-0.015928</td>\n",
       "    </tr>\n",
       "    <tr>\n",
       "      <th>2023-08-11</th>\n",
       "      <td>160.220001</td>\n",
       "      <td>161.179993</td>\n",
       "      <td>155.320007</td>\n",
       "      <td>155.699997</td>\n",
       "      <td>155.699997</td>\n",
       "      <td>2713711.0</td>\n",
       "      <td>168.738573</td>\n",
       "      <td>173.960000</td>\n",
       "      <td>-1</td>\n",
       "      <td>-0.027680</td>\n",
       "    </tr>\n",
       "    <tr>\n",
       "      <th>2023-08-14</th>\n",
       "      <td>155.600006</td>\n",
       "      <td>156.479996</td>\n",
       "      <td>152.880005</td>\n",
       "      <td>153.570007</td>\n",
       "      <td>153.570007</td>\n",
       "      <td>2364770.0</td>\n",
       "      <td>167.628573</td>\n",
       "      <td>173.486600</td>\n",
       "      <td>-1</td>\n",
       "      <td>-0.013775</td>\n",
       "    </tr>\n",
       "    <tr>\n",
       "      <th>2023-08-15</th>\n",
       "      <td>153.919998</td>\n",
       "      <td>160.279999</td>\n",
       "      <td>153.919998</td>\n",
       "      <td>158.449997</td>\n",
       "      <td>158.449997</td>\n",
       "      <td>1379842.0</td>\n",
       "      <td>166.899525</td>\n",
       "      <td>173.073400</td>\n",
       "      <td>-1</td>\n",
       "      <td>0.031283</td>\n",
       "    </tr>\n",
       "    <tr>\n",
       "      <th>2023-08-16</th>\n",
       "      <td>158.399994</td>\n",
       "      <td>163.360001</td>\n",
       "      <td>157.779999</td>\n",
       "      <td>162.360001</td>\n",
       "      <td>162.360001</td>\n",
       "      <td>2044058.0</td>\n",
       "      <td>166.266192</td>\n",
       "      <td>172.698800</td>\n",
       "      <td>-1</td>\n",
       "      <td>0.024377</td>\n",
       "    </tr>\n",
       "    <tr>\n",
       "      <th>2023-08-17</th>\n",
       "      <td>162.800003</td>\n",
       "      <td>166.020004</td>\n",
       "      <td>162.440002</td>\n",
       "      <td>163.600006</td>\n",
       "      <td>163.600006</td>\n",
       "      <td>1683505.0</td>\n",
       "      <td>165.760954</td>\n",
       "      <td>172.372801</td>\n",
       "      <td>-1</td>\n",
       "      <td>0.007608</td>\n",
       "    </tr>\n",
       "    <tr>\n",
       "      <th>2023-08-18</th>\n",
       "      <td>163.190002</td>\n",
       "      <td>163.190002</td>\n",
       "      <td>161.210007</td>\n",
       "      <td>162.509995</td>\n",
       "      <td>162.509995</td>\n",
       "      <td>929652.0</td>\n",
       "      <td>165.187620</td>\n",
       "      <td>172.043001</td>\n",
       "      <td>-1</td>\n",
       "      <td>-0.006685</td>\n",
       "    </tr>\n",
       "    <tr>\n",
       "      <th>2023-08-21</th>\n",
       "      <td>162.490005</td>\n",
       "      <td>164.020004</td>\n",
       "      <td>162.110001</td>\n",
       "      <td>163.070007</td>\n",
       "      <td>163.070007</td>\n",
       "      <td>900163.0</td>\n",
       "      <td>164.524287</td>\n",
       "      <td>171.751001</td>\n",
       "      <td>-1</td>\n",
       "      <td>0.003440</td>\n",
       "    </tr>\n",
       "    <tr>\n",
       "      <th>2023-08-22</th>\n",
       "      <td>163.639999</td>\n",
       "      <td>166.460007</td>\n",
       "      <td>163.100006</td>\n",
       "      <td>163.570007</td>\n",
       "      <td>163.570007</td>\n",
       "      <td>5803745.0</td>\n",
       "      <td>164.033335</td>\n",
       "      <td>171.462401</td>\n",
       "      <td>-1</td>\n",
       "      <td>0.003061</td>\n",
       "    </tr>\n",
       "    <tr>\n",
       "      <th>2023-08-23</th>\n",
       "      <td>166.979996</td>\n",
       "      <td>166.979996</td>\n",
       "      <td>163.759995</td>\n",
       "      <td>164.940002</td>\n",
       "      <td>164.940002</td>\n",
       "      <td>3573553.0</td>\n",
       "      <td>163.695716</td>\n",
       "      <td>171.196401</td>\n",
       "      <td>-1</td>\n",
       "      <td>0.008341</td>\n",
       "    </tr>\n",
       "    <tr>\n",
       "      <th>2023-08-24</th>\n",
       "      <td>165.550003</td>\n",
       "      <td>165.979996</td>\n",
       "      <td>161.630005</td>\n",
       "      <td>162.360001</td>\n",
       "      <td>162.360001</td>\n",
       "      <td>1054633.0</td>\n",
       "      <td>163.157620</td>\n",
       "      <td>170.852601</td>\n",
       "      <td>-1</td>\n",
       "      <td>-0.015766</td>\n",
       "    </tr>\n",
       "    <tr>\n",
       "      <th>2023-08-25</th>\n",
       "      <td>162.119995</td>\n",
       "      <td>165.970001</td>\n",
       "      <td>162.119995</td>\n",
       "      <td>165.279999</td>\n",
       "      <td>165.279999</td>\n",
       "      <td>1528104.0</td>\n",
       "      <td>162.818573</td>\n",
       "      <td>170.578401</td>\n",
       "      <td>-1</td>\n",
       "      <td>0.017825</td>\n",
       "    </tr>\n",
       "    <tr>\n",
       "      <th>2023-08-28</th>\n",
       "      <td>165.389999</td>\n",
       "      <td>166.889999</td>\n",
       "      <td>163.509995</td>\n",
       "      <td>163.509995</td>\n",
       "      <td>163.509995</td>\n",
       "      <td>1649496.0</td>\n",
       "      <td>162.377620</td>\n",
       "      <td>170.265601</td>\n",
       "      <td>-1</td>\n",
       "      <td>-0.010767</td>\n",
       "    </tr>\n",
       "    <tr>\n",
       "      <th>2023-08-29</th>\n",
       "      <td>163.820007</td>\n",
       "      <td>165.479996</td>\n",
       "      <td>162.039993</td>\n",
       "      <td>164.440002</td>\n",
       "      <td>164.440002</td>\n",
       "      <td>1305166.0</td>\n",
       "      <td>162.207621</td>\n",
       "      <td>169.976401</td>\n",
       "      <td>-1</td>\n",
       "      <td>0.005672</td>\n",
       "    </tr>\n",
       "    <tr>\n",
       "      <th>2023-08-30</th>\n",
       "      <td>163.860001</td>\n",
       "      <td>165.979996</td>\n",
       "      <td>162.470001</td>\n",
       "      <td>165.809998</td>\n",
       "      <td>165.809998</td>\n",
       "      <td>1155435.0</td>\n",
       "      <td>162.305240</td>\n",
       "      <td>169.712801</td>\n",
       "      <td>-1</td>\n",
       "      <td>0.008297</td>\n",
       "    </tr>\n",
       "    <tr>\n",
       "      <th>2023-08-31</th>\n",
       "      <td>165.009995</td>\n",
       "      <td>166.649994</td>\n",
       "      <td>163.830002</td>\n",
       "      <td>166.500000</td>\n",
       "      <td>166.500000</td>\n",
       "      <td>5644625.0</td>\n",
       "      <td>162.476669</td>\n",
       "      <td>169.512601</td>\n",
       "      <td>-1</td>\n",
       "      <td>0.004153</td>\n",
       "    </tr>\n",
       "    <tr>\n",
       "      <th>2023-09-01</th>\n",
       "      <td>166.220001</td>\n",
       "      <td>167.839996</td>\n",
       "      <td>164.009995</td>\n",
       "      <td>164.570007</td>\n",
       "      <td>164.570007</td>\n",
       "      <td>1695519.0</td>\n",
       "      <td>162.517621</td>\n",
       "      <td>169.244001</td>\n",
       "      <td>-1</td>\n",
       "      <td>-0.011659</td>\n",
       "    </tr>\n",
       "    <tr>\n",
       "      <th>2023-09-04</th>\n",
       "      <td>164.059998</td>\n",
       "      <td>165.259995</td>\n",
       "      <td>162.899994</td>\n",
       "      <td>162.970001</td>\n",
       "      <td>162.970001</td>\n",
       "      <td>61856.0</td>\n",
       "      <td>162.469049</td>\n",
       "      <td>168.948601</td>\n",
       "      <td>-1</td>\n",
       "      <td>-0.009770</td>\n",
       "    </tr>\n",
       "    <tr>\n",
       "      <th>2023-09-05</th>\n",
       "      <td>164.000000</td>\n",
       "      <td>164.699997</td>\n",
       "      <td>160.550003</td>\n",
       "      <td>161.979996</td>\n",
       "      <td>161.979996</td>\n",
       "      <td>1501757.0</td>\n",
       "      <td>162.398573</td>\n",
       "      <td>168.640601</td>\n",
       "      <td>-1</td>\n",
       "      <td>-0.006093</td>\n",
       "    </tr>\n",
       "    <tr>\n",
       "      <th>2023-09-06</th>\n",
       "      <td>162.210007</td>\n",
       "      <td>163.470001</td>\n",
       "      <td>160.899994</td>\n",
       "      <td>162.199997</td>\n",
       "      <td>162.199997</td>\n",
       "      <td>1040299.0</td>\n",
       "      <td>162.385715</td>\n",
       "      <td>168.366601</td>\n",
       "      <td>-1</td>\n",
       "      <td>0.001357</td>\n",
       "    </tr>\n",
       "    <tr>\n",
       "      <th>2023-09-07</th>\n",
       "      <td>162.630005</td>\n",
       "      <td>162.820007</td>\n",
       "      <td>160.570007</td>\n",
       "      <td>161.500000</td>\n",
       "      <td>161.500000</td>\n",
       "      <td>652587.0</td>\n",
       "      <td>162.331430</td>\n",
       "      <td>168.076601</td>\n",
       "      <td>-1</td>\n",
       "      <td>-0.004325</td>\n",
       "    </tr>\n",
       "    <tr>\n",
       "      <th>2023-09-08</th>\n",
       "      <td>160.929993</td>\n",
       "      <td>161.869995</td>\n",
       "      <td>159.350006</td>\n",
       "      <td>160.479996</td>\n",
       "      <td>160.479996</td>\n",
       "      <td>962766.0</td>\n",
       "      <td>162.350953</td>\n",
       "      <td>167.772601</td>\n",
       "      <td>-1</td>\n",
       "      <td>-0.006336</td>\n",
       "    </tr>\n",
       "    <tr>\n",
       "      <th>2023-09-11</th>\n",
       "      <td>161.000000</td>\n",
       "      <td>163.100006</td>\n",
       "      <td>158.800003</td>\n",
       "      <td>159.130005</td>\n",
       "      <td>159.130005</td>\n",
       "      <td>979522.0</td>\n",
       "      <td>162.514287</td>\n",
       "      <td>167.404601</td>\n",
       "      <td>-1</td>\n",
       "      <td>-0.008448</td>\n",
       "    </tr>\n",
       "    <tr>\n",
       "      <th>2023-09-12</th>\n",
       "      <td>159.449997</td>\n",
       "      <td>159.449997</td>\n",
       "      <td>156.789993</td>\n",
       "      <td>158.320007</td>\n",
       "      <td>158.320007</td>\n",
       "      <td>1147246.0</td>\n",
       "      <td>162.740477</td>\n",
       "      <td>166.996601</td>\n",
       "      <td>-1</td>\n",
       "      <td>-0.005103</td>\n",
       "    </tr>\n",
       "    <tr>\n",
       "      <th>2023-09-13</th>\n",
       "      <td>157.690002</td>\n",
       "      <td>158.100006</td>\n",
       "      <td>156.429993</td>\n",
       "      <td>157.139999</td>\n",
       "      <td>157.139999</td>\n",
       "      <td>1184666.0</td>\n",
       "      <td>162.678096</td>\n",
       "      <td>166.579401</td>\n",
       "      <td>-1</td>\n",
       "      <td>-0.007481</td>\n",
       "    </tr>\n",
       "    <tr>\n",
       "      <th>2023-09-14</th>\n",
       "      <td>157.500000</td>\n",
       "      <td>159.800003</td>\n",
       "      <td>157.080002</td>\n",
       "      <td>158.770004</td>\n",
       "      <td>158.770004</td>\n",
       "      <td>774449.0</td>\n",
       "      <td>162.507144</td>\n",
       "      <td>166.250001</td>\n",
       "      <td>-1</td>\n",
       "      <td>0.010320</td>\n",
       "    </tr>\n",
       "    <tr>\n",
       "      <th>2023-09-15</th>\n",
       "      <td>159.660004</td>\n",
       "      <td>159.800003</td>\n",
       "      <td>156.820007</td>\n",
       "      <td>159.179993</td>\n",
       "      <td>159.179993</td>\n",
       "      <td>3670354.0</td>\n",
       "      <td>162.296667</td>\n",
       "      <td>165.920201</td>\n",
       "      <td>-1</td>\n",
       "      <td>0.002579</td>\n",
       "    </tr>\n",
       "    <tr>\n",
       "      <th>2023-09-18</th>\n",
       "      <td>159.080002</td>\n",
       "      <td>159.639999</td>\n",
       "      <td>156.919998</td>\n",
       "      <td>158.740005</td>\n",
       "      <td>158.740005</td>\n",
       "      <td>1318394.0</td>\n",
       "      <td>162.117144</td>\n",
       "      <td>165.567601</td>\n",
       "      <td>-1</td>\n",
       "      <td>-0.002768</td>\n",
       "    </tr>\n",
       "    <tr>\n",
       "      <th>2023-09-19</th>\n",
       "      <td>158.080002</td>\n",
       "      <td>160.910004</td>\n",
       "      <td>157.800003</td>\n",
       "      <td>160.050003</td>\n",
       "      <td>160.050003</td>\n",
       "      <td>854176.0</td>\n",
       "      <td>161.973334</td>\n",
       "      <td>165.243801</td>\n",
       "      <td>-1</td>\n",
       "      <td>0.008219</td>\n",
       "    </tr>\n",
       "    <tr>\n",
       "      <th>2023-09-20</th>\n",
       "      <td>161.119995</td>\n",
       "      <td>161.960007</td>\n",
       "      <td>160.259995</td>\n",
       "      <td>161.600006</td>\n",
       "      <td>161.600006</td>\n",
       "      <td>1569053.0</td>\n",
       "      <td>161.879525</td>\n",
       "      <td>164.936801</td>\n",
       "      <td>-1</td>\n",
       "      <td>0.009638</td>\n",
       "    </tr>\n",
       "    <tr>\n",
       "      <th>2023-09-21</th>\n",
       "      <td>160.250000</td>\n",
       "      <td>161.639999</td>\n",
       "      <td>159.949997</td>\n",
       "      <td>161.149994</td>\n",
       "      <td>161.149994</td>\n",
       "      <td>715396.0</td>\n",
       "      <td>161.699048</td>\n",
       "      <td>164.625201</td>\n",
       "      <td>-1</td>\n",
       "      <td>-0.002789</td>\n",
       "    </tr>\n",
       "    <tr>\n",
       "      <th>2023-09-22</th>\n",
       "      <td>161.220001</td>\n",
       "      <td>162.580002</td>\n",
       "      <td>160.490005</td>\n",
       "      <td>161.449997</td>\n",
       "      <td>161.449997</td>\n",
       "      <td>1005049.0</td>\n",
       "      <td>161.655714</td>\n",
       "      <td>164.316601</td>\n",
       "      <td>-1</td>\n",
       "      <td>0.001860</td>\n",
       "    </tr>\n",
       "    <tr>\n",
       "      <th>2023-09-25</th>\n",
       "      <td>161.289993</td>\n",
       "      <td>162.149994</td>\n",
       "      <td>159.539993</td>\n",
       "      <td>160.419998</td>\n",
       "      <td>160.419998</td>\n",
       "      <td>1501900.0</td>\n",
       "      <td>161.424286</td>\n",
       "      <td>164.049801</td>\n",
       "      <td>-1</td>\n",
       "      <td>-0.006400</td>\n",
       "    </tr>\n",
       "    <tr>\n",
       "      <th>2023-09-26</th>\n",
       "      <td>160.000000</td>\n",
       "      <td>161.070007</td>\n",
       "      <td>159.160004</td>\n",
       "      <td>159.990005</td>\n",
       "      <td>159.990005</td>\n",
       "      <td>1280048.0</td>\n",
       "      <td>161.256667</td>\n",
       "      <td>163.736401</td>\n",
       "      <td>-1</td>\n",
       "      <td>-0.002684</td>\n",
       "    </tr>\n",
       "    <tr>\n",
       "      <th>2023-09-27</th>\n",
       "      <td>160.039993</td>\n",
       "      <td>160.039993</td>\n",
       "      <td>156.449997</td>\n",
       "      <td>157.289993</td>\n",
       "      <td>157.289993</td>\n",
       "      <td>2038164.0</td>\n",
       "      <td>160.916191</td>\n",
       "      <td>163.398001</td>\n",
       "      <td>-1</td>\n",
       "      <td>-0.017020</td>\n",
       "    </tr>\n",
       "    <tr>\n",
       "      <th>2023-09-28</th>\n",
       "      <td>156.830002</td>\n",
       "      <td>158.529999</td>\n",
       "      <td>156.000000</td>\n",
       "      <td>158.050003</td>\n",
       "      <td>158.050003</td>\n",
       "      <td>1340062.0</td>\n",
       "      <td>160.546667</td>\n",
       "      <td>163.068001</td>\n",
       "      <td>-1</td>\n",
       "      <td>0.004820</td>\n",
       "    </tr>\n",
       "    <tr>\n",
       "      <th>2023-09-29</th>\n",
       "      <td>157.699997</td>\n",
       "      <td>159.330002</td>\n",
       "      <td>156.639999</td>\n",
       "      <td>158.770004</td>\n",
       "      <td>158.770004</td>\n",
       "      <td>1059328.0</td>\n",
       "      <td>160.178572</td>\n",
       "      <td>162.703401</td>\n",
       "      <td>-1</td>\n",
       "      <td>0.004545</td>\n",
       "    </tr>\n",
       "    <tr>\n",
       "      <th>2023-10-02</th>\n",
       "      <td>158.500000</td>\n",
       "      <td>160.490005</td>\n",
       "      <td>156.710007</td>\n",
       "      <td>160.149994</td>\n",
       "      <td>160.149994</td>\n",
       "      <td>925485.0</td>\n",
       "      <td>159.968095</td>\n",
       "      <td>162.428801</td>\n",
       "      <td>-1</td>\n",
       "      <td>0.008654</td>\n",
       "    </tr>\n",
       "    <tr>\n",
       "      <th>2023-10-03</th>\n",
       "      <td>159.740005</td>\n",
       "      <td>162.309998</td>\n",
       "      <td>156.520004</td>\n",
       "      <td>157.949997</td>\n",
       "      <td>157.949997</td>\n",
       "      <td>1718777.0</td>\n",
       "      <td>159.729047</td>\n",
       "      <td>162.147201</td>\n",
       "      <td>-1</td>\n",
       "      <td>-0.013832</td>\n",
       "    </tr>\n",
       "    <tr>\n",
       "      <th>2023-10-04</th>\n",
       "      <td>157.000000</td>\n",
       "      <td>159.270004</td>\n",
       "      <td>157.000000</td>\n",
       "      <td>158.100006</td>\n",
       "      <td>158.100006</td>\n",
       "      <td>671521.0</td>\n",
       "      <td>159.544286</td>\n",
       "      <td>161.836001</td>\n",
       "      <td>-1</td>\n",
       "      <td>0.000949</td>\n",
       "    </tr>\n",
       "    <tr>\n",
       "      <th>2023-10-05</th>\n",
       "      <td>156.399994</td>\n",
       "      <td>160.149994</td>\n",
       "      <td>156.339996</td>\n",
       "      <td>157.710007</td>\n",
       "      <td>157.710007</td>\n",
       "      <td>881034.0</td>\n",
       "      <td>159.330477</td>\n",
       "      <td>161.542201</td>\n",
       "      <td>-1</td>\n",
       "      <td>-0.002470</td>\n",
       "    </tr>\n",
       "    <tr>\n",
       "      <th>2023-10-06</th>\n",
       "      <td>156.690002</td>\n",
       "      <td>158.089996</td>\n",
       "      <td>155.399994</td>\n",
       "      <td>157.729996</td>\n",
       "      <td>157.729996</td>\n",
       "      <td>1295772.0</td>\n",
       "      <td>159.150953</td>\n",
       "      <td>161.241401</td>\n",
       "      <td>-1</td>\n",
       "      <td>0.000127</td>\n",
       "    </tr>\n",
       "    <tr>\n",
       "      <th>2023-10-09</th>\n",
       "      <td>157.639999</td>\n",
       "      <td>157.639999</td>\n",
       "      <td>154.119995</td>\n",
       "      <td>154.929993</td>\n",
       "      <td>154.929993</td>\n",
       "      <td>1143226.0</td>\n",
       "      <td>158.886667</td>\n",
       "      <td>160.979801</td>\n",
       "      <td>-1</td>\n",
       "      <td>-0.017911</td>\n",
       "    </tr>\n",
       "    <tr>\n",
       "      <th>2023-10-10</th>\n",
       "      <td>154.649994</td>\n",
       "      <td>157.070007</td>\n",
       "      <td>154.520004</td>\n",
       "      <td>156.490005</td>\n",
       "      <td>156.490005</td>\n",
       "      <td>1545018.0</td>\n",
       "      <td>158.760953</td>\n",
       "      <td>160.834401</td>\n",
       "      <td>-1</td>\n",
       "      <td>0.010019</td>\n",
       "    </tr>\n",
       "    <tr>\n",
       "      <th>2023-10-11</th>\n",
       "      <td>155.009995</td>\n",
       "      <td>155.910004</td>\n",
       "      <td>153.380005</td>\n",
       "      <td>154.339996</td>\n",
       "      <td>154.339996</td>\n",
       "      <td>2083733.0</td>\n",
       "      <td>158.571428</td>\n",
       "      <td>160.663201</td>\n",
       "      <td>-1</td>\n",
       "      <td>-0.013834</td>\n",
       "    </tr>\n",
       "    <tr>\n",
       "      <th>2023-10-12</th>\n",
       "      <td>154.259995</td>\n",
       "      <td>154.330002</td>\n",
       "      <td>151.350006</td>\n",
       "      <td>152.009995</td>\n",
       "      <td>152.009995</td>\n",
       "      <td>1535826.0</td>\n",
       "      <td>158.327143</td>\n",
       "      <td>160.429201</td>\n",
       "      <td>-1</td>\n",
       "      <td>-0.015212</td>\n",
       "    </tr>\n",
       "    <tr>\n",
       "      <th>2023-10-13</th>\n",
       "      <td>153.330002</td>\n",
       "      <td>153.330002</td>\n",
       "      <td>150.309998</td>\n",
       "      <td>150.350006</td>\n",
       "      <td>150.350006</td>\n",
       "      <td>1291532.0</td>\n",
       "      <td>157.926190</td>\n",
       "      <td>160.156401</td>\n",
       "      <td>-1</td>\n",
       "      <td>-0.010980</td>\n",
       "    </tr>\n",
       "    <tr>\n",
       "      <th>2023-10-16</th>\n",
       "      <td>150.089996</td>\n",
       "      <td>152.089996</td>\n",
       "      <td>150.029999</td>\n",
       "      <td>151.490005</td>\n",
       "      <td>151.490005</td>\n",
       "      <td>1124398.0</td>\n",
       "      <td>157.560000</td>\n",
       "      <td>159.917001</td>\n",
       "      <td>-1</td>\n",
       "      <td>0.007554</td>\n",
       "    </tr>\n",
       "  </tbody>\n",
       "</table>\n",
       "</div>"
      ],
      "text/plain": [
       "                  Open        High         Low       Close   Adj Close  \\\n",
       "Date                                                                     \n",
       "2023-08-08  164.020004  164.020004  161.600006  162.470001  162.470001   \n",
       "2023-08-09  162.949997  164.000000  160.630005  162.639999  162.639999   \n",
       "2023-08-10  162.800003  163.899994  159.710007  160.070007  160.070007   \n",
       "2023-08-11  160.220001  161.179993  155.320007  155.699997  155.699997   \n",
       "2023-08-14  155.600006  156.479996  152.880005  153.570007  153.570007   \n",
       "2023-08-15  153.919998  160.279999  153.919998  158.449997  158.449997   \n",
       "2023-08-16  158.399994  163.360001  157.779999  162.360001  162.360001   \n",
       "2023-08-17  162.800003  166.020004  162.440002  163.600006  163.600006   \n",
       "2023-08-18  163.190002  163.190002  161.210007  162.509995  162.509995   \n",
       "2023-08-21  162.490005  164.020004  162.110001  163.070007  163.070007   \n",
       "2023-08-22  163.639999  166.460007  163.100006  163.570007  163.570007   \n",
       "2023-08-23  166.979996  166.979996  163.759995  164.940002  164.940002   \n",
       "2023-08-24  165.550003  165.979996  161.630005  162.360001  162.360001   \n",
       "2023-08-25  162.119995  165.970001  162.119995  165.279999  165.279999   \n",
       "2023-08-28  165.389999  166.889999  163.509995  163.509995  163.509995   \n",
       "2023-08-29  163.820007  165.479996  162.039993  164.440002  164.440002   \n",
       "2023-08-30  163.860001  165.979996  162.470001  165.809998  165.809998   \n",
       "2023-08-31  165.009995  166.649994  163.830002  166.500000  166.500000   \n",
       "2023-09-01  166.220001  167.839996  164.009995  164.570007  164.570007   \n",
       "2023-09-04  164.059998  165.259995  162.899994  162.970001  162.970001   \n",
       "2023-09-05  164.000000  164.699997  160.550003  161.979996  161.979996   \n",
       "2023-09-06  162.210007  163.470001  160.899994  162.199997  162.199997   \n",
       "2023-09-07  162.630005  162.820007  160.570007  161.500000  161.500000   \n",
       "2023-09-08  160.929993  161.869995  159.350006  160.479996  160.479996   \n",
       "2023-09-11  161.000000  163.100006  158.800003  159.130005  159.130005   \n",
       "2023-09-12  159.449997  159.449997  156.789993  158.320007  158.320007   \n",
       "2023-09-13  157.690002  158.100006  156.429993  157.139999  157.139999   \n",
       "2023-09-14  157.500000  159.800003  157.080002  158.770004  158.770004   \n",
       "2023-09-15  159.660004  159.800003  156.820007  159.179993  159.179993   \n",
       "2023-09-18  159.080002  159.639999  156.919998  158.740005  158.740005   \n",
       "2023-09-19  158.080002  160.910004  157.800003  160.050003  160.050003   \n",
       "2023-09-20  161.119995  161.960007  160.259995  161.600006  161.600006   \n",
       "2023-09-21  160.250000  161.639999  159.949997  161.149994  161.149994   \n",
       "2023-09-22  161.220001  162.580002  160.490005  161.449997  161.449997   \n",
       "2023-09-25  161.289993  162.149994  159.539993  160.419998  160.419998   \n",
       "2023-09-26  160.000000  161.070007  159.160004  159.990005  159.990005   \n",
       "2023-09-27  160.039993  160.039993  156.449997  157.289993  157.289993   \n",
       "2023-09-28  156.830002  158.529999  156.000000  158.050003  158.050003   \n",
       "2023-09-29  157.699997  159.330002  156.639999  158.770004  158.770004   \n",
       "2023-10-02  158.500000  160.490005  156.710007  160.149994  160.149994   \n",
       "2023-10-03  159.740005  162.309998  156.520004  157.949997  157.949997   \n",
       "2023-10-04  157.000000  159.270004  157.000000  158.100006  158.100006   \n",
       "2023-10-05  156.399994  160.149994  156.339996  157.710007  157.710007   \n",
       "2023-10-06  156.690002  158.089996  155.399994  157.729996  157.729996   \n",
       "2023-10-09  157.639999  157.639999  154.119995  154.929993  154.929993   \n",
       "2023-10-10  154.649994  157.070007  154.520004  156.490005  156.490005   \n",
       "2023-10-11  155.009995  155.910004  153.380005  154.339996  154.339996   \n",
       "2023-10-12  154.259995  154.330002  151.350006  152.009995  152.009995   \n",
       "2023-10-13  153.330002  153.330002  150.309998  150.350006  150.350006   \n",
       "2023-10-16  150.089996  152.089996  150.029999  151.490005  151.490005   \n",
       "\n",
       "               Volume         pm1         pm2  posicion       ret  \n",
       "Date                                                               \n",
       "2023-08-08  1146753.0  171.191430  174.890600        -1 -0.006075  \n",
       "2023-08-09  2028729.0  170.543810  174.567400        -1  0.001046  \n",
       "2023-08-10  1852582.0  169.740001  174.325000        -1 -0.015928  \n",
       "2023-08-11  2713711.0  168.738573  173.960000        -1 -0.027680  \n",
       "2023-08-14  2364770.0  167.628573  173.486600        -1 -0.013775  \n",
       "2023-08-15  1379842.0  166.899525  173.073400        -1  0.031283  \n",
       "2023-08-16  2044058.0  166.266192  172.698800        -1  0.024377  \n",
       "2023-08-17  1683505.0  165.760954  172.372801        -1  0.007608  \n",
       "2023-08-18   929652.0  165.187620  172.043001        -1 -0.006685  \n",
       "2023-08-21   900163.0  164.524287  171.751001        -1  0.003440  \n",
       "2023-08-22  5803745.0  164.033335  171.462401        -1  0.003061  \n",
       "2023-08-23  3573553.0  163.695716  171.196401        -1  0.008341  \n",
       "2023-08-24  1054633.0  163.157620  170.852601        -1 -0.015766  \n",
       "2023-08-25  1528104.0  162.818573  170.578401        -1  0.017825  \n",
       "2023-08-28  1649496.0  162.377620  170.265601        -1 -0.010767  \n",
       "2023-08-29  1305166.0  162.207621  169.976401        -1  0.005672  \n",
       "2023-08-30  1155435.0  162.305240  169.712801        -1  0.008297  \n",
       "2023-08-31  5644625.0  162.476669  169.512601        -1  0.004153  \n",
       "2023-09-01  1695519.0  162.517621  169.244001        -1 -0.011659  \n",
       "2023-09-04    61856.0  162.469049  168.948601        -1 -0.009770  \n",
       "2023-09-05  1501757.0  162.398573  168.640601        -1 -0.006093  \n",
       "2023-09-06  1040299.0  162.385715  168.366601        -1  0.001357  \n",
       "2023-09-07   652587.0  162.331430  168.076601        -1 -0.004325  \n",
       "2023-09-08   962766.0  162.350953  167.772601        -1 -0.006336  \n",
       "2023-09-11   979522.0  162.514287  167.404601        -1 -0.008448  \n",
       "2023-09-12  1147246.0  162.740477  166.996601        -1 -0.005103  \n",
       "2023-09-13  1184666.0  162.678096  166.579401        -1 -0.007481  \n",
       "2023-09-14   774449.0  162.507144  166.250001        -1  0.010320  \n",
       "2023-09-15  3670354.0  162.296667  165.920201        -1  0.002579  \n",
       "2023-09-18  1318394.0  162.117144  165.567601        -1 -0.002768  \n",
       "2023-09-19   854176.0  161.973334  165.243801        -1  0.008219  \n",
       "2023-09-20  1569053.0  161.879525  164.936801        -1  0.009638  \n",
       "2023-09-21   715396.0  161.699048  164.625201        -1 -0.002789  \n",
       "2023-09-22  1005049.0  161.655714  164.316601        -1  0.001860  \n",
       "2023-09-25  1501900.0  161.424286  164.049801        -1 -0.006400  \n",
       "2023-09-26  1280048.0  161.256667  163.736401        -1 -0.002684  \n",
       "2023-09-27  2038164.0  160.916191  163.398001        -1 -0.017020  \n",
       "2023-09-28  1340062.0  160.546667  163.068001        -1  0.004820  \n",
       "2023-09-29  1059328.0  160.178572  162.703401        -1  0.004545  \n",
       "2023-10-02   925485.0  159.968095  162.428801        -1  0.008654  \n",
       "2023-10-03  1718777.0  159.729047  162.147201        -1 -0.013832  \n",
       "2023-10-04   671521.0  159.544286  161.836001        -1  0.000949  \n",
       "2023-10-05   881034.0  159.330477  161.542201        -1 -0.002470  \n",
       "2023-10-06  1295772.0  159.150953  161.241401        -1  0.000127  \n",
       "2023-10-09  1143226.0  158.886667  160.979801        -1 -0.017911  \n",
       "2023-10-10  1545018.0  158.760953  160.834401        -1  0.010019  \n",
       "2023-10-11  2083733.0  158.571428  160.663201        -1 -0.013834  \n",
       "2023-10-12  1535826.0  158.327143  160.429201        -1 -0.015212  \n",
       "2023-10-13  1291532.0  157.926190  160.156401        -1 -0.010980  \n",
       "2023-10-16  1124398.0  157.560000  159.917001        -1  0.007554  "
      ]
     },
     "execution_count": 104,
     "metadata": {},
     "output_type": "execute_result"
    }
   ],
   "source": [
    "df.tail(50)"
   ]
  },
  {
   "cell_type": "code",
   "execution_count": 105,
   "id": "42382422-48ad-4ce9-ac32-458caa3d98f0",
   "metadata": {
    "tags": []
   },
   "outputs": [],
   "source": [
    "df['ret_estr'] = df['ret'] * df['posicion'].shift(1)"
   ]
  },
  {
   "cell_type": "code",
   "execution_count": 106,
   "id": "1ad77eba-edbf-4af1-82f3-329f23313a6a",
   "metadata": {
    "tags": []
   },
   "outputs": [
    {
     "data": {
      "text/html": [
       "<div>\n",
       "<style scoped>\n",
       "    .dataframe tbody tr th:only-of-type {\n",
       "        vertical-align: middle;\n",
       "    }\n",
       "\n",
       "    .dataframe tbody tr th {\n",
       "        vertical-align: top;\n",
       "    }\n",
       "\n",
       "    .dataframe thead th {\n",
       "        text-align: right;\n",
       "    }\n",
       "</style>\n",
       "<table border=\"1\" class=\"dataframe\">\n",
       "  <thead>\n",
       "    <tr style=\"text-align: right;\">\n",
       "      <th></th>\n",
       "      <th>Open</th>\n",
       "      <th>High</th>\n",
       "      <th>Low</th>\n",
       "      <th>Close</th>\n",
       "      <th>Adj Close</th>\n",
       "      <th>Volume</th>\n",
       "      <th>pm1</th>\n",
       "      <th>pm2</th>\n",
       "      <th>posicion</th>\n",
       "      <th>ret</th>\n",
       "      <th>ret_estr</th>\n",
       "    </tr>\n",
       "    <tr>\n",
       "      <th>Date</th>\n",
       "      <th></th>\n",
       "      <th></th>\n",
       "      <th></th>\n",
       "      <th></th>\n",
       "      <th></th>\n",
       "      <th></th>\n",
       "      <th></th>\n",
       "      <th></th>\n",
       "      <th></th>\n",
       "      <th></th>\n",
       "      <th></th>\n",
       "    </tr>\n",
       "  </thead>\n",
       "  <tbody>\n",
       "    <tr>\n",
       "      <th>2018-03-13</th>\n",
       "      <td>131.740005</td>\n",
       "      <td>132.199997</td>\n",
       "      <td>130.580002</td>\n",
       "      <td>131.750000</td>\n",
       "      <td>107.679832</td>\n",
       "      <td>730388.0</td>\n",
       "      <td>107.858083</td>\n",
       "      <td>109.688602</td>\n",
       "      <td>-1</td>\n",
       "      <td>NaN</td>\n",
       "      <td>NaN</td>\n",
       "    </tr>\n",
       "    <tr>\n",
       "      <th>2018-03-14</th>\n",
       "      <td>132.070007</td>\n",
       "      <td>132.449997</td>\n",
       "      <td>129.949997</td>\n",
       "      <td>131.929993</td>\n",
       "      <td>107.826950</td>\n",
       "      <td>796855.0</td>\n",
       "      <td>107.844850</td>\n",
       "      <td>109.586766</td>\n",
       "      <td>-1</td>\n",
       "      <td>0.001365</td>\n",
       "      <td>-0.001365</td>\n",
       "    </tr>\n",
       "    <tr>\n",
       "      <th>2018-03-15</th>\n",
       "      <td>132.500000</td>\n",
       "      <td>132.500000</td>\n",
       "      <td>130.589996</td>\n",
       "      <td>131.029999</td>\n",
       "      <td>107.091362</td>\n",
       "      <td>589787.0</td>\n",
       "      <td>107.773627</td>\n",
       "      <td>109.526775</td>\n",
       "      <td>-1</td>\n",
       "      <td>-0.006845</td>\n",
       "      <td>0.006845</td>\n",
       "    </tr>\n",
       "    <tr>\n",
       "      <th>2018-03-16</th>\n",
       "      <td>131.020004</td>\n",
       "      <td>131.850006</td>\n",
       "      <td>130.309998</td>\n",
       "      <td>130.699997</td>\n",
       "      <td>106.821655</td>\n",
       "      <td>2319975.0</td>\n",
       "      <td>107.694621</td>\n",
       "      <td>109.475122</td>\n",
       "      <td>-1</td>\n",
       "      <td>-0.002522</td>\n",
       "      <td>0.002522</td>\n",
       "    </tr>\n",
       "    <tr>\n",
       "      <th>2018-03-20</th>\n",
       "      <td>129.800003</td>\n",
       "      <td>130.449997</td>\n",
       "      <td>128.160004</td>\n",
       "      <td>129.660004</td>\n",
       "      <td>105.971680</td>\n",
       "      <td>1945494.0</td>\n",
       "      <td>107.565799</td>\n",
       "      <td>109.391103</td>\n",
       "      <td>-1</td>\n",
       "      <td>-0.007989</td>\n",
       "      <td>0.007989</td>\n",
       "    </tr>\n",
       "    <tr>\n",
       "      <th>...</th>\n",
       "      <td>...</td>\n",
       "      <td>...</td>\n",
       "      <td>...</td>\n",
       "      <td>...</td>\n",
       "      <td>...</td>\n",
       "      <td>...</td>\n",
       "      <td>...</td>\n",
       "      <td>...</td>\n",
       "      <td>...</td>\n",
       "      <td>...</td>\n",
       "      <td>...</td>\n",
       "    </tr>\n",
       "    <tr>\n",
       "      <th>2023-10-10</th>\n",
       "      <td>154.649994</td>\n",
       "      <td>157.070007</td>\n",
       "      <td>154.520004</td>\n",
       "      <td>156.490005</td>\n",
       "      <td>156.490005</td>\n",
       "      <td>1545018.0</td>\n",
       "      <td>158.760953</td>\n",
       "      <td>160.834401</td>\n",
       "      <td>-1</td>\n",
       "      <td>0.010019</td>\n",
       "      <td>-0.010019</td>\n",
       "    </tr>\n",
       "    <tr>\n",
       "      <th>2023-10-11</th>\n",
       "      <td>155.009995</td>\n",
       "      <td>155.910004</td>\n",
       "      <td>153.380005</td>\n",
       "      <td>154.339996</td>\n",
       "      <td>154.339996</td>\n",
       "      <td>2083733.0</td>\n",
       "      <td>158.571428</td>\n",
       "      <td>160.663201</td>\n",
       "      <td>-1</td>\n",
       "      <td>-0.013834</td>\n",
       "      <td>0.013834</td>\n",
       "    </tr>\n",
       "    <tr>\n",
       "      <th>2023-10-12</th>\n",
       "      <td>154.259995</td>\n",
       "      <td>154.330002</td>\n",
       "      <td>151.350006</td>\n",
       "      <td>152.009995</td>\n",
       "      <td>152.009995</td>\n",
       "      <td>1535826.0</td>\n",
       "      <td>158.327143</td>\n",
       "      <td>160.429201</td>\n",
       "      <td>-1</td>\n",
       "      <td>-0.015212</td>\n",
       "      <td>0.015212</td>\n",
       "    </tr>\n",
       "    <tr>\n",
       "      <th>2023-10-13</th>\n",
       "      <td>153.330002</td>\n",
       "      <td>153.330002</td>\n",
       "      <td>150.309998</td>\n",
       "      <td>150.350006</td>\n",
       "      <td>150.350006</td>\n",
       "      <td>1291532.0</td>\n",
       "      <td>157.926190</td>\n",
       "      <td>160.156401</td>\n",
       "      <td>-1</td>\n",
       "      <td>-0.010980</td>\n",
       "      <td>0.010980</td>\n",
       "    </tr>\n",
       "    <tr>\n",
       "      <th>2023-10-16</th>\n",
       "      <td>150.089996</td>\n",
       "      <td>152.089996</td>\n",
       "      <td>150.029999</td>\n",
       "      <td>151.490005</td>\n",
       "      <td>151.490005</td>\n",
       "      <td>1124398.0</td>\n",
       "      <td>157.560000</td>\n",
       "      <td>159.917001</td>\n",
       "      <td>-1</td>\n",
       "      <td>0.007554</td>\n",
       "      <td>-0.007554</td>\n",
       "    </tr>\n",
       "  </tbody>\n",
       "</table>\n",
       "<p>1410 rows × 11 columns</p>\n",
       "</div>"
      ],
      "text/plain": [
       "                  Open        High         Low       Close   Adj Close  \\\n",
       "Date                                                                     \n",
       "2018-03-13  131.740005  132.199997  130.580002  131.750000  107.679832   \n",
       "2018-03-14  132.070007  132.449997  129.949997  131.929993  107.826950   \n",
       "2018-03-15  132.500000  132.500000  130.589996  131.029999  107.091362   \n",
       "2018-03-16  131.020004  131.850006  130.309998  130.699997  106.821655   \n",
       "2018-03-20  129.800003  130.449997  128.160004  129.660004  105.971680   \n",
       "...                ...         ...         ...         ...         ...   \n",
       "2023-10-10  154.649994  157.070007  154.520004  156.490005  156.490005   \n",
       "2023-10-11  155.009995  155.910004  153.380005  154.339996  154.339996   \n",
       "2023-10-12  154.259995  154.330002  151.350006  152.009995  152.009995   \n",
       "2023-10-13  153.330002  153.330002  150.309998  150.350006  150.350006   \n",
       "2023-10-16  150.089996  152.089996  150.029999  151.490005  151.490005   \n",
       "\n",
       "               Volume         pm1         pm2  posicion       ret  ret_estr  \n",
       "Date                                                                         \n",
       "2018-03-13   730388.0  107.858083  109.688602        -1       NaN       NaN  \n",
       "2018-03-14   796855.0  107.844850  109.586766        -1  0.001365 -0.001365  \n",
       "2018-03-15   589787.0  107.773627  109.526775        -1 -0.006845  0.006845  \n",
       "2018-03-16  2319975.0  107.694621  109.475122        -1 -0.002522  0.002522  \n",
       "2018-03-20  1945494.0  107.565799  109.391103        -1 -0.007989  0.007989  \n",
       "...               ...         ...         ...       ...       ...       ...  \n",
       "2023-10-10  1545018.0  158.760953  160.834401        -1  0.010019 -0.010019  \n",
       "2023-10-11  2083733.0  158.571428  160.663201        -1 -0.013834  0.013834  \n",
       "2023-10-12  1535826.0  158.327143  160.429201        -1 -0.015212  0.015212  \n",
       "2023-10-13  1291532.0  157.926190  160.156401        -1 -0.010980  0.010980  \n",
       "2023-10-16  1124398.0  157.560000  159.917001        -1  0.007554 -0.007554  \n",
       "\n",
       "[1410 rows x 11 columns]"
      ]
     },
     "execution_count": 106,
     "metadata": {},
     "output_type": "execute_result"
    }
   ],
   "source": [
    "df"
   ]
  },
  {
   "cell_type": "code",
   "execution_count": 107,
   "id": "7b1ebdbd-5f48-404b-af1c-bcd564049152",
   "metadata": {
    "tags": []
   },
   "outputs": [
    {
     "data": {
      "text/plain": [
       "ret         0.341357\n",
       "ret_estr    0.285456\n",
       "dtype: float64"
      ]
     },
     "execution_count": 107,
     "metadata": {},
     "output_type": "execute_result"
    }
   ],
   "source": [
    "df[['ret', 'ret_estr']].sum()"
   ]
  },
  {
   "cell_type": "code",
   "execution_count": 111,
   "id": "4f42f7cb-490e-4ad4-9499-c7fa55bceef9",
   "metadata": {
    "tags": []
   },
   "outputs": [
    {
     "data": {
      "text/html": [
       "<div>\n",
       "<style scoped>\n",
       "    .dataframe tbody tr th:only-of-type {\n",
       "        vertical-align: middle;\n",
       "    }\n",
       "\n",
       "    .dataframe tbody tr th {\n",
       "        vertical-align: top;\n",
       "    }\n",
       "\n",
       "    .dataframe thead th {\n",
       "        text-align: right;\n",
       "    }\n",
       "</style>\n",
       "<table border=\"1\" class=\"dataframe\">\n",
       "  <thead>\n",
       "    <tr style=\"text-align: right;\">\n",
       "      <th></th>\n",
       "      <th>ret</th>\n",
       "      <th>ret_estr</th>\n",
       "    </tr>\n",
       "    <tr>\n",
       "      <th>Date</th>\n",
       "      <th></th>\n",
       "      <th></th>\n",
       "    </tr>\n",
       "  </thead>\n",
       "  <tbody>\n",
       "    <tr>\n",
       "      <th>2018-03-13</th>\n",
       "      <td>NaN</td>\n",
       "      <td>NaN</td>\n",
       "    </tr>\n",
       "    <tr>\n",
       "      <th>2018-03-14</th>\n",
       "      <td>0.001365</td>\n",
       "      <td>-0.001365</td>\n",
       "    </tr>\n",
       "    <tr>\n",
       "      <th>2018-03-15</th>\n",
       "      <td>-0.005480</td>\n",
       "      <td>0.005480</td>\n",
       "    </tr>\n",
       "    <tr>\n",
       "      <th>2018-03-16</th>\n",
       "      <td>-0.008002</td>\n",
       "      <td>0.008002</td>\n",
       "    </tr>\n",
       "    <tr>\n",
       "      <th>2018-03-20</th>\n",
       "      <td>-0.015990</td>\n",
       "      <td>0.015990</td>\n",
       "    </tr>\n",
       "    <tr>\n",
       "      <th>...</th>\n",
       "      <td>...</td>\n",
       "      <td>...</td>\n",
       "    </tr>\n",
       "    <tr>\n",
       "      <th>2023-10-10</th>\n",
       "      <td>0.373830</td>\n",
       "      <td>0.252983</td>\n",
       "    </tr>\n",
       "    <tr>\n",
       "      <th>2023-10-11</th>\n",
       "      <td>0.359996</td>\n",
       "      <td>0.266817</td>\n",
       "    </tr>\n",
       "    <tr>\n",
       "      <th>2023-10-12</th>\n",
       "      <td>0.344784</td>\n",
       "      <td>0.282029</td>\n",
       "    </tr>\n",
       "    <tr>\n",
       "      <th>2023-10-13</th>\n",
       "      <td>0.333804</td>\n",
       "      <td>0.293009</td>\n",
       "    </tr>\n",
       "    <tr>\n",
       "      <th>2023-10-16</th>\n",
       "      <td>0.341357</td>\n",
       "      <td>0.285456</td>\n",
       "    </tr>\n",
       "  </tbody>\n",
       "</table>\n",
       "<p>1410 rows × 2 columns</p>\n",
       "</div>"
      ],
      "text/plain": [
       "                 ret  ret_estr\n",
       "Date                          \n",
       "2018-03-13       NaN       NaN\n",
       "2018-03-14  0.001365 -0.001365\n",
       "2018-03-15 -0.005480  0.005480\n",
       "2018-03-16 -0.008002  0.008002\n",
       "2018-03-20 -0.015990  0.015990\n",
       "...              ...       ...\n",
       "2023-10-10  0.373830  0.252983\n",
       "2023-10-11  0.359996  0.266817\n",
       "2023-10-12  0.344784  0.282029\n",
       "2023-10-13  0.333804  0.293009\n",
       "2023-10-16  0.341357  0.285456\n",
       "\n",
       "[1410 rows x 2 columns]"
      ]
     },
     "execution_count": 111,
     "metadata": {},
     "output_type": "execute_result"
    }
   ],
   "source": [
    "df[['ret', 'ret_estr']].cumsum()"
   ]
  },
  {
   "cell_type": "markdown",
   "id": "154799ac-db20-4836-b3f4-b6696815c098",
   "metadata": {},
   "source": [
    "### Visualizar desempeño"
   ]
  },
  {
   "cell_type": "code",
   "execution_count": 109,
   "id": "3f609cb3-297d-4a38-9d1e-2222d8a9f3d5",
   "metadata": {
    "tags": []
   },
   "outputs": [],
   "source": [
    "import matplotlib.pyplot as plt"
   ]
  },
  {
   "cell_type": "code",
   "execution_count": 112,
   "id": "eb345f1b-490e-4b61-81a3-60bbc682b20b",
   "metadata": {
    "tags": []
   },
   "outputs": [
    {
     "data": {
      "image/png": "[encoded data removed]",
      "text/plain": [
       "<Figure size 1200x600 with 1 Axes>"
      ]
     },
     "metadata": {},
     "output_type": "display_data"
    }
   ],
   "source": [
    "fig, ax = plt.subplots(figsize=(12,6))\n",
    "\n",
    "ax.plot(df.index, np.exp(df['ret'].cumsum()), label='Retorno mercado')\n",
    "ax.plot(df.index, np.exp(df['ret_estr'].cumsum()), label='Retorno estrategia')\n",
    "\n",
    "ax.set_xlabel('Fecha')\n",
    "ax.set_ylabel('Retorno acumulado')\n",
    "ax.set_title(f'{accion.upper().replace(\".MX\", \"\")}: Estrategia de Promedios Móviles {pm1} y {pm2} días Vs. Mercado')\n",
    "ax.legend();"
   ]
  },
  {
   "cell_type": "markdown",
   "id": "8ee00145-c519-4e53-a671-4ec4caad042c",
   "metadata": {},
   "source": [
    "### <font color='navygray'>Balance monetario</font>"
   ]
  },
  {
   "cell_type": "code",
   "execution_count": 113,
   "id": "1b61b029-f793-466d-996f-42024c1e11f8",
   "metadata": {
    "tags": []
   },
   "outputs": [],
   "source": [
    "balance = 1000 * (1+ df['ret_estr']).cumprod()"
   ]
  },
  {
   "cell_type": "code",
   "execution_count": 114,
   "id": "302d5db5-93f5-45ba-b18f-d2a9cc8562b9",
   "metadata": {
    "scrolled": true,
    "tags": []
   },
   "outputs": [
    {
     "data": {
      "image/png": "[encoded data removed]",
      "text/plain": [
       "<Figure size 640x480 with 1 Axes>"
      ]
     },
     "metadata": {},
     "output_type": "display_data"
    }
   ],
   "source": [
    "balance.plot();"
   ]
  },
  {
   "cell_type": "code",
   "execution_count": null,
   "id": "ba863e9b-95fb-4f25-ae66-40c65bd7208b",
   "metadata": {},
   "outputs": [],
   "source": []
  },
  {
   "cell_type": "markdown",
   "id": "4eb4440a-8ac0-4c8f-b8bd-628e227361c4",
   "metadata": {},
   "source": [
    "### Balance: Máximos"
   ]
  },
  {
   "cell_type": "code",
   "execution_count": 115,
   "id": "657a2dc8-5317-4b5e-9bad-59d1bad9d2e9",
   "metadata": {
    "tags": []
   },
   "outputs": [],
   "source": [
    "picos = balance.cummax()"
   ]
  },
  {
   "cell_type": "code",
   "execution_count": 116,
   "id": "76bd8fa1-4833-43a0-ba62-d05795c32d8d",
   "metadata": {
    "tags": []
   },
   "outputs": [
    {
     "data": {
      "text/plain": [
       "Date\n",
       "2018-03-13            NaN\n",
       "2018-03-14     998.634678\n",
       "2018-03-15    1005.470639\n",
       "2018-03-16    1008.006087\n",
       "2018-03-20    1016.058825\n",
       "                 ...     \n",
       "2023-10-10    1245.029105\n",
       "2023-10-11    1245.029105\n",
       "2023-10-12    1245.029105\n",
       "2023-10-13    1245.029105\n",
       "2023-10-16    1245.029105\n",
       "Name: ret_estr, Length: 1410, dtype: float64"
      ]
     },
     "execution_count": 116,
     "metadata": {},
     "output_type": "execute_result"
    }
   ],
   "source": [
    "picos"
   ]
  },
  {
   "cell_type": "code",
   "execution_count": 117,
   "id": "7ddac107-a991-43ed-aabe-cbae06ba6e71",
   "metadata": {
    "tags": []
   },
   "outputs": [
    {
     "data": {
      "image/png": "[encoded data removed]",
      "text/plain": [
       "<Figure size 1200x600 with 1 Axes>"
      ]
     },
     "metadata": {},
     "output_type": "display_data"
    }
   ],
   "source": [
    "fig, ax = plt.subplots(figsize=(12,6))\n",
    "\n",
    "ax.plot(balance.index, balance, label='Balance')\n",
    "ax.plot(picos.index, picos, label='Ganacias máximas')\n",
    "ax.legend()\n",
    "\n",
    "ax.set_xlabel('Fecha')\n",
    "ax.set_ylabel('Balance')\n",
    "ax.set_title(f'{accion.upper().replace(\".MX\", \"\")}: Balance monetario');"
   ]
  },
  {
   "cell_type": "code",
   "execution_count": null,
   "id": "987d3700-9645-4350-92c3-b12012ca1a13",
   "metadata": {},
   "outputs": [],
   "source": []
  },
  {
   "cell_type": "markdown",
   "id": "739b457a-144a-4760-85fc-99d374a33f9f",
   "metadata": {},
   "source": [
    "### Balance: Perdidas"
   ]
  },
  {
   "cell_type": "code",
   "execution_count": 118,
   "id": "ea762815-a526-4539-bbc6-c7d11d78cb88",
   "metadata": {
    "tags": []
   },
   "outputs": [],
   "source": [
    "bajadas = (balance - picos) / picos"
   ]
  },
  {
   "cell_type": "code",
   "execution_count": 119,
   "id": "4a438753-995e-4d31-9292-98397ed4c37e",
   "metadata": {
    "tags": []
   },
   "outputs": [
    {
     "data": {
      "image/png": "[encoded data removed]",
      "text/plain": [
       "<Figure size 800x600 with 1 Axes>"
      ]
     },
     "metadata": {},
     "output_type": "display_data"
    }
   ],
   "source": [
    "bajadas.plot(figsize = (8, 6), title='Perdidas');"
   ]
  },
  {
   "cell_type": "code",
   "execution_count": null,
   "id": "2a3c2b7c-ea2c-4924-a33a-39a415974fff",
   "metadata": {},
   "outputs": [],
   "source": []
  },
  {
   "cell_type": "markdown",
   "id": "af8d8489-47cc-4aa0-8775-d4aca3ded48e",
   "metadata": {},
   "source": [
    "### Encontrar pérdida máxima"
   ]
  },
  {
   "cell_type": "markdown",
   "id": "75fb295a-a332-4eae-ba28-805e706de2e6",
   "metadata": {},
   "source": [
    "Pasos:\n",
    "1. Identificar la mayor pérdida del periodo\n",
    "1. Encontrar la fecha de la mayor pérdida\n",
    "1. Identificar el pico máximo acumulado en la fecha de la mayor perdida\n",
    "1. Identificar el balance en la fecha de la mayor pérdida\n",
    "1. Graficar"
   ]
  },
  {
   "cell_type": "markdown",
   "id": "0c3e0e0e-9b11-4cb0-ab02-bfdcb67139bc",
   "metadata": {},
   "source": [
    "#### Identificar la mayor perdida"
   ]
  },
  {
   "cell_type": "code",
   "execution_count": 120,
   "id": "44b55453-183e-4fc2-9be3-4fc13b25266c",
   "metadata": {
    "tags": []
   },
   "outputs": [
    {
     "data": {
      "text/plain": [
       "-0.39473215418550084"
      ]
     },
     "execution_count": 120,
     "metadata": {},
     "output_type": "execute_result"
    }
   ],
   "source": [
    "mayor_perdida = bajadas.min()\n",
    "mayor_perdida"
   ]
  },
  {
   "cell_type": "code",
   "execution_count": null,
   "id": "590e8ad2-bb10-481f-8d44-76598afa5df1",
   "metadata": {},
   "outputs": [],
   "source": []
  },
  {
   "cell_type": "code",
   "execution_count": null,
   "id": "eb7b6098-f86e-472c-8793-7f91ba179e7e",
   "metadata": {},
   "outputs": [],
   "source": []
  },
  {
   "cell_type": "markdown",
   "id": "f18a95fb-fb44-45c1-a88f-3d9a20427a04",
   "metadata": {},
   "source": [
    "#### Encontrar fecha"
   ]
  },
  {
   "cell_type": "code",
   "execution_count": 121,
   "id": "bd2b0735-3bd8-4fd8-8d02-03f490576d86",
   "metadata": {
    "tags": []
   },
   "outputs": [
    {
     "data": {
      "text/plain": [
       "Timestamp('2021-01-04 00:00:00')"
      ]
     },
     "execution_count": 121,
     "metadata": {},
     "output_type": "execute_result"
    }
   ],
   "source": [
    "fecha_perdida = bajadas.idxmin()\n",
    "fecha_perdida"
   ]
  },
  {
   "cell_type": "code",
   "execution_count": null,
   "id": "0c0932c3-7e0f-4f05-a26d-cf9726bb3fb9",
   "metadata": {},
   "outputs": [],
   "source": []
  },
  {
   "cell_type": "code",
   "execution_count": null,
   "id": "4c0a8ded-9137-4f17-8204-43d7e269b0ce",
   "metadata": {},
   "outputs": [],
   "source": []
  },
  {
   "cell_type": "markdown",
   "id": "2eb4e073-ad97-4828-9f21-11d84b739839",
   "metadata": {},
   "source": [
    "#### Identificar valor del pico máximo en la fecha de la mayor perdida"
   ]
  },
  {
   "cell_type": "code",
   "execution_count": 122,
   "id": "2486b207-6ed7-469e-9207-da07f814da40",
   "metadata": {
    "tags": []
   },
   "outputs": [
    {
     "data": {
      "text/plain": [
       "1245.0291047549267"
      ]
     },
     "execution_count": 122,
     "metadata": {},
     "output_type": "execute_result"
    }
   ],
   "source": [
    "maximo = picos[bajadas.idxmin()]\n",
    "maximo"
   ]
  },
  {
   "cell_type": "code",
   "execution_count": null,
   "id": "30db3606-f57e-460c-b72c-d9e7fb0f2fb2",
   "metadata": {},
   "outputs": [],
   "source": []
  },
  {
   "cell_type": "code",
   "execution_count": null,
   "id": "d5f8aa80-b948-4c88-9435-a6128f559213",
   "metadata": {},
   "outputs": [],
   "source": []
  },
  {
   "cell_type": "markdown",
   "id": "fb63fc1e-9fd4-47e0-9a7f-52959a17eac6",
   "metadata": {},
   "source": [
    "#### Identificar balance en la fecha de la mayor pérdida"
   ]
  },
  {
   "cell_type": "code",
   "execution_count": 123,
   "id": "620cc063-539e-4810-9325-6d1cf4fcf972",
   "metadata": {
    "tags": []
   },
   "outputs": [
    {
     "data": {
      "text/plain": [
       "753.5760842113689"
      ]
     },
     "execution_count": 123,
     "metadata": {},
     "output_type": "execute_result"
    }
   ],
   "source": [
    "balance_perdida = balance[bajadas.idxmin()]\n",
    "balance_perdida"
   ]
  },
  {
   "cell_type": "code",
   "execution_count": 124,
   "id": "d99b29ab-9ead-4c3b-88a1-9cdaaa359285",
   "metadata": {
    "tags": []
   },
   "outputs": [
    {
     "data": {
      "text/plain": [
       "-0.3947321541855009"
      ]
     },
     "execution_count": 124,
     "metadata": {},
     "output_type": "execute_result"
    }
   ],
   "source": [
    "balance_perdida / maximo - 1 "
   ]
  },
  {
   "cell_type": "code",
   "execution_count": 125,
   "id": "5b145c0b-96d5-4eef-afca-6573a80dceef",
   "metadata": {
    "tags": []
   },
   "outputs": [
    {
     "data": {
      "text/plain": [
       "-0.39473215418550084"
      ]
     },
     "execution_count": 125,
     "metadata": {},
     "output_type": "execute_result"
    }
   ],
   "source": [
    "mayor_perdida"
   ]
  },
  {
   "cell_type": "code",
   "execution_count": 131,
   "id": "932f1ed6-24e2-485a-b8dd-c92489f47784",
   "metadata": {
    "tags": []
   },
   "outputs": [
    {
     "data": {
      "text/plain": [
       "''"
      ]
     },
     "execution_count": 131,
     "metadata": {},
     "output_type": "execute_result"
    },
    {
     "data": {
      "image/png": "[encoded data removed]",
      "text/plain": [
       "<Figure size 1200x600 with 1 Axes>"
      ]
     },
     "metadata": {},
     "output_type": "display_data"
    }
   ],
   "source": [
    "fig = plt.figure(figsize = (12, 6))\n",
    "fig.suptitle(f'Caida máxima de {(mayor_perdida * 100).round(2)}% con fecha de {fecha_perdida}')\n",
    "balance.plot(title = f'Péridad: -${(maximo - balance_perdida).round(2)}')\n",
    "picos.plot()\n",
    "\n",
    "plt.vlines(x=fecha_perdida, ymin=balance_perdida, ymax=maximo, color='r')\n",
    "plt.text(fecha_perdida, (maximo - balance_perdida*.3), \n",
    "         f' {(maximo - balance_perdida).round(2)}', c='r')\n",
    ";"
   ]
  },
  {
   "cell_type": "code",
   "execution_count": null,
   "id": "bf5a7637-a6e6-4ad9-94b0-106ddf0a5682",
   "metadata": {},
   "outputs": [],
   "source": []
  },
  {
   "cell_type": "markdown",
   "id": "00f60973-3346-4f98-8584-d9a696c2c524",
   "metadata": {
    "tags": []
   },
   "source": [
    "## <font color='navygray'>Cual es la mejor combinación para los promedios móviles?</font>"
   ]
  },
  {
   "cell_type": "code",
   "execution_count": null,
   "id": "88e32fe9-54a9-45bf-a995-495467cf52b0",
   "metadata": {
    "tags": []
   },
   "outputs": [],
   "source": [
    "import itertools\n",
    "\n",
    "for i, j in itertools.combinations([1,2,3,4], r=2):\n",
    "    print(i, j)"
   ]
  },
  {
   "cell_type": "code",
   "execution_count": null,
   "id": "733f0cf3-c57f-485a-9f66-c2dd1d4d2e2b",
   "metadata": {
    "tags": []
   },
   "outputs": [],
   "source": [
    "lista_fibonacci = [1, 2, 3, 5, 8, 13, 21, 34, 55, 89, 144, 233, 377]"
   ]
  },
  {
   "cell_type": "code",
   "execution_count": null,
   "id": "4c4a06d5-df90-4506-8dbf-1d07b0c3f6ae",
   "metadata": {
    "tags": []
   },
   "outputs": [],
   "source": [
    "df = precios(accion, '2016-01-01')\n",
    "df_retornos = pd.DataFrame(index = df.index)\n",
    "\n",
    "\n",
    "for ventana1, ventana2 in itertools.combinations(lista_fibonacci, r=2):\n",
    "    df_loop = df.copy()\n",
    "    df_loop.drop(['apertura', 'maximo', 'minimo', 'cierre', 'volumen'], \n",
    "                 axis = 1, inplace=True)\n",
    "    df_loop.dropna(inplace=True)\n",
    "\n",
    "    df_loop['ret'] = np.log(df_loop['cierre_ajustado'] / \n",
    "                            df_loop['cierre_ajustado'].shift(1))\n",
    "    df_loop['pm1'] = df_loop['cierre_ajustado'].rolling(ventana1).mean()\n",
    "    df_loop['pm2'] = df_loop['cierre_ajustado'].rolling(ventana2).mean()\n",
    "    \n",
    "    df_loop['posicion'] = np.where(df_loop['pm1'] > df_loop['pm2'], long, short)\n",
    "    # df_loop['RetEstr'] = df_loop['ret'] * df_loop['posicion'].shift(1)\n",
    "    df_loop['RetEstr'] = (df_loop['ret'] * df_loop['posicion'].shift(1)).cumsum()\n",
    "    df_retornos[f'{ventana1}-{ventana2}'] = df_loop['RetEstr']\n",
    "    del df_loop\n",
    "\n",
    "df_retornos.dropna(inplace = True)"
   ]
  },
  {
   "cell_type": "code",
   "execution_count": null,
   "id": "3b9cfb5b-18fc-422b-914a-7eb1471a7c0a",
   "metadata": {
    "tags": []
   },
   "outputs": [],
   "source": [
    "df_retornos.plot(figsize=(12,6), legend=False);"
   ]
  },
  {
   "cell_type": "code",
   "execution_count": null,
   "id": "1b9ad7fd-b26f-42c0-b5fd-daae99d75bd8",
   "metadata": {
    "tags": []
   },
   "outputs": [],
   "source": [
    "max(df_retornos.iloc[-1])"
   ]
  },
  {
   "cell_type": "code",
   "execution_count": null,
   "id": "fab74a41-c558-4cac-b17e-0dc9c9284b8a",
   "metadata": {
    "tags": []
   },
   "outputs": [],
   "source": [
    "df_retornos.idxmax(axis=1).iloc[-1]"
   ]
  },
  {
   "cell_type": "code",
   "execution_count": null,
   "id": "bd5e79f2-f3ad-4b98-a0bb-ca439b3cf302",
   "metadata": {
    "tags": []
   },
   "outputs": [],
   "source": [
    "df_retornos['3-144'].iloc[-1]"
   ]
  },
  {
   "cell_type": "code",
   "execution_count": null,
   "id": "1987a3b5-2c8e-4007-bc4b-95597f753668",
   "metadata": {
    "tags": []
   },
   "outputs": [],
   "source": [
    "retornos = df_retornos.iloc[-1]\n",
    "retornos = retornos.sort_values(ascending=False)"
   ]
  },
  {
   "cell_type": "code",
   "execution_count": null,
   "id": "8793c5a6-00ae-43df-8405-1945f7466ccc",
   "metadata": {
    "tags": []
   },
   "outputs": [],
   "source": [
    "retornos.plot.bar(figsize=(12,6));"
   ]
  },
  {
   "cell_type": "markdown",
   "id": "a0e52b54-99b1-4e01-9ff7-7ba6e654bbec",
   "metadata": {
    "tags": []
   },
   "source": [
    "# <font color='navygray'>ALGORITMO BASADO EN BANDAS DE BOLLINGER</font>"
   ]
  },
  {
   "cell_type": "markdown",
   "id": "da0c51cc-26af-4965-9d93-f94af5054d35",
   "metadata": {},
   "source": [
    "La técnica fue desarrollada por John Bollinger.  Y consiste en colocar una banda superior y una ineferior alrededor de un promedio móvil.  Por lo general el promedio móvil de las Bandas de Bollinger, tiene una ventana de 20 días.  La distancia entre las bandas y el promedio móvil son dos desviaciones estándar o  $2\\sigma$.  Al utilizar $2\\sigma$ nos aseguramos que el $95%$ de los datos de los precios están entre las dos bandas.  Se concidera que el precio de la acción está sobrevaluado, cuando toca la banda superior y subvaluado cuando toca la banda inferior."
   ]
  },
  {
   "cell_type": "markdown",
   "id": "12cd4f15-f27e-4e1e-a1cd-444815504b08",
   "metadata": {},
   "source": [
    "## <font color='navygray'>Estrategia básica de las Bandas de Bollinger</font>"
   ]
  },
  {
   "cell_type": "markdown",
   "id": "54c8a0ee-fa1e-46a5-9b1f-4678ecbd7b21",
   "metadata": {},
   "source": [
    "La estrategia más básica es comprar cuando el mercado está subvaluado y vender cuando está sobrevaluado.  En otras palabras, comprar cuando el precio de cierre toca la banda inferior $-2\\sigma$ y vender cuando toca la banda superior $+2\\sigma$."
   ]
  },
  {
   "cell_type": "code",
   "execution_count": null,
   "id": "2ebac115-2757-450a-913a-6a67f9038c95",
   "metadata": {},
   "outputs": [],
   "source": []
  },
  {
   "cell_type": "markdown",
   "id": "d3358542-e762-4fd6-860c-edbe2d115fc1",
   "metadata": {},
   "source": [
    "## <font color='navygray'>Calcular el promedio móvil de 20 días y las líneas de $\\pm2\\sigma$</font>"
   ]
  },
  {
   "cell_type": "code",
   "execution_count": null,
   "id": "83e864c9-dab7-4e48-9920-809a4d1b9f17",
   "metadata": {},
   "outputs": [],
   "source": []
  },
  {
   "cell_type": "markdown",
   "id": "2d64b481-474c-4bc2-96af-7a0d9a4f5d4a",
   "metadata": {},
   "source": [
    "## <font color='navygray'>Visualizar el precio de cierre, el PM20 días y las líneas de $\\pm2\\sigma$</font>"
   ]
  },
  {
   "cell_type": "markdown",
   "id": "a665055a-3cfe-4152-adb1-549fc68b0ccf",
   "metadata": {},
   "source": [
    "La función \"*__fill_between__*\" de MatPlotLib, genera un sombreado entre dos valores.  Necesitamos especificar los argumentos \"*__color__*\" y \"*__alpha__*.  Este último acepta valores entre 0 y 1 que mide el nivel de opacidad del \"relleno\"."
   ]
  },
  {
   "cell_type": "markdown",
   "id": "f76d58f2-1d54-40a3-8514-3db9b9b89643",
   "metadata": {},
   "source": [
    "## <font color='navygray'>Calcular posición en el mercado</font>"
   ]
  },
  {
   "cell_type": "markdown",
   "id": "ea725969-ab80-4e42-8836-ae9fe0d0ee19",
   "metadata": {},
   "source": [
    "* Long si PC < $-2\\sigma$ del promedio móvil\n",
    "* Short si PC > $+2\\sigma$ del promedio móvil\n",
    "* Y las posiciones en el \"in between\"?"
   ]
  },
  {
   "cell_type": "markdown",
   "id": "194ff7de-dc3d-4ec6-a7c9-ff2d2f9b4e98",
   "metadata": {},
   "source": [
    "#### <font color='navygray'>1. Crear columna nueva</font>"
   ]
  },
  {
   "cell_type": "code",
   "execution_count": null,
   "id": "54ae55cc-645c-49b2-a4ed-fd04c45d5c2e",
   "metadata": {},
   "outputs": [],
   "source": []
  },
  {
   "cell_type": "markdown",
   "id": "ee9b79f1-4be7-4bb5-b27a-db0be2322ead",
   "metadata": {},
   "source": [
    "#### <font color='navygray'>2. Evaluar si el precio de cierre cruza $+2\\sigma$</font>"
   ]
  },
  {
   "cell_type": "code",
   "execution_count": null,
   "id": "eaec3a26-a08e-49d5-81b7-2c1bc8c335b5",
   "metadata": {},
   "outputs": [],
   "source": []
  },
  {
   "cell_type": "markdown",
   "id": "443f46ca-d12a-42c5-b59a-cf668dd02238",
   "metadata": {},
   "source": [
    "#### <font color='navygray'>3. Evaluar si el precio de cierre cruza $-2\\sigma$</font>"
   ]
  },
  {
   "cell_type": "code",
   "execution_count": null,
   "id": "7414aa97-92cf-427d-89e3-841a49012411",
   "metadata": {},
   "outputs": [],
   "source": []
  },
  {
   "cell_type": "markdown",
   "id": "364684c9-6391-44ef-9b83-f14770373231",
   "metadata": {},
   "source": [
    "#### <font color='navygray'>4. Cambiar todos los **NaN** a la señal inmediata anterior</font>"
   ]
  },
  {
   "cell_type": "code",
   "execution_count": null,
   "id": "e240276c-f5b3-4930-a9fa-1d67394e3d2e",
   "metadata": {},
   "outputs": [],
   "source": []
  },
  {
   "cell_type": "markdown",
   "id": "0045c914-8a30-4d1d-91a4-b59085e6be90",
   "metadata": {},
   "source": [
    "## <font color='navygray'>BackTesting</font>"
   ]
  },
  {
   "cell_type": "code",
   "execution_count": null,
   "id": "b00c73f6-2269-4527-bd28-f5d58890cb65",
   "metadata": {},
   "outputs": [],
   "source": []
  },
  {
   "cell_type": "markdown",
   "id": "bcb95c1d-4447-494c-b69b-eeb19673a793",
   "metadata": {},
   "source": [
    "### <font color='navygray'>Balance y caidas</font>"
   ]
  },
  {
   "cell_type": "code",
   "execution_count": null,
   "id": "7fb80718-10dd-4dfa-88fb-abc3e8b2cd68",
   "metadata": {},
   "outputs": [],
   "source": []
  },
  {
   "cell_type": "markdown",
   "id": "d80254ed-581a-4122-8b39-a1b0c5d2a317",
   "metadata": {},
   "source": [
    "### <font color='navygray'>Balance: Perdidas</font>"
   ]
  },
  {
   "cell_type": "markdown",
   "id": "ed6b5a35-3b0d-41d1-aed3-773ef4143013",
   "metadata": {},
   "source": [
    "### Encontrar pérdida máxima"
   ]
  },
  {
   "cell_type": "markdown",
   "id": "3c7ddade-0402-409c-b7d4-cf9448a68557",
   "metadata": {},
   "source": [
    "#### Identificar la mayor perdida"
   ]
  },
  {
   "cell_type": "code",
   "execution_count": null,
   "id": "571bfada-73c3-4e9e-ba5a-421588f49756",
   "metadata": {},
   "outputs": [],
   "source": []
  },
  {
   "cell_type": "markdown",
   "id": "15d2121b-b9e1-4db6-90bf-9375551a0d68",
   "metadata": {},
   "source": [
    "#### Encontrar fecha"
   ]
  },
  {
   "cell_type": "code",
   "execution_count": null,
   "id": "13a3b32a-489f-4c61-809a-0f78097b6b4d",
   "metadata": {},
   "outputs": [],
   "source": []
  },
  {
   "cell_type": "markdown",
   "id": "d4e38ae0-eaf0-4ce4-b39c-f3df761f9710",
   "metadata": {},
   "source": [
    "#### Identificar valor del pico máximo en la fecha de la mayor perdida"
   ]
  },
  {
   "cell_type": "code",
   "execution_count": null,
   "id": "0fccfb76-f2a1-4910-b70b-610ac7badda5",
   "metadata": {},
   "outputs": [],
   "source": []
  },
  {
   "cell_type": "markdown",
   "id": "a85fa74e-4d0c-4d26-85f2-9b4732908d17",
   "metadata": {},
   "source": [
    "#### Identificar balance en la fecha de la mayor pérdida"
   ]
  },
  {
   "cell_type": "code",
   "execution_count": null,
   "id": "2c00d01c-35da-433b-94d4-f1ab7edab0ca",
   "metadata": {},
   "outputs": [],
   "source": []
  }
 ],
 "metadata": {
  "kernelspec": {
   "display_name": "Python 3 (ipykernel)",
   "language": "python",
   "name": "python3"
  },
  "language_info": {
   "codemirror_mode": {
    "name": "ipython",
    "version": 3
   },
   "file_extension": ".py",
   "mimetype": "text/x-python",
   "name": "python",
   "nbconvert_exporter": "python",
   "pygments_lexer": "ipython3",
   "version": "3.11.4"
  }
 },
 "nbformat": 4,
 "nbformat_minor": 5
}

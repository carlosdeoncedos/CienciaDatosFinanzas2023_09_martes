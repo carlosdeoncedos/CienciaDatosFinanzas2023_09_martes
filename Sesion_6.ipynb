{
 "cells": [
  {
   "cell_type": "markdown",
   "id": "94e60817-358b-4bcf-8dce-0029a823e3ef",
   "metadata": {},
   "source": [
    "# <font color='#2B17B0'>CIENCIA DE DATOS APLICADA A FINANZAS</font>\n",
    "Sesión 6, 2023-10-16/17<br>\n",
    "Carlos Crespo Elizondo<br>\n",
    "EGADE BUSINESS SCHOOL"
   ]
  },
  {
   "cell_type": "markdown",
   "id": "50928a3b-646f-4878-9656-a845015b3b00",
   "metadata": {},
   "source": [
    "# <font color='#2B17B0'>Librerías a importar</font>"
   ]
  },
  {
   "cell_type": "markdown",
   "id": "2606cb9e-2509-4314-a883-6b6004180a92",
   "metadata": {
    "tags": []
   },
   "source": [
    "# <font color='#2B17B0'>Indice de Precios y Cotizaciones - \"IPC\" S&P BMV -</font>\n"
   ]
  },
  {
   "cell_type": "markdown",
   "id": "16a6831b-c384-4f2a-b0aa-12a30562a39c",
   "metadata": {},
   "source": [
    "> _\"El S&P/BMV IPC busca medir el desempeño de las acciones de mayor tamaño y liquidez listadas en la BMV. Su objetivo es proporcionar un índice amplio, representativo, que abarque el mercado bursátil mexicano. Los componentes del índice son ponderados por capitalización de mercado modificada, sujetos a requisitos de diversificación.\"_<br><br>https://www.spglobal.com/spdji/es/indices/equity/sp-bmv-ipc/#overview\n"
   ]
  },
  {
   "cell_type": "markdown",
   "id": "ad62961c-6475-4298-a458-4355a373e05d",
   "metadata": {},
   "source": [
    "### Universo\n",
    "> \"_Los constituyentes deben de ser acciones listadas en la BMV, excluyendo los Fideicomisos de Inversión en Bienes Raíces (FIBRAS) y los Fideicomisos hipotecarios._\""
   ]
  },
  {
   "cell_type": "markdown",
   "id": "3bad322d-08fc-43a6-9c0a-91e03ce73080",
   "metadata": {},
   "source": [
    "### Historial de Operación\n",
    "> _\"Deben de cumplir con el siguiente criterio:\"_\n",
    "> * Las acciones deben de tener un historial de negociación por lo menos de tres meses\n",
    "> * Las acciones deberion de haber operado por lo menos en el 95% de los días de los últimos seis meses\n",
    "> * Si las acciones tienen menos de seis meses de historial, se aplica al 95% de los días operados"
   ]
  },
  {
   "cell_type": "markdown",
   "id": "5d4d64f8-9bfe-4da5-8c56-d3cf537a3266",
   "metadata": {},
   "source": [
    "|Emisora|Ticker|Ticker Y!F|\n",
    "|:-|:-|:-|\n",
    "|\"Indice de Precios y Cotizaciones\"|IPC|^MXX|\n",
    "|Alfa A|ALFAA|ALFAA.MX|\n",
    "|Alsea A|ALSEA|ALSEA.MX|\n",
    "|America Movil  B|AMXB|AMXB.MX| \n",
    "|Arca Continental|AC|AC.MX| \n",
    "|Banco del Bajio|BBAJIOO|BBAJIOO.MX| \n",
    "|Becle |CUERVO|CUERVO.MX| \n",
    "|Bolsa Mexicana de Valores |BOLSAA|BOLSAA.MX| \n",
    "|Cemex CPO|CEMEXCPO|CEMEXCPO.MX| \n",
    "|Coca-Cola Femsa  UBL|KOFUBL|KOFUBL.MX| \n",
    "|Controladora Vuela Compania de Aviacion |VOLARA|VOLARA.MX| \n",
    "|Corporacion Inmobiliaria VestaB. |VESTA|VESTA.MX| \n",
    "|El Puerto de Liverpool |LIVEPOLC-1|LIVEPOLC-1.MX| \n",
    "|Fomento Economico Mexicano |FEMSAUBD|FEMSAUBD.MX| \n",
    "|Genomma Lab Internacional |LABB|LABB.MX| \n",
    "|Gentera |GENTERA|GENTERA.MX| \n",
    "|Gruma SAB B|GRUMAB|GRUMAB.MX| \n",
    "|Grupo Aeroportuario del Centro NorteB. |OMAB|OMAB.MX| \n",
    "|Grupo Aeroportuario del PacificoB. |GAPB|GAPB.MX| \n",
    "|Grupo Aeroportuario del Sureste  B|ASURB|ASURB.MX| \n",
    "|Grupo Bimbo S.A.B.|BIMBOA|BIMBOA.MX| \n",
    "|Grupo Carso |GCARSOA1|GCARSOA1.MX| \n",
    "|Grupo Cementos de Chihuahua |GCC|GCC.MX| \n",
    "|Grupo Elektra |ELEKTRA|ELEKTRA.MX| \n",
    "|Grupo Financiero Banorte O|GFNORTEO|GFNORTEO.MX| \n",
    "|Grupo Financiero Inbursa O|GFINBURO|GFINBURO.MX| \n",
    "|Grupo Mexico  B|GMEXICOB|GMEXICOB.MX| \n",
    "|Grupo Televisa  CPO|TLEVISACPO|TLEVISACPO.MX| \n",
    "|Industrias Penoles|PE&OLES|PE&OLES.MX| \n",
    "|Kimberly Clark de Mexico  A|KIMBERA|KIMBERA.MX| \n",
    "|Megacable Holdings |MEGACPO|MEGACPO.MX| \n",
    "|ORBIA ADVANCE CORPORATION |ORBIA|ORBIA.MX| \n",
    "|Promotora y Operadora de Infraestructura |PINFRA|PINFRA.MX| \n",
    "|Qualitas Controladora|Q|Q.MX| \n",
    "|Regional |RA|RA.MX| \n",
    "|Walmart de Mexico |WALMEX|WALMEX.MX|"
   ]
  },
  {
   "cell_type": "markdown",
   "id": "bac3e763-061e-446a-abc2-01e693abd548",
   "metadata": {
    "tags": []
   },
   "source": [
    "# <font color='#2B17B0'>Precios Yahoo Finance</font>"
   ]
  },
  {
   "cell_type": "markdown",
   "id": "c036020a-5a3b-4464-82d6-9448e546706e",
   "metadata": {},
   "source": [
    "### Como obtener los precios de Y!Finance?"
   ]
  },
  {
   "cell_type": "markdown",
   "id": "059ecef2-6dfa-4daa-86f5-1dc25ffa9299",
   "metadata": {
    "tags": []
   },
   "source": [
    "## <font color='#2B17B0'>UNIX Epoch Time</font>\n"
   ]
  },
  {
   "cell_type": "markdown",
   "id": "cf56712e-b27f-4a01-92de-4e59c3d9ae40",
   "metadata": {},
   "source": [
    "> _\"Son los segundos que han pasado a partir de las 0:00:00hrs del 1 de enero, 1970\"_"
   ]
  },
  {
   "cell_type": "markdown",
   "id": "b4d22a11-5cc7-45be-ab40-091ef8d5bbbc",
   "metadata": {},
   "source": [
    "### Importar librería datetime"
   ]
  },
  {
   "cell_type": "code",
   "execution_count": null,
   "id": "d1b4b79f-7bd5-46ef-bd26-7be3c5475b10",
   "metadata": {
    "tags": []
   },
   "outputs": [],
   "source": [
    "import datetime"
   ]
  },
  {
   "cell_type": "markdown",
   "id": "56b7f452-a4bd-4eb0-acd0-d3eef0a39b54",
   "metadata": {},
   "source": [
    "### Epoch 0"
   ]
  },
  {
   "cell_type": "code",
   "execution_count": null,
   "id": "29de0c3f-2f38-4915-bcba-8268ef1febe1",
   "metadata": {},
   "outputs": [],
   "source": []
  },
  {
   "cell_type": "markdown",
   "id": "3f69ff8d-258b-4de2-b726-982533dbf861",
   "metadata": {},
   "source": [
    "### Comparar los timestamps de los links"
   ]
  },
  {
   "cell_type": "code",
   "execution_count": null,
   "id": "8739dd06-9f5f-4533-bdad-1ac1baf16bff",
   "metadata": {},
   "outputs": [],
   "source": []
  },
  {
   "cell_type": "markdown",
   "id": "3b68bf20-3fba-46ef-9db9-8c5d44447ad3",
   "metadata": {},
   "source": [
    "### Tiempo Universal Coordinado / Coordinated Universal Time (UTC): Stándard de tiempo en el mundo\n"
   ]
  },
  {
   "cell_type": "markdown",
   "id": "c797e1f1-9506-452e-b5ce-105945c66a37",
   "metadata": {},
   "source": [
    "UTC es un estándar de tiempo utilizado para sincronizar/coordinar los centros de tiempo alrededor del mundo.  Se utiliza el promedio de dos componentes:\n",
    "1. Hora Atómica Internacional (**TAI**):  Es una escala de tiempo que combina los resultados de 400 relojes atómicos de gran precisión alrededor del mundo\n",
    "1. Hora Universal (**UT1**):  También conocido como tiempo astronómico o solar referente a la rotación de la tierra.  Compara el paso marcado por **TAI** y la duración actual de un día en la tierra."
   ]
  },
  {
   "cell_type": "markdown",
   "id": "8097eb43-adf8-4656-a352-2e92add2c665",
   "metadata": {},
   "source": [
    "### UTC es un estándard no una zona horaria\n",
    "GMT es la Zona Horaria de Greenwich.  "
   ]
  },
  {
   "cell_type": "markdown",
   "id": "58f7e7e8-27e5-4f86-ac38-dd30e126fd41",
   "metadata": {},
   "source": [
    "## <font color='#2B17B0'>Crear función para obtener precios de acciones</font>\n"
   ]
  },
  {
   "cell_type": "code",
   "execution_count": null,
   "id": "973515e8-8d2e-461a-9e38-2cb34ecf4223",
   "metadata": {},
   "outputs": [],
   "source": []
  },
  {
   "cell_type": "markdown",
   "id": "194a2d43-9c02-4e87-8c82-88c8e16f8e87",
   "metadata": {},
   "source": [
    "## Utilizar f String"
   ]
  },
  {
   "cell_type": "markdown",
   "id": "94e5242b-84fd-41b6-903f-4c8d33e985d0",
   "metadata": {},
   "source": [
    "### Fechas a Epoch Timestamp"
   ]
  },
  {
   "cell_type": "code",
   "execution_count": null,
   "id": "fac1e799-4a82-4625-ab59-1b51f5871257",
   "metadata": {},
   "outputs": [],
   "source": []
  },
  {
   "cell_type": "markdown",
   "id": "4b421c92-5536-469a-95b4-a3704c8a1a8a",
   "metadata": {},
   "source": [
    "### Definir variable `accion`"
   ]
  },
  {
   "cell_type": "code",
   "execution_count": null,
   "id": "58e609e4-7c4e-4ca6-ae41-b6b06fa88ca2",
   "metadata": {},
   "outputs": [],
   "source": []
  },
  {
   "cell_type": "markdown",
   "id": "df8e4483-3acc-4726-be20-df53eaee4f47",
   "metadata": {},
   "source": [
    "### Indexar columna `Date`"
   ]
  },
  {
   "cell_type": "code",
   "execution_count": null,
   "id": "13adc8e7-9849-4404-8822-8ec836d48ea4",
   "metadata": {},
   "outputs": [],
   "source": []
  },
  {
   "cell_type": "markdown",
   "id": "3cc425de-1bb9-4bf1-9e42-2e88fd80e564",
   "metadata": {},
   "source": [
    "## Función `precios`"
   ]
  },
  {
   "cell_type": "markdown",
   "id": "8a33656f-ab52-4374-a3ee-3e5431234a7e",
   "metadata": {},
   "source": [
    "## Guardar función en nuestra librería y recargarlas en automático:"
   ]
  },
  {
   "cell_type": "code",
   "execution_count": null,
   "id": "02cfe64c-e859-4586-9b4b-8c1f2323faa4",
   "metadata": {},
   "outputs": [],
   "source": []
  },
  {
   "cell_type": "markdown",
   "id": "fc92b2d3-133c-4e3c-b0a4-565109bfb1dd",
   "metadata": {
    "tags": []
   },
   "source": [
    "## <font color='#2B17B0'>Retornos logarítmicos</font>\n"
   ]
  },
  {
   "cell_type": "markdown",
   "id": "978d39da-9d9e-4459-90d1-fbc4756d8bf4",
   "metadata": {},
   "source": [
    "> _En el trading algorítmico, la precisión y consistencia determinan el éxito. Los retornos logarítmicos son preferidos porque brindan ventajas significativas al analizar rendimientos a través de diversos períodos_"
   ]
  },
  {
   "cell_type": "markdown",
   "id": "96924d2c-8f9c-443c-b270-74ac5efa0873",
   "metadata": {},
   "source": [
    "* __Aditividad Temporal__: Los retornos logarítmicos son aditivos en el tiempo. puedes sumarlos para obtener el retorno logarítmico total durante todo el período. Esto no es el caso con los retornos algebraicos.\n",
    "* __Menor Varianza__:tienden a tener una varianza menor que los retornos algebraicos, lo que los hace más estables para el análisis estadístico.\n",
    "* __Distribución Normal__: Para muchos modelos financieros, se supone que los retornos se distribuyen de manera normal. Los retornos logarítmicos tienen más probabilidades de exhibir este comportamiento en comparación con los retornos algebraicos, especialmente para activos con oscilaciones significativas de precios.\n",
    "* __Conveniencia Matemática__: Al trabajar con productos y proporciones (comunes en modelos financieros), los retornos logarítmicos simplifican los cálculos, especialmente al usar herramientas matemáticas como el movimiento browniano geométrico en el modelo Black-Scholes."
   ]
  },
  {
   "cell_type": "code",
   "execution_count": null,
   "id": "b5a2cc81-c18e-4a91-ade3-6aa04c57d714",
   "metadata": {},
   "outputs": [],
   "source": []
  },
  {
   "cell_type": "markdown",
   "id": "0edabe6f-5b16-4909-85d3-f95829bd1209",
   "metadata": {},
   "source": [
    "## Comparar 2 o más acciones"
   ]
  },
  {
   "cell_type": "markdown",
   "id": "9deccbad-16bb-4333-9d3b-456152b69306",
   "metadata": {
    "tags": []
   },
   "source": [
    "### Crear DataFrame con 2 o más precios de cierre de diferentes acciones"
   ]
  },
  {
   "cell_type": "code",
   "execution_count": null,
   "id": "5996a0d7-edb6-48d4-858c-8c5a305c671a",
   "metadata": {},
   "outputs": [],
   "source": []
  },
  {
   "cell_type": "markdown",
   "id": "0144df3e-4d44-4274-8d00-443814d1d698",
   "metadata": {},
   "source": [
    "### Normalizado de series de tiempo: Comparar 2 o más acciones"
   ]
  },
  {
   "cell_type": "code",
   "execution_count": null,
   "id": "cb31426b-c628-4942-9a39-a6e4bd95cefd",
   "metadata": {},
   "outputs": [],
   "source": []
  },
  {
   "cell_type": "markdown",
   "id": "2ba3438b-f280-4e78-ae1a-39956d0a2a75",
   "metadata": {
    "tags": []
   },
   "source": [
    "## Algoritmo Promedios Móviles"
   ]
  },
  {
   "cell_type": "markdown",
   "id": "cd1ed107-3f7a-4116-b4c5-4a4d635f815b",
   "metadata": {
    "tags": []
   },
   "source": [
    "Un promedio móvil es una técnica que calcula el promedio de un conjunto de datos a lo largo de un período específico, que se actualiza constantemente a medida que pasa el tiempo. Por ejemplo, en el caso de los precios de cierre de una acción, un promedio móvil de 20 días calcula el promedio de los precios de cierre de los últimos 20 días. Con cada día que pasa, se elimina el dato correspondiente al día más antiguo de los 20 y se incorpora el precio del día más reciente. De esta forma, el promedio móvil siempre refleja el precio promedio de las últimos 20 días.<br><br>"
   ]
  },
  {
   "cell_type": "code",
   "execution_count": null,
   "id": "e2650c3c-df38-4f22-b878-2e439401bc1e",
   "metadata": {},
   "outputs": [],
   "source": []
  },
  {
   "cell_type": "markdown",
   "id": "d2510f82-1ff7-4040-af08-a4d78f5ef6b2",
   "metadata": {},
   "source": [
    "### Cálculo de los promedios móviles"
   ]
  },
  {
   "cell_type": "markdown",
   "id": "d48d54c0-00dd-45f5-9b4b-99247551b3c7",
   "metadata": {},
   "source": [
    "Referencia sobre la función `rolling` de pandas:\n",
    "https://pandas.pydata.org/docs/reference/api/pandas.DataFrame.rolling.html"
   ]
  },
  {
   "cell_type": "code",
   "execution_count": null,
   "id": "872032b7-7a13-4d8e-abc2-32f330185d5c",
   "metadata": {},
   "outputs": [],
   "source": []
  },
  {
   "cell_type": "markdown",
   "id": "976af034-8884-418c-ab71-40477b66ab71",
   "metadata": {},
   "source": [
    "### Calcular posicion en el mercado"
   ]
  },
  {
   "cell_type": "markdown",
   "id": "4a5fa7e9-b65b-4ebd-b3ba-0fc053d9cc55",
   "metadata": {},
   "source": [
    "Ventas en corto permitidas:\n",
    "La estrategia consiste en tomar posiciones \"long\" o \"short\" al cruce de los PMs:\n",
    "* Long: PM1 > PM2 $\\longrightarrow$ __1__\n",
    "* Short: PM1 < PM2 $\\longrightarrow$ __-1__\n",
    "\n",
    "Ventas en corto no permitidas:\n",
    "* Long: PM1 > PM2 $\\longrightarrow$ __1__\n",
    "* Out:   PM1 < PM2 $\\longrightarrow$ **0**\n",
    "\n",
    "El utilizar números nos permite:\n",
    "* Visualizar posición en el mercado de acuerdo a los crueces de lospromedios móviles\n",
    "* Calcular los retornos de de la estrategia"
   ]
  },
  {
   "cell_type": "markdown",
   "id": "9d76e893-bb0d-41cd-90e2-87b172a3c1c0",
   "metadata": {
    "tags": []
   },
   "source": [
    "#### Cálculo de posición del mercado utilizando ventas en corto"
   ]
  },
  {
   "cell_type": "code",
   "execution_count": null,
   "id": "54dd5577-9b6a-4e92-8c34-983b4891e979",
   "metadata": {},
   "outputs": [],
   "source": []
  },
  {
   "cell_type": "markdown",
   "id": "43bdfc13-01e7-4c86-90fd-f252969885a7",
   "metadata": {},
   "source": [
    "Referencia sobre función `where` de numpy:\n",
    "https://numpy.org/doc/stable/reference/generated/numpy.where.html"
   ]
  },
  {
   "cell_type": "markdown",
   "id": "a7aa5a4e-b135-4628-886f-be672e3b490a",
   "metadata": {
    "tags": []
   },
   "source": [
    "#### <font color='navygray'>Visualizar posiciones en el mercado</font>"
   ]
  },
  {
   "cell_type": "code",
   "execution_count": null,
   "id": "65ded7a9-36ab-466d-a06b-25762eda5824",
   "metadata": {},
   "outputs": [],
   "source": []
  },
  {
   "cell_type": "markdown",
   "id": "ac8d3470-c588-4752-b0ad-daf55972dfa1",
   "metadata": {
    "tags": []
   },
   "source": [
    "### Retornos del mercado Vs Estrategia PMs"
   ]
  },
  {
   "cell_type": "code",
   "execution_count": null,
   "id": "789ff9e2-6b61-413d-b95e-e8308b1aaf78",
   "metadata": {},
   "outputs": [],
   "source": []
  },
  {
   "cell_type": "markdown",
   "id": "154799ac-db20-4836-b3f4-b6696815c098",
   "metadata": {},
   "source": [
    "### Visualizar desempeño"
   ]
  },
  {
   "cell_type": "code",
   "execution_count": null,
   "id": "eb345f1b-490e-4b61-81a3-60bbc682b20b",
   "metadata": {
    "tags": []
   },
   "outputs": [],
   "source": [
    "fig, ax = plt.subplots(figsize=(12,6))\n",
    "\n",
    "ax.plot(df.index, np.exp(df['ret'].cumsum()), label='Retorno mercado')\n",
    "ax.plot(df.index, np.exp(df['ret_estr'].cumsum()), label='Retorno estrategia')\n",
    "\n",
    "ax.set_xlabel('Fecha')\n",
    "ax.set_ylabel('Retorno acumulado')\n",
    "ax.set_title(f'{accion.upper().replace(\".MX\", \"\")}: Estrategia de Promedios Móviles Vs. Mercado')\n",
    "ax.legend();"
   ]
  },
  {
   "cell_type": "markdown",
   "id": "8ee00145-c519-4e53-a671-4ec4caad042c",
   "metadata": {},
   "source": [
    "### <font color='navygray'>Balance monetario</font>"
   ]
  },
  {
   "cell_type": "code",
   "execution_count": null,
   "id": "1b61b029-f793-466d-996f-42024c1e11f8",
   "metadata": {
    "tags": []
   },
   "outputs": [],
   "source": [
    "balance = 100 * (1+ df['ret_estr']).cumprod()"
   ]
  },
  {
   "cell_type": "code",
   "execution_count": null,
   "id": "302d5db5-93f5-45ba-b18f-d2a9cc8562b9",
   "metadata": {
    "scrolled": true,
    "tags": []
   },
   "outputs": [],
   "source": [
    "balance.plot();"
   ]
  },
  {
   "cell_type": "code",
   "execution_count": null,
   "id": "ba863e9b-95fb-4f25-ae66-40c65bd7208b",
   "metadata": {},
   "outputs": [],
   "source": []
  },
  {
   "cell_type": "markdown",
   "id": "4eb4440a-8ac0-4c8f-b8bd-628e227361c4",
   "metadata": {},
   "source": [
    "### Balance: Máximos"
   ]
  },
  {
   "cell_type": "code",
   "execution_count": null,
   "id": "657a2dc8-5317-4b5e-9bad-59d1bad9d2e9",
   "metadata": {
    "tags": []
   },
   "outputs": [],
   "source": [
    "picos = balance.cummax()"
   ]
  },
  {
   "cell_type": "code",
   "execution_count": null,
   "id": "76bd8fa1-4833-43a0-ba62-d05795c32d8d",
   "metadata": {
    "tags": []
   },
   "outputs": [],
   "source": [
    "picos"
   ]
  },
  {
   "cell_type": "code",
   "execution_count": null,
   "id": "7ddac107-a991-43ed-aabe-cbae06ba6e71",
   "metadata": {
    "tags": []
   },
   "outputs": [],
   "source": [
    "fig, ax = plt.subplots(figsize=(12,6))\n",
    "\n",
    "ax.plot(balance.index, balance, label='Balance')\n",
    "ax.plot(picos.index, picos, label='Ganacias máximas')\n",
    "ax.legend()\n",
    "\n",
    "ax.set_xlabel('Fecha')\n",
    "ax.set_ylabel('Balance')\n",
    "ax.set_title(f'{accion.upper().replace(\".MX\", \"\")}: Balance monetario');"
   ]
  },
  {
   "cell_type": "code",
   "execution_count": null,
   "id": "987d3700-9645-4350-92c3-b12012ca1a13",
   "metadata": {},
   "outputs": [],
   "source": []
  },
  {
   "cell_type": "markdown",
   "id": "739b457a-144a-4760-85fc-99d374a33f9f",
   "metadata": {},
   "source": [
    "### Balance: Perdidas"
   ]
  },
  {
   "cell_type": "code",
   "execution_count": null,
   "id": "ea762815-a526-4539-bbc6-c7d11d78cb88",
   "metadata": {
    "tags": []
   },
   "outputs": [],
   "source": [
    "bajadas = (balance - picos) / picos"
   ]
  },
  {
   "cell_type": "code",
   "execution_count": null,
   "id": "4a438753-995e-4d31-9292-98397ed4c37e",
   "metadata": {
    "tags": []
   },
   "outputs": [],
   "source": [
    "bajadas.plot(figsize = (8, 6), title='Perdidas');"
   ]
  },
  {
   "cell_type": "code",
   "execution_count": null,
   "id": "2a3c2b7c-ea2c-4924-a33a-39a415974fff",
   "metadata": {},
   "outputs": [],
   "source": []
  },
  {
   "cell_type": "markdown",
   "id": "af8d8489-47cc-4aa0-8775-d4aca3ded48e",
   "metadata": {},
   "source": [
    "### Encontrar pérdida máxima"
   ]
  },
  {
   "cell_type": "markdown",
   "id": "75fb295a-a332-4eae-ba28-805e706de2e6",
   "metadata": {},
   "source": [
    "Pasos:\n",
    "1. Identificar la mayor pérdida del periodo\n",
    "1. Encontrar la fecha de la mayor pérdida\n",
    "1. Identificar el pico máximo acumulado en la fecha de la mayor perdida\n",
    "1. Identificar el balance en la fecha de la mayor pérdida\n",
    "1. Graficar"
   ]
  },
  {
   "cell_type": "markdown",
   "id": "0c3e0e0e-9b11-4cb0-ab02-bfdcb67139bc",
   "metadata": {},
   "source": [
    "#### Identificar la mayor perdida"
   ]
  },
  {
   "cell_type": "code",
   "execution_count": null,
   "id": "44b55453-183e-4fc2-9be3-4fc13b25266c",
   "metadata": {
    "tags": []
   },
   "outputs": [],
   "source": [
    "mayor_perdida = bajadas.min()\n",
    "mayor_perdida"
   ]
  },
  {
   "cell_type": "code",
   "execution_count": null,
   "id": "eb7b6098-f86e-472c-8793-7f91ba179e7e",
   "metadata": {},
   "outputs": [],
   "source": []
  },
  {
   "cell_type": "markdown",
   "id": "f18a95fb-fb44-45c1-a88f-3d9a20427a04",
   "metadata": {},
   "source": [
    "#### Encontrar fecha"
   ]
  },
  {
   "cell_type": "code",
   "execution_count": null,
   "id": "bd2b0735-3bd8-4fd8-8d02-03f490576d86",
   "metadata": {
    "tags": []
   },
   "outputs": [],
   "source": [
    "fecha_perdida = bajadas.idxmin()\n",
    "fecha_perdida"
   ]
  },
  {
   "cell_type": "code",
   "execution_count": null,
   "id": "4c0a8ded-9137-4f17-8204-43d7e269b0ce",
   "metadata": {},
   "outputs": [],
   "source": []
  },
  {
   "cell_type": "markdown",
   "id": "2eb4e073-ad97-4828-9f21-11d84b739839",
   "metadata": {},
   "source": [
    "#### Identificar valor del pico máximo en la fecha de la mayor perdida"
   ]
  },
  {
   "cell_type": "code",
   "execution_count": null,
   "id": "2486b207-6ed7-469e-9207-da07f814da40",
   "metadata": {
    "tags": []
   },
   "outputs": [],
   "source": [
    "maximo = picos[bajadas.idxmin()]\n",
    "maximo"
   ]
  },
  {
   "cell_type": "code",
   "execution_count": null,
   "id": "d5f8aa80-b948-4c88-9435-a6128f559213",
   "metadata": {},
   "outputs": [],
   "source": []
  },
  {
   "cell_type": "markdown",
   "id": "fb63fc1e-9fd4-47e0-9a7f-52959a17eac6",
   "metadata": {},
   "source": [
    "#### Identificar balance en la fecha de la mayor pérdida"
   ]
  },
  {
   "cell_type": "code",
   "execution_count": null,
   "id": "620cc063-539e-4810-9325-6d1cf4fcf972",
   "metadata": {
    "tags": []
   },
   "outputs": [],
   "source": [
    "balance_perdida = balance[bajadas.idxmin()]\n",
    "balance_perdida"
   ]
  },
  {
   "cell_type": "code",
   "execution_count": null,
   "id": "d99b29ab-9ead-4c3b-88a1-9cdaaa359285",
   "metadata": {
    "tags": []
   },
   "outputs": [],
   "source": [
    "balance_perdida / maximo - 1 "
   ]
  },
  {
   "cell_type": "code",
   "execution_count": null,
   "id": "5b145c0b-96d5-4eef-afca-6573a80dceef",
   "metadata": {
    "tags": []
   },
   "outputs": [],
   "source": [
    "mayor_perdida"
   ]
  },
  {
   "cell_type": "code",
   "execution_count": null,
   "id": "932f1ed6-24e2-485a-b8dd-c92489f47784",
   "metadata": {
    "tags": []
   },
   "outputs": [],
   "source": [
    "fig = plt.figure(figsize = (12, 6))\n",
    "fig.suptitle(f'Caida máxima de {(mayor_perdida * 100).round(2)}% con fecha de \n",
    "             {fecha_perdida}')\n",
    "balance.plot(title = (f'Péridad: -${(maximo - balance_perdida).round(2)}'))\n",
    "picos.plot()\n",
    "\n",
    "plt.vlines(x=fecha_perdida, ymin=balance_perdida, ymax=maximo, color='r')\n",
    "plt.text(fecha_perdida, (maximo - balance_perdida*.3), \n",
    "         f' {(maximo - balance_perdida).round(2)}', c='r')\n",
    ";"
   ]
  },
  {
   "cell_type": "code",
   "execution_count": null,
   "id": "bf5a7637-a6e6-4ad9-94b0-106ddf0a5682",
   "metadata": {},
   "outputs": [],
   "source": []
  },
  {
   "cell_type": "markdown",
   "id": "00f60973-3346-4f98-8584-d9a696c2c524",
   "metadata": {
    "tags": []
   },
   "source": [
    "## <font color='navygray'>Cual es la mejor combinación para los promedios móviles?</font>"
   ]
  },
  {
   "cell_type": "code",
   "execution_count": null,
   "id": "88e32fe9-54a9-45bf-a995-495467cf52b0",
   "metadata": {
    "tags": []
   },
   "outputs": [],
   "source": [
    "import itertools\n",
    "\n",
    "for i, j in itertools.combinations([1,2,3,4], r=2):\n",
    "    print(i, j)"
   ]
  },
  {
   "cell_type": "code",
   "execution_count": null,
   "id": "733f0cf3-c57f-485a-9f66-c2dd1d4d2e2b",
   "metadata": {
    "tags": []
   },
   "outputs": [],
   "source": [
    "lista_fibonacci = [1, 2, 3, 5, 8, 13, 21, 34, 55, 89, 144, 233, 377]"
   ]
  },
  {
   "cell_type": "code",
   "execution_count": null,
   "id": "4c4a06d5-df90-4506-8dbf-1d07b0c3f6ae",
   "metadata": {
    "tags": []
   },
   "outputs": [],
   "source": [
    "df = precios(accion, '2016-01-01')\n",
    "df_retornos = pd.DataFrame(index = df.index)\n",
    "\n",
    "\n",
    "for ventana1, ventana2 in itertools.combinations(lista_fibonacci, r=2):\n",
    "    df_loop = df.copy()\n",
    "    df_loop.drop(['apertura', 'maximo', 'minimo', 'cierre', 'volumen'], \n",
    "                 axis = 1, inplace=True)\n",
    "    df_loop.dropna(inplace=True)\n",
    "\n",
    "    df_loop['ret'] = np.log(df_loop['cierre_ajustado'] / \n",
    "                            df_loop['cierre_ajustado'].shift(1))\n",
    "    df_loop['pm1'] = df_loop['cierre_ajustado'].rolling(ventana1).mean()\n",
    "    df_loop['pm2'] = df_loop['cierre_ajustado'].rolling(ventana2).mean()\n",
    "    \n",
    "    df_loop['posicion'] = np.where(df_loop['pm1'] > df_loop['pm2'], long, short)\n",
    "    # df_loop['RetEstr'] = df_loop['ret'] * df_loop['posicion'].shift(1)\n",
    "    df_loop['RetEstr'] = (df_loop['ret'] * df_loop['posicion'].shift(1)).cumsum()\n",
    "    df_retornos[f'{ventana1}-{ventana2}'] = df_loop['RetEstr']\n",
    "    del df_loop\n",
    "\n",
    "df_retornos.dropna(inplace = True)"
   ]
  },
  {
   "cell_type": "code",
   "execution_count": null,
   "id": "3b9cfb5b-18fc-422b-914a-7eb1471a7c0a",
   "metadata": {
    "tags": []
   },
   "outputs": [],
   "source": [
    "df_retornos.plot(figsize=(12,6), legend=False);"
   ]
  },
  {
   "cell_type": "code",
   "execution_count": null,
   "id": "1b9ad7fd-b26f-42c0-b5fd-daae99d75bd8",
   "metadata": {
    "tags": []
   },
   "outputs": [],
   "source": [
    "max(df_retornos.iloc[-1])"
   ]
  },
  {
   "cell_type": "code",
   "execution_count": null,
   "id": "fab74a41-c558-4cac-b17e-0dc9c9284b8a",
   "metadata": {
    "tags": []
   },
   "outputs": [],
   "source": [
    "df_retornos.idxmax(axis=1).iloc[-1]"
   ]
  },
  {
   "cell_type": "code",
   "execution_count": null,
   "id": "bd5e79f2-f3ad-4b98-a0bb-ca439b3cf302",
   "metadata": {
    "tags": []
   },
   "outputs": [],
   "source": [
    "df_retornos['3-144'].iloc[-1]"
   ]
  },
  {
   "cell_type": "code",
   "execution_count": null,
   "id": "1987a3b5-2c8e-4007-bc4b-95597f753668",
   "metadata": {
    "tags": []
   },
   "outputs": [],
   "source": [
    "retornos = df_retornos.iloc[-1]\n",
    "retornos = retornos.sort_values(ascending=False)"
   ]
  },
  {
   "cell_type": "code",
   "execution_count": null,
   "id": "8793c5a6-00ae-43df-8405-1945f7466ccc",
   "metadata": {
    "tags": []
   },
   "outputs": [],
   "source": [
    "retornos.plot.bar(figsize=(12,6));"
   ]
  },
  {
   "cell_type": "markdown",
   "id": "a0e52b54-99b1-4e01-9ff7-7ba6e654bbec",
   "metadata": {
    "tags": []
   },
   "source": [
    "# <font color='navygray'>ALGORITMO BASADO EN BANDAS DE BOLLINGER</font>"
   ]
  },
  {
   "cell_type": "markdown",
   "id": "da0c51cc-26af-4965-9d93-f94af5054d35",
   "metadata": {},
   "source": [
    "La técnica fue desarrollada por John Bollinger.  Y consiste en colocar una banda superior y una ineferior alrededor de un promedio móvil.  Por lo general el promedio móvil de las Bandas de Bollinger, tiene una ventana de 20 días.  La distancia entre las bandas y el promedio móvil son dos desviaciones estándar o  $2\\sigma$.  Al utilizar $2\\sigma$ nos aseguramos que el $95%$ de los datos de los precios están entre las dos bandas.  Se concidera que el precio de la acción está sobrevaluado, cuando toca la banda superior y subvaluado cuando toca la banda inferior."
   ]
  },
  {
   "cell_type": "markdown",
   "id": "12cd4f15-f27e-4e1e-a1cd-444815504b08",
   "metadata": {},
   "source": [
    "## <font color='navygray'>Estrategia básica de las Bandas de Bollinger</font>"
   ]
  },
  {
   "cell_type": "markdown",
   "id": "54c8a0ee-fa1e-46a5-9b1f-4678ecbd7b21",
   "metadata": {},
   "source": [
    "La estrategia más básica es comprar cuando el mercado está subvaluado y vender cuando está sobrevaluado.  En otras palabras, comprar cuando el precio de cierre toca la banda inferior $-2\\sigma$ y vender cuando toca la banda superior $+2\\sigma$."
   ]
  },
  {
   "cell_type": "code",
   "execution_count": null,
   "id": "2ebac115-2757-450a-913a-6a67f9038c95",
   "metadata": {},
   "outputs": [],
   "source": []
  },
  {
   "cell_type": "markdown",
   "id": "d3358542-e762-4fd6-860c-edbe2d115fc1",
   "metadata": {},
   "source": [
    "## <font color='navygray'>Calcular el promedio móvil de 20 días y las líneas de $\\pm2\\sigma$</font>"
   ]
  },
  {
   "cell_type": "code",
   "execution_count": null,
   "id": "83e864c9-dab7-4e48-9920-809a4d1b9f17",
   "metadata": {},
   "outputs": [],
   "source": []
  },
  {
   "cell_type": "markdown",
   "id": "2d64b481-474c-4bc2-96af-7a0d9a4f5d4a",
   "metadata": {},
   "source": [
    "## <font color='navygray'>Visualizar el precio de cierre, el PM20 días y las líneas de $\\pm2\\sigma$</font>"
   ]
  },
  {
   "cell_type": "markdown",
   "id": "a665055a-3cfe-4152-adb1-549fc68b0ccf",
   "metadata": {},
   "source": [
    "La función \"*__fill_between__*\" de MatPlotLib, genera un sombreado entre dos valores.  Necesitamos especificar los argumentos \"*__color__*\" y \"*__alpha__*.  Este último acepta valores entre 0 y 1 que mide el nivel de opacidad del \"relleno\"."
   ]
  },
  {
   "cell_type": "markdown",
   "id": "f76d58f2-1d54-40a3-8514-3db9b9b89643",
   "metadata": {},
   "source": [
    "## <font color='navygray'>Calcular posición en el mercado</font>"
   ]
  },
  {
   "cell_type": "markdown",
   "id": "ea725969-ab80-4e42-8836-ae9fe0d0ee19",
   "metadata": {},
   "source": [
    "* Long si PC < $-2\\sigma$ del promedio móvil\n",
    "* Short si PC > $+2\\sigma$ del promedio móvil\n",
    "* Y las posiciones en el \"in between\"?"
   ]
  },
  {
   "cell_type": "markdown",
   "id": "194ff7de-dc3d-4ec6-a7c9-ff2d2f9b4e98",
   "metadata": {},
   "source": [
    "#### <font color='navygray'>1. Crear columna nueva</font>"
   ]
  },
  {
   "cell_type": "code",
   "execution_count": null,
   "id": "54ae55cc-645c-49b2-a4ed-fd04c45d5c2e",
   "metadata": {},
   "outputs": [],
   "source": []
  },
  {
   "cell_type": "markdown",
   "id": "ee9b79f1-4be7-4bb5-b27a-db0be2322ead",
   "metadata": {},
   "source": [
    "#### <font color='navygray'>2. Evaluar si el precio de cierre cruza $+2\\sigma$</font>"
   ]
  },
  {
   "cell_type": "code",
   "execution_count": null,
   "id": "eaec3a26-a08e-49d5-81b7-2c1bc8c335b5",
   "metadata": {},
   "outputs": [],
   "source": []
  },
  {
   "cell_type": "markdown",
   "id": "443f46ca-d12a-42c5-b59a-cf668dd02238",
   "metadata": {},
   "source": [
    "#### <font color='navygray'>3. Evaluar si el precio de cierre cruza $-2\\sigma$</font>"
   ]
  },
  {
   "cell_type": "code",
   "execution_count": null,
   "id": "7414aa97-92cf-427d-89e3-841a49012411",
   "metadata": {},
   "outputs": [],
   "source": []
  },
  {
   "cell_type": "markdown",
   "id": "364684c9-6391-44ef-9b83-f14770373231",
   "metadata": {},
   "source": [
    "#### <font color='navygray'>4. Cambiar todos los **NaN** a la señal inmediata anterior</font>"
   ]
  },
  {
   "cell_type": "code",
   "execution_count": null,
   "id": "e240276c-f5b3-4930-a9fa-1d67394e3d2e",
   "metadata": {},
   "outputs": [],
   "source": []
  },
  {
   "cell_type": "markdown",
   "id": "0045c914-8a30-4d1d-91a4-b59085e6be90",
   "metadata": {},
   "source": [
    "## <font color='navygray'>BackTesting</font>"
   ]
  },
  {
   "cell_type": "code",
   "execution_count": null,
   "id": "b00c73f6-2269-4527-bd28-f5d58890cb65",
   "metadata": {},
   "outputs": [],
   "source": []
  },
  {
   "cell_type": "markdown",
   "id": "bcb95c1d-4447-494c-b69b-eeb19673a793",
   "metadata": {},
   "source": [
    "### <font color='navygray'>Balance y caidas</font>"
   ]
  },
  {
   "cell_type": "code",
   "execution_count": null,
   "id": "7fb80718-10dd-4dfa-88fb-abc3e8b2cd68",
   "metadata": {},
   "outputs": [],
   "source": []
  },
  {
   "cell_type": "markdown",
   "id": "d80254ed-581a-4122-8b39-a1b0c5d2a317",
   "metadata": {},
   "source": [
    "### <font color='navygray'>Balance: Perdidas</font>"
   ]
  },
  {
   "cell_type": "markdown",
   "id": "ed6b5a35-3b0d-41d1-aed3-773ef4143013",
   "metadata": {},
   "source": [
    "### Encontrar pérdida máxima"
   ]
  },
  {
   "cell_type": "markdown",
   "id": "3c7ddade-0402-409c-b7d4-cf9448a68557",
   "metadata": {},
   "source": [
    "#### Identificar la mayor perdida"
   ]
  },
  {
   "cell_type": "code",
   "execution_count": null,
   "id": "571bfada-73c3-4e9e-ba5a-421588f49756",
   "metadata": {},
   "outputs": [],
   "source": []
  },
  {
   "cell_type": "markdown",
   "id": "15d2121b-b9e1-4db6-90bf-9375551a0d68",
   "metadata": {},
   "source": [
    "#### Encontrar fecha"
   ]
  },
  {
   "cell_type": "code",
   "execution_count": null,
   "id": "13a3b32a-489f-4c61-809a-0f78097b6b4d",
   "metadata": {},
   "outputs": [],
   "source": []
  },
  {
   "cell_type": "markdown",
   "id": "d4e38ae0-eaf0-4ce4-b39c-f3df761f9710",
   "metadata": {},
   "source": [
    "#### Identificar valor del pico máximo en la fecha de la mayor perdida"
   ]
  },
  {
   "cell_type": "code",
   "execution_count": null,
   "id": "0fccfb76-f2a1-4910-b70b-610ac7badda5",
   "metadata": {},
   "outputs": [],
   "source": []
  },
  {
   "cell_type": "markdown",
   "id": "a85fa74e-4d0c-4d26-85f2-9b4732908d17",
   "metadata": {},
   "source": [
    "#### Identificar balance en la fecha de la mayor pérdida"
   ]
  },
  {
   "cell_type": "code",
   "execution_count": null,
   "id": "2c00d01c-35da-433b-94d4-f1ab7edab0ca",
   "metadata": {},
   "outputs": [],
   "source": []
  }
 ],
 "metadata": {
  "kernelspec": {
   "display_name": "Python 3 (ipykernel)",
   "language": "python",
   "name": "python3"
  },
  "language_info": {
   "codemirror_mode": {
    "name": "ipython",
    "version": 3
   },
   "file_extension": ".py",
   "mimetype": "text/x-python",
   "name": "python",
   "nbconvert_exporter": "python",
   "pygments_lexer": "ipython3",
   "version": "3.11.4"
  }
 },
 "nbformat": 4,
 "nbformat_minor": 5
}
